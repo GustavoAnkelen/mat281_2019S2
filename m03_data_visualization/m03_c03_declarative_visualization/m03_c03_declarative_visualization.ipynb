{
 "cells": [
  {
   "cell_type": "markdown",
   "metadata": {
    "slideshow": {
     "slide_type": "slide"
    }
   },
   "source": [
    "<img src=\"https://upload.wikimedia.org/wikipedia/commons/4/47/Logo_UTFSM.png\" width=\"200\" alt=\"utfsm-logo\" align=\"left\"/>\n",
    "\n",
    "# MAT281\n",
    "### Aplicaciones de la Matemática en la Ingeniería"
   ]
  },
  {
   "cell_type": "markdown",
   "metadata": {
    "slideshow": {
     "slide_type": "slide"
    }
   },
   "source": [
    "## Módulo 03\n",
    "## Clase 03: Visualización Declarativa"
   ]
  },
  {
   "cell_type": "markdown",
   "metadata": {
    "slideshow": {
     "slide_type": "slide"
    }
   },
   "source": [
    "## Objetivos\n",
    "\n",
    "* Comprender el estilo de visualización declarativa.\n",
    "* Crear gráficos con la librería declarativa Altair."
   ]
  },
  {
   "cell_type": "markdown",
   "metadata": {
    "slideshow": {
     "slide_type": "subslide"
    }
   },
   "source": [
    "## Contenidos\n",
    "* [Visualización Declarativa](#declarative)\n",
    "* [Altair](#altair)   \n",
    "* [Gráfico a Gráfico](#plot-plot)\n",
    "    - [Gráfico de Barras](#barplot)\n",
    "    - [Gráfico de Líneas](#lineplot)\n",
    "    - [Scatter Plot](#scatter-plot)\n",
    "    - [Gráfico de Barras de Error](#error-bar-plot)\n",
    "    - [Gráficos de Área](#area-charts)\n",
    "    - [Mapa de Calor](#heatmap)\n",
    "    - [Mapas](#maps)"
   ]
  },
  {
   "cell_type": "markdown",
   "metadata": {
    "slideshow": {
     "slide_type": "slide"
    }
   },
   "source": [
    "## Visualización Declarativa\n",
    "<a id='declarative'></a>\n",
    "\n",
    "Es un paradigma de visualización en donde se busca preocuparse de los datos y sus relaciones, más que en detalles sin mayor importancia. Algunas características son:\n",
    "\n",
    "* Se especifica lo que se desea hacer.\n",
    "* Los detalles se determinan automáticamente.\n",
    "* Especificación y Ejecución están separadas.\n",
    "\n",
    "A modo de resumen, se refiere a construir visualizaciones a partir de los siguientes elementos:\n",
    "\n",
    "* _Data_\n",
    "* _Transformation_\n",
    "* _Marks_\n",
    "* _Encoding_\n",
    "* _Scale_\n",
    "* _Guides_"
   ]
  },
  {
   "cell_type": "markdown",
   "metadata": {},
   "source": [
    "Para una visualización declarativa adecuata, los datos deben encontrarse en el formato _*Tidy*_, es decir:\n",
    "\n",
    "* Cada variable corresponde a una columna.\n",
    "* Cada observación corresponde a una fila.\n",
    "* Cada tipo de unidad de observación corresponde a una tabla.\n",
    "\n",
    "Más detalles puedes ser encontrados en el siguiente [link](http://vita.had.co.nz/papers/tidy-data.pdf)."
   ]
  },
  {
   "cell_type": "markdown",
   "metadata": {},
   "source": [
    "Un ejemplo de datos _Tidy_:"
   ]
  },
  {
   "cell_type": "code",
   "execution_count": 1,
   "metadata": {},
   "outputs": [
    {
     "data": {
      "text/html": [
       "<div>\n",
       "<style scoped>\n",
       "    .dataframe tbody tr th:only-of-type {\n",
       "        vertical-align: middle;\n",
       "    }\n",
       "\n",
       "    .dataframe tbody tr th {\n",
       "        vertical-align: top;\n",
       "    }\n",
       "\n",
       "    .dataframe thead th {\n",
       "        text-align: right;\n",
       "    }\n",
       "</style>\n",
       "<table border=\"1\" class=\"dataframe\">\n",
       "  <thead>\n",
       "    <tr style=\"text-align: right;\">\n",
       "      <th></th>\n",
       "      <th>ID</th>\n",
       "      <th>Color</th>\n",
       "      <th>Duración</th>\n",
       "    </tr>\n",
       "  </thead>\n",
       "  <tbody>\n",
       "    <tr>\n",
       "      <td>0</td>\n",
       "      <td>0</td>\n",
       "      <td>Azul</td>\n",
       "      <td>1</td>\n",
       "    </tr>\n",
       "    <tr>\n",
       "      <td>1</td>\n",
       "      <td>1</td>\n",
       "      <td>Rojo</td>\n",
       "      <td>1</td>\n",
       "    </tr>\n",
       "    <tr>\n",
       "      <td>2</td>\n",
       "      <td>2</td>\n",
       "      <td>Azul</td>\n",
       "      <td>3</td>\n",
       "    </tr>\n",
       "    <tr>\n",
       "      <td>3</td>\n",
       "      <td>3</td>\n",
       "      <td>Azul</td>\n",
       "      <td>3</td>\n",
       "    </tr>\n",
       "    <tr>\n",
       "      <td>4</td>\n",
       "      <td>4</td>\n",
       "      <td>Rojo</td>\n",
       "      <td>3</td>\n",
       "    </tr>\n",
       "  </tbody>\n",
       "</table>\n",
       "</div>"
      ],
      "text/plain": [
       "   ID Color  Duración\n",
       "0   0  Azul         1\n",
       "1   1  Rojo         1\n",
       "2   2  Azul         3\n",
       "3   3  Azul         3\n",
       "4   4  Rojo         3"
      ]
     },
     "execution_count": 1,
     "metadata": {},
     "output_type": "execute_result"
    }
   ],
   "source": [
    "import pandas as pd\n",
    "df = pd.DataFrame({\n",
    "                   \"ID\": range(5),\n",
    "                   \"Color\": [\"Azul\", \"Rojo\", \"Azul\", \"Azul\", \"Rojo\"],\n",
    "                   \"Duración\": [1, 1, 3, 3, 3]\n",
    "                  })\n",
    "df.head()"
   ]
  },
  {
   "cell_type": "markdown",
   "metadata": {},
   "source": [
    "Un ejemplo de datos __NO__ _Tidy_"
   ]
  },
  {
   "cell_type": "code",
   "execution_count": 2,
   "metadata": {},
   "outputs": [
    {
     "data": {
      "text/html": [
       "<div>\n",
       "<style scoped>\n",
       "    .dataframe tbody tr th:only-of-type {\n",
       "        vertical-align: middle;\n",
       "    }\n",
       "\n",
       "    .dataframe tbody tr th {\n",
       "        vertical-align: top;\n",
       "    }\n",
       "\n",
       "    .dataframe thead th {\n",
       "        text-align: right;\n",
       "    }\n",
       "</style>\n",
       "<table border=\"1\" class=\"dataframe\">\n",
       "  <thead>\n",
       "    <tr style=\"text-align: right;\">\n",
       "      <th>Color</th>\n",
       "      <th>Azul</th>\n",
       "      <th>Rojo</th>\n",
       "    </tr>\n",
       "    <tr>\n",
       "      <th>ID</th>\n",
       "      <th></th>\n",
       "      <th></th>\n",
       "    </tr>\n",
       "  </thead>\n",
       "  <tbody>\n",
       "    <tr>\n",
       "      <td>0</td>\n",
       "      <td>1.0</td>\n",
       "      <td>NaN</td>\n",
       "    </tr>\n",
       "    <tr>\n",
       "      <td>1</td>\n",
       "      <td>NaN</td>\n",
       "      <td>1.0</td>\n",
       "    </tr>\n",
       "    <tr>\n",
       "      <td>2</td>\n",
       "      <td>3.0</td>\n",
       "      <td>NaN</td>\n",
       "    </tr>\n",
       "    <tr>\n",
       "      <td>3</td>\n",
       "      <td>3.0</td>\n",
       "      <td>NaN</td>\n",
       "    </tr>\n",
       "    <tr>\n",
       "      <td>4</td>\n",
       "      <td>NaN</td>\n",
       "      <td>3.0</td>\n",
       "    </tr>\n",
       "  </tbody>\n",
       "</table>\n",
       "</div>"
      ],
      "text/plain": [
       "Color  Azul  Rojo\n",
       "ID               \n",
       "0       1.0   NaN\n",
       "1       NaN   1.0\n",
       "2       3.0   NaN\n",
       "3       3.0   NaN\n",
       "4       NaN   3.0"
      ]
     },
     "execution_count": 2,
     "metadata": {},
     "output_type": "execute_result"
    }
   ],
   "source": [
    "df.pivot(index=\"ID\", columns=\"Color\", values=\"Duración\")"
   ]
  },
  {
   "cell_type": "markdown",
   "metadata": {},
   "source": [
    "No es _Tidy_ puesto que la variable \"Color\" utiliza más de una columna."
   ]
  },
  {
   "cell_type": "markdown",
   "metadata": {},
   "source": [
    "### Idea: Buenas implementaciones pueden influir en buenas conceptualizaciones."
   ]
  },
  {
   "cell_type": "markdown",
   "metadata": {},
   "source": [
    "![key](http://i.imgur.com/G0dFaFF.png)"
   ]
  },
  {
   "cell_type": "markdown",
   "metadata": {},
   "source": [
    "![hyp](http://i.imgur.com/JdPmESe.png)"
   ]
  },
  {
   "cell_type": "markdown",
   "metadata": {},
   "source": [
    "### Diferencias entre enfoques\n",
    "\n",
    "| Imperativa  | Declarativa | \n",
    "| ------|------------ | \n",
    "| Especificar _cómo_ se debe hacer algo | Especificar _qué_ se quiere hacer |\n",
    "| Especificación y ejecución entrelazadas | Separar especificación de ejecución |\n",
    "| _Colocar un círculo rojo aquí y un círculo azul acá_ | _Mapear `x` como posición e `y` como el color_ |\n"
   ]
  },
  {
   "cell_type": "markdown",
   "metadata": {},
   "source": [
    "### Ejemplo"
   ]
  },
  {
   "cell_type": "markdown",
   "metadata": {},
   "source": [
    "El _Iris dataset_ es un conjunto de datos famoso por ser un buen ejemplo, por lo que nos servirá para mostrar una de las mayores diferencias entre una visualización imperativa (como `matplotlib`) versus una declarativa (como `altair`)."
   ]
  },
  {
   "cell_type": "code",
   "execution_count": 3,
   "metadata": {},
   "outputs": [],
   "source": [
    "import altair as alt\n",
    "from vega_datasets import data  # Una librería con muchos datasets"
   ]
  },
  {
   "cell_type": "code",
   "execution_count": 4,
   "metadata": {},
   "outputs": [
    {
     "data": {
      "text/plain": [
       "\u001b[0;31mSignature:\u001b[0m       \u001b[0mdata\u001b[0m\u001b[0;34m.\u001b[0m\u001b[0miris\u001b[0m\u001b[0;34m(\u001b[0m\u001b[0muse_local\u001b[0m\u001b[0;34m=\u001b[0m\u001b[0;32mTrue\u001b[0m\u001b[0;34m,\u001b[0m \u001b[0;34m**\u001b[0m\u001b[0mkwargs\u001b[0m\u001b[0;34m)\u001b[0m\u001b[0;34m\u001b[0m\u001b[0;34m\u001b[0m\u001b[0m\n",
       "\u001b[0;31mType:\u001b[0m            Dataset\n",
       "\u001b[0;31mString form:\u001b[0m     <vega_datasets.core.Dataset object at 0x7f32da5ad668>\n",
       "\u001b[0;31mFile:\u001b[0m            ~/miniconda3/envs/ds/lib/python3.7/site-packages/vega_datasets/core.py\n",
       "\u001b[0;31mDocstring:\u001b[0m      \n",
       "Loader for the iris dataset.\n",
       "\n",
       "This classic dataset contains lengths and widths of petals and sepals\n",
       "for 150 iris flowers, drawn from three species. It was introduced\n",
       "by R.A. Fisher in 1936 [1]_.\n",
       "\n",
       "This dataset is bundled with vega_datasets; it can be loaded without web access.\n",
       "Dataset source: https://vega.github.io/vega-datasets/data/iris.json\n",
       "\n",
       "Usage\n",
       "-----\n",
       "\n",
       "    >>> from vega_datasets import data\n",
       "    >>> iris = data.iris()\n",
       "    >>> type(iris)\n",
       "    <class 'pandas.core.frame.DataFrame'>\n",
       "\n",
       "Equivalently, you can use\n",
       "\n",
       "    >>> iris = data('iris')\n",
       "\n",
       "To get the raw dataset rather than the dataframe, use\n",
       "\n",
       "    >>> data_bytes = data.iris.raw()\n",
       "    >>> type(data_bytes)\n",
       "    bytes\n",
       "\n",
       "To find the dataset url, use\n",
       "\n",
       "    >>> data.iris.url\n",
       "    'https://vega.github.io/vega-datasets/data/iris.json'\n",
       "\n",
       "Attributes\n",
       "----------\n",
       "filename : string\n",
       "    The filename in which the dataset is stored\n",
       "url : string\n",
       "    The full URL of the dataset at http://vega.github.io\n",
       "format : string\n",
       "    The format of the dataset: usually one of {'csv', 'tsv', 'json'}\n",
       "pkg_filename : string\n",
       "    The path to the local dataset within the vega_datasets package\n",
       "is_local : bool\n",
       "    True if the dataset is available locally in the package\n",
       "filepath : string\n",
       "    If is_local is True, the local file path to the dataset.\n",
       "\n",
       "References\n",
       "----------\n",
       ".. [1] R. A. Fisher (1936). 'The use of multiple measurements in\n",
       "   taxonomic problems'. Annals of Eugenics. 7 (2): 179-188.\n",
       "\u001b[0;31mClass docstring:\u001b[0m Class to load a particular dataset by name\n",
       "\u001b[0;31mCall docstring:\u001b[0m \n",
       "Load and parse the dataset from remote URL or local file\n",
       "\n",
       "Parameters\n",
       "----------\n",
       "use_local : boolean\n",
       "    If True (default), then attempt to load the dataset locally. If\n",
       "    False or if the dataset is not available locally, then load the\n",
       "    data from an external URL.\n",
       "**kwargs :\n",
       "    additional keyword arguments are passed to data parser (usually\n",
       "    pd.read_csv or pd.read_json, depending on the format of the data\n",
       "    source)\n",
       "\n",
       "Returns\n",
       "-------\n",
       "data :\n",
       "    parsed data\n"
      ]
     },
     "metadata": {},
     "output_type": "display_data"
    }
   ],
   "source": [
    "# Una breve descripción\n",
    "data.iris?"
   ]
  },
  {
   "cell_type": "code",
   "execution_count": 5,
   "metadata": {},
   "outputs": [
    {
     "data": {
      "text/html": [
       "<div>\n",
       "<style scoped>\n",
       "    .dataframe tbody tr th:only-of-type {\n",
       "        vertical-align: middle;\n",
       "    }\n",
       "\n",
       "    .dataframe tbody tr th {\n",
       "        vertical-align: top;\n",
       "    }\n",
       "\n",
       "    .dataframe thead th {\n",
       "        text-align: right;\n",
       "    }\n",
       "</style>\n",
       "<table border=\"1\" class=\"dataframe\">\n",
       "  <thead>\n",
       "    <tr style=\"text-align: right;\">\n",
       "      <th></th>\n",
       "      <th>sepalLength</th>\n",
       "      <th>sepalWidth</th>\n",
       "      <th>petalLength</th>\n",
       "      <th>petalWidth</th>\n",
       "      <th>species</th>\n",
       "    </tr>\n",
       "  </thead>\n",
       "  <tbody>\n",
       "    <tr>\n",
       "      <td>0</td>\n",
       "      <td>5.1</td>\n",
       "      <td>3.5</td>\n",
       "      <td>1.4</td>\n",
       "      <td>0.2</td>\n",
       "      <td>setosa</td>\n",
       "    </tr>\n",
       "    <tr>\n",
       "      <td>1</td>\n",
       "      <td>4.9</td>\n",
       "      <td>3.0</td>\n",
       "      <td>1.4</td>\n",
       "      <td>0.2</td>\n",
       "      <td>setosa</td>\n",
       "    </tr>\n",
       "    <tr>\n",
       "      <td>2</td>\n",
       "      <td>4.7</td>\n",
       "      <td>3.2</td>\n",
       "      <td>1.3</td>\n",
       "      <td>0.2</td>\n",
       "      <td>setosa</td>\n",
       "    </tr>\n",
       "    <tr>\n",
       "      <td>3</td>\n",
       "      <td>4.6</td>\n",
       "      <td>3.1</td>\n",
       "      <td>1.5</td>\n",
       "      <td>0.2</td>\n",
       "      <td>setosa</td>\n",
       "    </tr>\n",
       "    <tr>\n",
       "      <td>4</td>\n",
       "      <td>5.0</td>\n",
       "      <td>3.6</td>\n",
       "      <td>1.4</td>\n",
       "      <td>0.2</td>\n",
       "      <td>setosa</td>\n",
       "    </tr>\n",
       "  </tbody>\n",
       "</table>\n",
       "</div>"
      ],
      "text/plain": [
       "   sepalLength  sepalWidth  petalLength  petalWidth species\n",
       "0          5.1         3.5          1.4         0.2  setosa\n",
       "1          4.9         3.0          1.4         0.2  setosa\n",
       "2          4.7         3.2          1.3         0.2  setosa\n",
       "3          4.6         3.1          1.5         0.2  setosa\n",
       "4          5.0         3.6          1.4         0.2  setosa"
      ]
     },
     "execution_count": 5,
     "metadata": {},
     "output_type": "execute_result"
    }
   ],
   "source": [
    "iris = data.iris()\n",
    "iris.head()"
   ]
  },
  {
   "cell_type": "code",
   "execution_count": 33,
   "metadata": {},
   "outputs": [
    {
     "name": "stdout",
     "output_type": "stream",
     "text": [
      "<class 'pandas.core.frame.DataFrame'>\n",
      "RangeIndex: 150 entries, 0 to 149\n",
      "Data columns (total 5 columns):\n",
      "sepalLength    150 non-null float64\n",
      "sepalWidth     150 non-null float64\n",
      "petalLength    150 non-null float64\n",
      "petalWidth     150 non-null float64\n",
      "species        150 non-null object\n",
      "dtypes: float64(4), object(1)\n",
      "memory usage: 6.0+ KB\n"
     ]
    }
   ],
   "source": [
    "iris.info()"
   ]
  },
  {
   "cell_type": "code",
   "execution_count": 34,
   "metadata": {},
   "outputs": [
    {
     "data": {
      "text/html": [
       "<div>\n",
       "<style scoped>\n",
       "    .dataframe tbody tr th:only-of-type {\n",
       "        vertical-align: middle;\n",
       "    }\n",
       "\n",
       "    .dataframe tbody tr th {\n",
       "        vertical-align: top;\n",
       "    }\n",
       "\n",
       "    .dataframe thead th {\n",
       "        text-align: right;\n",
       "    }\n",
       "</style>\n",
       "<table border=\"1\" class=\"dataframe\">\n",
       "  <thead>\n",
       "    <tr style=\"text-align: right;\">\n",
       "      <th></th>\n",
       "      <th>sepalLength</th>\n",
       "      <th>sepalWidth</th>\n",
       "      <th>petalLength</th>\n",
       "      <th>petalWidth</th>\n",
       "      <th>species</th>\n",
       "    </tr>\n",
       "  </thead>\n",
       "  <tbody>\n",
       "    <tr>\n",
       "      <td>count</td>\n",
       "      <td>150.000000</td>\n",
       "      <td>150.000000</td>\n",
       "      <td>150.000000</td>\n",
       "      <td>150.000000</td>\n",
       "      <td>150</td>\n",
       "    </tr>\n",
       "    <tr>\n",
       "      <td>unique</td>\n",
       "      <td>NaN</td>\n",
       "      <td>NaN</td>\n",
       "      <td>NaN</td>\n",
       "      <td>NaN</td>\n",
       "      <td>3</td>\n",
       "    </tr>\n",
       "    <tr>\n",
       "      <td>top</td>\n",
       "      <td>NaN</td>\n",
       "      <td>NaN</td>\n",
       "      <td>NaN</td>\n",
       "      <td>NaN</td>\n",
       "      <td>versicolor</td>\n",
       "    </tr>\n",
       "    <tr>\n",
       "      <td>freq</td>\n",
       "      <td>NaN</td>\n",
       "      <td>NaN</td>\n",
       "      <td>NaN</td>\n",
       "      <td>NaN</td>\n",
       "      <td>50</td>\n",
       "    </tr>\n",
       "    <tr>\n",
       "      <td>mean</td>\n",
       "      <td>5.843333</td>\n",
       "      <td>3.057333</td>\n",
       "      <td>3.758000</td>\n",
       "      <td>1.199333</td>\n",
       "      <td>NaN</td>\n",
       "    </tr>\n",
       "    <tr>\n",
       "      <td>std</td>\n",
       "      <td>0.828066</td>\n",
       "      <td>0.435866</td>\n",
       "      <td>1.765298</td>\n",
       "      <td>0.762238</td>\n",
       "      <td>NaN</td>\n",
       "    </tr>\n",
       "    <tr>\n",
       "      <td>min</td>\n",
       "      <td>4.300000</td>\n",
       "      <td>2.000000</td>\n",
       "      <td>1.000000</td>\n",
       "      <td>0.100000</td>\n",
       "      <td>NaN</td>\n",
       "    </tr>\n",
       "    <tr>\n",
       "      <td>25%</td>\n",
       "      <td>5.100000</td>\n",
       "      <td>2.800000</td>\n",
       "      <td>1.600000</td>\n",
       "      <td>0.300000</td>\n",
       "      <td>NaN</td>\n",
       "    </tr>\n",
       "    <tr>\n",
       "      <td>50%</td>\n",
       "      <td>5.800000</td>\n",
       "      <td>3.000000</td>\n",
       "      <td>4.350000</td>\n",
       "      <td>1.300000</td>\n",
       "      <td>NaN</td>\n",
       "    </tr>\n",
       "    <tr>\n",
       "      <td>75%</td>\n",
       "      <td>6.400000</td>\n",
       "      <td>3.300000</td>\n",
       "      <td>5.100000</td>\n",
       "      <td>1.800000</td>\n",
       "      <td>NaN</td>\n",
       "    </tr>\n",
       "    <tr>\n",
       "      <td>max</td>\n",
       "      <td>7.900000</td>\n",
       "      <td>4.400000</td>\n",
       "      <td>6.900000</td>\n",
       "      <td>2.500000</td>\n",
       "      <td>NaN</td>\n",
       "    </tr>\n",
       "  </tbody>\n",
       "</table>\n",
       "</div>"
      ],
      "text/plain": [
       "        sepalLength  sepalWidth  petalLength  petalWidth     species\n",
       "count    150.000000  150.000000   150.000000  150.000000         150\n",
       "unique          NaN         NaN          NaN         NaN           3\n",
       "top             NaN         NaN          NaN         NaN  versicolor\n",
       "freq            NaN         NaN          NaN         NaN          50\n",
       "mean       5.843333    3.057333     3.758000    1.199333         NaN\n",
       "std        0.828066    0.435866     1.765298    0.762238         NaN\n",
       "min        4.300000    2.000000     1.000000    0.100000         NaN\n",
       "25%        5.100000    2.800000     1.600000    0.300000         NaN\n",
       "50%        5.800000    3.000000     4.350000    1.300000         NaN\n",
       "75%        6.400000    3.300000     5.100000    1.800000         NaN\n",
       "max        7.900000    4.400000     6.900000    2.500000         NaN"
      ]
     },
     "execution_count": 34,
     "metadata": {},
     "output_type": "execute_result"
    }
   ],
   "source": [
    "iris.describe(include=\"all\")"
   ]
  },
  {
   "cell_type": "markdown",
   "metadata": {},
   "source": [
    "El ejemplo clásico consiste en graficar _sepalWidth_ versus _petalLength_ y colorear por especie. "
   ]
  },
  {
   "cell_type": "markdown",
   "metadata": {},
   "source": [
    "### Imperativo\n",
    "\n",
    "En `matplotlib` sería algo así:"
   ]
  },
  {
   "cell_type": "code",
   "execution_count": 6,
   "metadata": {},
   "outputs": [],
   "source": [
    "import matplotlib.pyplot as plt"
   ]
  },
  {
   "cell_type": "code",
   "execution_count": 31,
   "metadata": {},
   "outputs": [
    {
     "data": {
      "image/png": "[encoded data removed]",
      "text/plain": [
       "<Figure size 720x432 with 1 Axes>"
      ]
     },
     "metadata": {
      "needs_background": "light"
     },
     "output_type": "display_data"
    }
   ],
   "source": [
    "color_map = dict(zip(iris[\"species\"].unique(), \n",
    "                     [\"blue\", \"green\", \"red\"]))\n",
    "\n",
    "plt.figure(figsize=(10, 6))\n",
    "\n",
    "for species, group in iris.groupby(\"species\"):\n",
    "    plt.scatter(group[\"petalLength\"], \n",
    "                group[\"sepalWidth\"],\n",
    "                color=color_map[species],\n",
    "                alpha=0.3,\n",
    "                edgecolor=None,\n",
    "                label=species,\n",
    "               )\n",
    "    \n",
    "plt.legend(frameon=True, title=\"species\")\n",
    "plt.xlabel(\"petalLength\")\n",
    "plt.ylabel(\"sepalWidth\")\n",
    "plt.show()"
   ]
  },
  {
   "cell_type": "markdown",
   "metadata": {},
   "source": [
    "### Declarativo\n",
    "\n",
    "En `altair` sería algo así:"
   ]
  },
  {
   "cell_type": "code",
   "execution_count": 8,
   "metadata": {},
   "outputs": [
    {
     "data": {
      "application/vnd.vegalite.v3+json": {
       "$schema": "https://vega.github.io/schema/vega-lite/v3.4.0.json",
       "background": "white",
       "config": {
        "mark": {
         "tooltip": null
        },
        "view": {
         "height": 300,
         "width": 400
        }
       },
       "data": {
        "name": "data-a264acbd6e539a8b3afc0cb5f240fb57"
       },
       "datasets": {
        "data-a264acbd6e539a8b3afc0cb5f240fb57": [
         {
          "petalLength": 1.4,
          "petalWidth": 0.2,
          "sepalLength": 5.1,
          "sepalWidth": 3.5,
          "species": "setosa"
         },
         {
          "petalLength": 1.4,
          "petalWidth": 0.2,
          "sepalLength": 4.9,
          "sepalWidth": 3,
          "species": "setosa"
         },
         {
          "petalLength": 1.3,
          "petalWidth": 0.2,
          "sepalLength": 4.7,
          "sepalWidth": 3.2,
          "species": "setosa"
         },
         {
          "petalLength": 1.5,
          "petalWidth": 0.2,
          "sepalLength": 4.6,
          "sepalWidth": 3.1,
          "species": "setosa"
         },
         {
          "petalLength": 1.4,
          "petalWidth": 0.2,
          "sepalLength": 5,
          "sepalWidth": 3.6,
          "species": "setosa"
         },
         {
          "petalLength": 1.7000000000000002,
          "petalWidth": 0.4,
          "sepalLength": 5.4,
          "sepalWidth": 3.9,
          "species": "setosa"
         },
         {
          "petalLength": 1.4,
          "petalWidth": 0.30000000000000004,
          "sepalLength": 4.6,
          "sepalWidth": 3.4,
          "species": "setosa"
         },
         {
          "petalLength": 1.5,
          "petalWidth": 0.2,
          "sepalLength": 5,
          "sepalWidth": 3.4,
          "species": "setosa"
         },
         {
          "petalLength": 1.4,
          "petalWidth": 0.2,
          "sepalLength": 4.4,
          "sepalWidth": 2.9,
          "species": "setosa"
         },
         {
          "petalLength": 1.5,
          "petalWidth": 0.1,
          "sepalLength": 4.9,
          "sepalWidth": 3.1,
          "species": "setosa"
         },
         {
          "petalLength": 1.5,
          "petalWidth": 0.2,
          "sepalLength": 5.4,
          "sepalWidth": 3.7,
          "species": "setosa"
         },
         {
          "petalLength": 1.6,
          "petalWidth": 0.2,
          "sepalLength": 4.8,
          "sepalWidth": 3.4,
          "species": "setosa"
         },
         {
          "petalLength": 1.4,
          "petalWidth": 0.1,
          "sepalLength": 4.8,
          "sepalWidth": 3,
          "species": "setosa"
         },
         {
          "petalLength": 1.1,
          "petalWidth": 0.1,
          "sepalLength": 4.3,
          "sepalWidth": 3,
          "species": "setosa"
         },
         {
          "petalLength": 1.2,
          "petalWidth": 0.2,
          "sepalLength": 5.8,
          "sepalWidth": 4,
          "species": "setosa"
         },
         {
          "petalLength": 1.5,
          "petalWidth": 0.4,
          "sepalLength": 5.7,
          "sepalWidth": 4.4,
          "species": "setosa"
         },
         {
          "petalLength": 1.3,
          "petalWidth": 0.4,
          "sepalLength": 5.4,
          "sepalWidth": 3.9,
          "species": "setosa"
         },
         {
          "petalLength": 1.4,
          "petalWidth": 0.30000000000000004,
          "sepalLength": 5.1,
          "sepalWidth": 3.5,
          "species": "setosa"
         },
         {
          "petalLength": 1.7000000000000002,
          "petalWidth": 0.30000000000000004,
          "sepalLength": 5.7,
          "sepalWidth": 3.8,
          "species": "setosa"
         },
         {
          "petalLength": 1.5,
          "petalWidth": 0.30000000000000004,
          "sepalLength": 5.1,
          "sepalWidth": 3.8,
          "species": "setosa"
         },
         {
          "petalLength": 1.7000000000000002,
          "petalWidth": 0.2,
          "sepalLength": 5.4,
          "sepalWidth": 3.4,
          "species": "setosa"
         },
         {
          "petalLength": 1.5,
          "petalWidth": 0.4,
          "sepalLength": 5.1,
          "sepalWidth": 3.7,
          "species": "setosa"
         },
         {
          "petalLength": 1,
          "petalWidth": 0.2,
          "sepalLength": 4.6,
          "sepalWidth": 3.6,
          "species": "setosa"
         },
         {
          "petalLength": 1.7000000000000002,
          "petalWidth": 0.5,
          "sepalLength": 5.1,
          "sepalWidth": 3.3,
          "species": "setosa"
         },
         {
          "petalLength": 1.9,
          "petalWidth": 0.2,
          "sepalLength": 4.8,
          "sepalWidth": 3.4,
          "species": "setosa"
         },
         {
          "petalLength": 1.6,
          "petalWidth": 0.2,
          "sepalLength": 5,
          "sepalWidth": 3,
          "species": "setosa"
         },
         {
          "petalLength": 1.6,
          "petalWidth": 0.4,
          "sepalLength": 5,
          "sepalWidth": 3.4,
          "species": "setosa"
         },
         {
          "petalLength": 1.5,
          "petalWidth": 0.2,
          "sepalLength": 5.2,
          "sepalWidth": 3.5,
          "species": "setosa"
         },
         {
          "petalLength": 1.4,
          "petalWidth": 0.2,
          "sepalLength": 5.2,
          "sepalWidth": 3.4,
          "species": "setosa"
         },
         {
          "petalLength": 1.6,
          "petalWidth": 0.2,
          "sepalLength": 4.7,
          "sepalWidth": 3.2,
          "species": "setosa"
         },
         {
          "petalLength": 1.6,
          "petalWidth": 0.2,
          "sepalLength": 4.8,
          "sepalWidth": 3.1,
          "species": "setosa"
         },
         {
          "petalLength": 1.5,
          "petalWidth": 0.4,
          "sepalLength": 5.4,
          "sepalWidth": 3.4,
          "species": "setosa"
         },
         {
          "petalLength": 1.5,
          "petalWidth": 0.1,
          "sepalLength": 5.2,
          "sepalWidth": 4.1,
          "species": "setosa"
         },
         {
          "petalLength": 1.4,
          "petalWidth": 0.2,
          "sepalLength": 5.5,
          "sepalWidth": 4.2,
          "species": "setosa"
         },
         {
          "petalLength": 1.5,
          "petalWidth": 0.2,
          "sepalLength": 4.9,
          "sepalWidth": 3.1,
          "species": "setosa"
         },
         {
          "petalLength": 1.2,
          "petalWidth": 0.2,
          "sepalLength": 5,
          "sepalWidth": 3.2,
          "species": "setosa"
         },
         {
          "petalLength": 1.3,
          "petalWidth": 0.2,
          "sepalLength": 5.5,
          "sepalWidth": 3.5,
          "species": "setosa"
         },
         {
          "petalLength": 1.4,
          "petalWidth": 0.1,
          "sepalLength": 4.9,
          "sepalWidth": 3.6,
          "species": "setosa"
         },
         {
          "petalLength": 1.3,
          "petalWidth": 0.2,
          "sepalLength": 4.4,
          "sepalWidth": 3,
          "species": "setosa"
         },
         {
          "petalLength": 1.5,
          "petalWidth": 0.2,
          "sepalLength": 5.1,
          "sepalWidth": 3.4,
          "species": "setosa"
         },
         {
          "petalLength": 1.3,
          "petalWidth": 0.30000000000000004,
          "sepalLength": 5,
          "sepalWidth": 3.5,
          "species": "setosa"
         },
         {
          "petalLength": 1.3,
          "petalWidth": 0.30000000000000004,
          "sepalLength": 4.5,
          "sepalWidth": 2.3,
          "species": "setosa"
         },
         {
          "petalLength": 1.3,
          "petalWidth": 0.2,
          "sepalLength": 4.4,
          "sepalWidth": 3.2,
          "species": "setosa"
         },
         {
          "petalLength": 1.6,
          "petalWidth": 0.6000000000000001,
          "sepalLength": 5,
          "sepalWidth": 3.5,
          "species": "setosa"
         },
         {
          "petalLength": 1.9,
          "petalWidth": 0.4,
          "sepalLength": 5.1,
          "sepalWidth": 3.8,
          "species": "setosa"
         },
         {
          "petalLength": 1.4,
          "petalWidth": 0.30000000000000004,
          "sepalLength": 4.8,
          "sepalWidth": 3,
          "species": "setosa"
         },
         {
          "petalLength": 1.6,
          "petalWidth": 0.2,
          "sepalLength": 5.1,
          "sepalWidth": 3.8,
          "species": "setosa"
         },
         {
          "petalLength": 1.4,
          "petalWidth": 0.2,
          "sepalLength": 4.6,
          "sepalWidth": 3.2,
          "species": "setosa"
         },
         {
          "petalLength": 1.5,
          "petalWidth": 0.2,
          "sepalLength": 5.3,
          "sepalWidth": 3.7,
          "species": "setosa"
         },
         {
          "petalLength": 1.4,
          "petalWidth": 0.2,
          "sepalLength": 5,
          "sepalWidth": 3.3,
          "species": "setosa"
         },
         {
          "petalLength": 4.7,
          "petalWidth": 1.4,
          "sepalLength": 7,
          "sepalWidth": 3.2,
          "species": "versicolor"
         },
         {
          "petalLength": 4.5,
          "petalWidth": 1.5,
          "sepalLength": 6.4,
          "sepalWidth": 3.2,
          "species": "versicolor"
         },
         {
          "petalLength": 4.9,
          "petalWidth": 1.5,
          "sepalLength": 6.9,
          "sepalWidth": 3.1,
          "species": "versicolor"
         },
         {
          "petalLength": 4,
          "petalWidth": 1.3,
          "sepalLength": 5.5,
          "sepalWidth": 2.3,
          "species": "versicolor"
         },
         {
          "petalLength": 4.6,
          "petalWidth": 1.5,
          "sepalLength": 6.5,
          "sepalWidth": 2.8,
          "species": "versicolor"
         },
         {
          "petalLength": 4.5,
          "petalWidth": 1.3,
          "sepalLength": 5.7,
          "sepalWidth": 2.8,
          "species": "versicolor"
         },
         {
          "petalLength": 4.7,
          "petalWidth": 1.6,
          "sepalLength": 6.3,
          "sepalWidth": 3.3,
          "species": "versicolor"
         },
         {
          "petalLength": 3.3,
          "petalWidth": 1,
          "sepalLength": 4.9,
          "sepalWidth": 2.4,
          "species": "versicolor"
         },
         {
          "petalLength": 4.6,
          "petalWidth": 1.3,
          "sepalLength": 6.6,
          "sepalWidth": 2.9,
          "species": "versicolor"
         },
         {
          "petalLength": 3.9,
          "petalWidth": 1.4,
          "sepalLength": 5.2,
          "sepalWidth": 2.7,
          "species": "versicolor"
         },
         {
          "petalLength": 3.5,
          "petalWidth": 1,
          "sepalLength": 5,
          "sepalWidth": 2,
          "species": "versicolor"
         },
         {
          "petalLength": 4.2,
          "petalWidth": 1.5,
          "sepalLength": 5.9,
          "sepalWidth": 3,
          "species": "versicolor"
         },
         {
          "petalLength": 4,
          "petalWidth": 1,
          "sepalLength": 6,
          "sepalWidth": 2.2,
          "species": "versicolor"
         },
         {
          "petalLength": 4.7,
          "petalWidth": 1.4,
          "sepalLength": 6.1,
          "sepalWidth": 2.9,
          "species": "versicolor"
         },
         {
          "petalLength": 3.6,
          "petalWidth": 1.3,
          "sepalLength": 5.6,
          "sepalWidth": 2.9,
          "species": "versicolor"
         },
         {
          "petalLength": 4.4,
          "petalWidth": 1.4,
          "sepalLength": 6.7,
          "sepalWidth": 3.1,
          "species": "versicolor"
         },
         {
          "petalLength": 4.5,
          "petalWidth": 1.5,
          "sepalLength": 5.6,
          "sepalWidth": 3,
          "species": "versicolor"
         },
         {
          "petalLength": 4.1,
          "petalWidth": 1,
          "sepalLength": 5.8,
          "sepalWidth": 2.7,
          "species": "versicolor"
         },
         {
          "petalLength": 4.5,
          "petalWidth": 1.5,
          "sepalLength": 6.2,
          "sepalWidth": 2.2,
          "species": "versicolor"
         },
         {
          "petalLength": 3.9,
          "petalWidth": 1.1,
          "sepalLength": 5.6,
          "sepalWidth": 2.5,
          "species": "versicolor"
         },
         {
          "petalLength": 4.8,
          "petalWidth": 1.8,
          "sepalLength": 5.9,
          "sepalWidth": 3.2,
          "species": "versicolor"
         },
         {
          "petalLength": 4,
          "petalWidth": 1.3,
          "sepalLength": 6.1,
          "sepalWidth": 2.8,
          "species": "versicolor"
         },
         {
          "petalLength": 4.9,
          "petalWidth": 1.5,
          "sepalLength": 6.3,
          "sepalWidth": 2.5,
          "species": "versicolor"
         },
         {
          "petalLength": 4.7,
          "petalWidth": 1.2,
          "sepalLength": 6.1,
          "sepalWidth": 2.8,
          "species": "versicolor"
         },
         {
          "petalLength": 4.3,
          "petalWidth": 1.3,
          "sepalLength": 6.4,
          "sepalWidth": 2.9,
          "species": "versicolor"
         },
         {
          "petalLength": 4.4,
          "petalWidth": 1.4,
          "sepalLength": 6.6,
          "sepalWidth": 3,
          "species": "versicolor"
         },
         {
          "petalLength": 4.8,
          "petalWidth": 1.4,
          "sepalLength": 6.8,
          "sepalWidth": 2.8,
          "species": "versicolor"
         },
         {
          "petalLength": 5,
          "petalWidth": 1.7000000000000002,
          "sepalLength": 6.7,
          "sepalWidth": 3,
          "species": "versicolor"
         },
         {
          "petalLength": 4.5,
          "petalWidth": 1.5,
          "sepalLength": 6,
          "sepalWidth": 2.9,
          "species": "versicolor"
         },
         {
          "petalLength": 3.5,
          "petalWidth": 1,
          "sepalLength": 5.7,
          "sepalWidth": 2.6,
          "species": "versicolor"
         },
         {
          "petalLength": 3.8,
          "petalWidth": 1.1,
          "sepalLength": 5.5,
          "sepalWidth": 2.4,
          "species": "versicolor"
         },
         {
          "petalLength": 3.7,
          "petalWidth": 1,
          "sepalLength": 5.5,
          "sepalWidth": 2.4,
          "species": "versicolor"
         },
         {
          "petalLength": 3.9,
          "petalWidth": 1.2,
          "sepalLength": 5.8,
          "sepalWidth": 2.7,
          "species": "versicolor"
         },
         {
          "petalLength": 5.1,
          "petalWidth": 1.6,
          "sepalLength": 6,
          "sepalWidth": 2.7,
          "species": "versicolor"
         },
         {
          "petalLength": 4.5,
          "petalWidth": 1.5,
          "sepalLength": 5.4,
          "sepalWidth": 3,
          "species": "versicolor"
         },
         {
          "petalLength": 4.5,
          "petalWidth": 1.6,
          "sepalLength": 6,
          "sepalWidth": 3.4,
          "species": "versicolor"
         },
         {
          "petalLength": 4.7,
          "petalWidth": 1.5,
          "sepalLength": 6.7,
          "sepalWidth": 3.1,
          "species": "versicolor"
         },
         {
          "petalLength": 4.4,
          "petalWidth": 1.3,
          "sepalLength": 6.3,
          "sepalWidth": 2.3,
          "species": "versicolor"
         },
         {
          "petalLength": 4.1,
          "petalWidth": 1.3,
          "sepalLength": 5.6,
          "sepalWidth": 3,
          "species": "versicolor"
         },
         {
          "petalLength": 4,
          "petalWidth": 1.3,
          "sepalLength": 5.5,
          "sepalWidth": 2.5,
          "species": "versicolor"
         },
         {
          "petalLength": 4.4,
          "petalWidth": 1.2,
          "sepalLength": 5.5,
          "sepalWidth": 2.6,
          "species": "versicolor"
         },
         {
          "petalLength": 4.6,
          "petalWidth": 1.4,
          "sepalLength": 6.1,
          "sepalWidth": 3,
          "species": "versicolor"
         },
         {
          "petalLength": 4,
          "petalWidth": 1.2,
          "sepalLength": 5.8,
          "sepalWidth": 2.6,
          "species": "versicolor"
         },
         {
          "petalLength": 3.3,
          "petalWidth": 1,
          "sepalLength": 5,
          "sepalWidth": 2.3,
          "species": "versicolor"
         },
         {
          "petalLength": 4.2,
          "petalWidth": 1.3,
          "sepalLength": 5.6,
          "sepalWidth": 2.7,
          "species": "versicolor"
         },
         {
          "petalLength": 4.2,
          "petalWidth": 1.2,
          "sepalLength": 5.7,
          "sepalWidth": 3,
          "species": "versicolor"
         },
         {
          "petalLength": 4.2,
          "petalWidth": 1.3,
          "sepalLength": 5.7,
          "sepalWidth": 2.9,
          "species": "versicolor"
         },
         {
          "petalLength": 4.3,
          "petalWidth": 1.3,
          "sepalLength": 6.2,
          "sepalWidth": 2.9,
          "species": "versicolor"
         },
         {
          "petalLength": 3,
          "petalWidth": 1.1,
          "sepalLength": 5.1,
          "sepalWidth": 2.5,
          "species": "versicolor"
         },
         {
          "petalLength": 4.1,
          "petalWidth": 1.3,
          "sepalLength": 5.7,
          "sepalWidth": 2.8,
          "species": "versicolor"
         },
         {
          "petalLength": 6,
          "petalWidth": 2.5,
          "sepalLength": 6.3,
          "sepalWidth": 3.3,
          "species": "virginica"
         },
         {
          "petalLength": 5.1,
          "petalWidth": 1.9,
          "sepalLength": 5.8,
          "sepalWidth": 2.7,
          "species": "virginica"
         },
         {
          "petalLength": 5.9,
          "petalWidth": 2.1,
          "sepalLength": 7.1,
          "sepalWidth": 3,
          "species": "virginica"
         },
         {
          "petalLength": 5.6,
          "petalWidth": 1.8,
          "sepalLength": 6.3,
          "sepalWidth": 2.9,
          "species": "virginica"
         },
         {
          "petalLength": 5.8,
          "petalWidth": 2.2,
          "sepalLength": 6.5,
          "sepalWidth": 3,
          "species": "virginica"
         },
         {
          "petalLength": 6.6,
          "petalWidth": 2.1,
          "sepalLength": 7.6,
          "sepalWidth": 3,
          "species": "virginica"
         },
         {
          "petalLength": 4.5,
          "petalWidth": 1.7000000000000002,
          "sepalLength": 4.9,
          "sepalWidth": 2.5,
          "species": "virginica"
         },
         {
          "petalLength": 6.3,
          "petalWidth": 1.8,
          "sepalLength": 7.3,
          "sepalWidth": 2.9,
          "species": "virginica"
         },
         {
          "petalLength": 5.8,
          "petalWidth": 1.8,
          "sepalLength": 6.7,
          "sepalWidth": 2.5,
          "species": "virginica"
         },
         {
          "petalLength": 6.1,
          "petalWidth": 2.5,
          "sepalLength": 7.2,
          "sepalWidth": 3.6,
          "species": "virginica"
         },
         {
          "petalLength": 5.1,
          "petalWidth": 2,
          "sepalLength": 6.5,
          "sepalWidth": 3.2,
          "species": "virginica"
         },
         {
          "petalLength": 5.3,
          "petalWidth": 1.9,
          "sepalLength": 6.4,
          "sepalWidth": 2.7,
          "species": "virginica"
         },
         {
          "petalLength": 5.5,
          "petalWidth": 2.1,
          "sepalLength": 6.8,
          "sepalWidth": 3,
          "species": "virginica"
         },
         {
          "petalLength": 5,
          "petalWidth": 2,
          "sepalLength": 5.7,
          "sepalWidth": 2.5,
          "species": "virginica"
         },
         {
          "petalLength": 5.1,
          "petalWidth": 2.4,
          "sepalLength": 5.8,
          "sepalWidth": 2.8,
          "species": "virginica"
         },
         {
          "petalLength": 5.3,
          "petalWidth": 2.3,
          "sepalLength": 6.4,
          "sepalWidth": 3.2,
          "species": "virginica"
         },
         {
          "petalLength": 5.5,
          "petalWidth": 1.8,
          "sepalLength": 6.5,
          "sepalWidth": 3,
          "species": "virginica"
         },
         {
          "petalLength": 6.7,
          "petalWidth": 2.2,
          "sepalLength": 7.7,
          "sepalWidth": 3.8,
          "species": "virginica"
         },
         {
          "petalLength": 6.9,
          "petalWidth": 2.3,
          "sepalLength": 7.7,
          "sepalWidth": 2.6,
          "species": "virginica"
         },
         {
          "petalLength": 5,
          "petalWidth": 1.5,
          "sepalLength": 6,
          "sepalWidth": 2.2,
          "species": "virginica"
         },
         {
          "petalLength": 5.7,
          "petalWidth": 2.3,
          "sepalLength": 6.9,
          "sepalWidth": 3.2,
          "species": "virginica"
         },
         {
          "petalLength": 4.9,
          "petalWidth": 2,
          "sepalLength": 5.6,
          "sepalWidth": 2.8,
          "species": "virginica"
         },
         {
          "petalLength": 6.7,
          "petalWidth": 2,
          "sepalLength": 7.7,
          "sepalWidth": 2.8,
          "species": "virginica"
         },
         {
          "petalLength": 4.9,
          "petalWidth": 1.8,
          "sepalLength": 6.3,
          "sepalWidth": 2.7,
          "species": "virginica"
         },
         {
          "petalLength": 5.7,
          "petalWidth": 2.1,
          "sepalLength": 6.7,
          "sepalWidth": 3.3,
          "species": "virginica"
         },
         {
          "petalLength": 6,
          "petalWidth": 1.8,
          "sepalLength": 7.2,
          "sepalWidth": 3.2,
          "species": "virginica"
         },
         {
          "petalLength": 4.8,
          "petalWidth": 1.8,
          "sepalLength": 6.2,
          "sepalWidth": 2.8,
          "species": "virginica"
         },
         {
          "petalLength": 4.9,
          "petalWidth": 1.8,
          "sepalLength": 6.1,
          "sepalWidth": 3,
          "species": "virginica"
         },
         {
          "petalLength": 5.6,
          "petalWidth": 2.1,
          "sepalLength": 6.4,
          "sepalWidth": 2.8,
          "species": "virginica"
         },
         {
          "petalLength": 5.8,
          "petalWidth": 1.6,
          "sepalLength": 7.2,
          "sepalWidth": 3,
          "species": "virginica"
         },
         {
          "petalLength": 6.1,
          "petalWidth": 1.9,
          "sepalLength": 7.4,
          "sepalWidth": 2.8,
          "species": "virginica"
         },
         {
          "petalLength": 6.4,
          "petalWidth": 2,
          "sepalLength": 7.9,
          "sepalWidth": 3.8,
          "species": "virginica"
         },
         {
          "petalLength": 5.6,
          "petalWidth": 2.2,
          "sepalLength": 6.4,
          "sepalWidth": 2.8,
          "species": "virginica"
         },
         {
          "petalLength": 5.1,
          "petalWidth": 1.5,
          "sepalLength": 6.3,
          "sepalWidth": 2.8,
          "species": "virginica"
         },
         {
          "petalLength": 5.6,
          "petalWidth": 1.4,
          "sepalLength": 6.1,
          "sepalWidth": 2.6,
          "species": "virginica"
         },
         {
          "petalLength": 6.1,
          "petalWidth": 2.3,
          "sepalLength": 7.7,
          "sepalWidth": 3,
          "species": "virginica"
         },
         {
          "petalLength": 5.6,
          "petalWidth": 2.4,
          "sepalLength": 6.3,
          "sepalWidth": 3.4,
          "species": "virginica"
         },
         {
          "petalLength": 5.5,
          "petalWidth": 1.8,
          "sepalLength": 6.4,
          "sepalWidth": 3.1,
          "species": "virginica"
         },
         {
          "petalLength": 4.8,
          "petalWidth": 1.8,
          "sepalLength": 6,
          "sepalWidth": 3,
          "species": "virginica"
         },
         {
          "petalLength": 5.4,
          "petalWidth": 2.1,
          "sepalLength": 6.9,
          "sepalWidth": 3.1,
          "species": "virginica"
         },
         {
          "petalLength": 5.6,
          "petalWidth": 2.4,
          "sepalLength": 6.7,
          "sepalWidth": 3.1,
          "species": "virginica"
         },
         {
          "petalLength": 5.1,
          "petalWidth": 2.3,
          "sepalLength": 6.9,
          "sepalWidth": 3.1,
          "species": "virginica"
         },
         {
          "petalLength": 5.1,
          "petalWidth": 1.9,
          "sepalLength": 5.8,
          "sepalWidth": 2.7,
          "species": "virginica"
         },
         {
          "petalLength": 5.9,
          "petalWidth": 2.3,
          "sepalLength": 6.8,
          "sepalWidth": 3.2,
          "species": "virginica"
         },
         {
          "petalLength": 5.7,
          "petalWidth": 2.5,
          "sepalLength": 6.7,
          "sepalWidth": 3.3,
          "species": "virginica"
         },
         {
          "petalLength": 5.2,
          "petalWidth": 2.3,
          "sepalLength": 6.7,
          "sepalWidth": 3,
          "species": "virginica"
         },
         {
          "petalLength": 5,
          "petalWidth": 1.9,
          "sepalLength": 6.3,
          "sepalWidth": 2.5,
          "species": "virginica"
         },
         {
          "petalLength": 5.2,
          "petalWidth": 2,
          "sepalLength": 6.5,
          "sepalWidth": 3,
          "species": "virginica"
         },
         {
          "petalLength": 5.4,
          "petalWidth": 2.3,
          "sepalLength": 6.2,
          "sepalWidth": 3.4,
          "species": "virginica"
         },
         {
          "petalLength": 5.1,
          "petalWidth": 1.8,
          "sepalLength": 5.9,
          "sepalWidth": 3,
          "species": "virginica"
         }
        ]
       },
       "encoding": {
        "color": {
         "field": "species",
         "type": "nominal"
        },
        "x": {
         "field": "petalLength",
         "type": "quantitative"
        },
        "y": {
         "field": "sepalWidth",
         "type": "quantitative"
        }
       },
       "mark": "point"
      },
      "image/png": "[encoded data removed]",
      "text/plain": [
       "<VegaLite 3 object>\n",
       "\n",
       "If you see this message, it means the renderer has not been properly enabled\n",
       "for the frontend that you are using. For more information, see\n",
       "https://altair-viz.github.io/user_guide/troubleshooting.html\n"
      ]
     },
     "execution_count": 8,
     "metadata": {},
     "output_type": "execute_result"
    }
   ],
   "source": [
    "alt.Chart(iris, background=\"white\").mark_point().encode(\n",
    "    x=\"petalLength\",\n",
    "    y=\"sepalWidth\",\n",
    "    color=\"species\"\n",
    ")"
   ]
  },
  {
   "cell_type": "markdown",
   "metadata": {},
   "source": [
    "Spoiler: Solo bastan un par de líneas extras para crear un gráfico interactivo!"
   ]
  },
  {
   "cell_type": "code",
   "execution_count": 9,
   "metadata": {},
   "outputs": [
    {
     "data": {
      "application/vnd.vegalite.v3+json": {
       "$schema": "https://vega.github.io/schema/vega-lite/v3.4.0.json",
       "background": "white",
       "config": {
        "mark": {
         "tooltip": null
        },
        "view": {
         "height": 300,
         "width": 400
        }
       },
       "data": {
        "name": "data-a264acbd6e539a8b3afc0cb5f240fb57"
       },
       "datasets": {
        "data-a264acbd6e539a8b3afc0cb5f240fb57": [
         {
          "petalLength": 1.4,
          "petalWidth": 0.2,
          "sepalLength": 5.1,
          "sepalWidth": 3.5,
          "species": "setosa"
         },
         {
          "petalLength": 1.4,
          "petalWidth": 0.2,
          "sepalLength": 4.9,
          "sepalWidth": 3,
          "species": "setosa"
         },
         {
          "petalLength": 1.3,
          "petalWidth": 0.2,
          "sepalLength": 4.7,
          "sepalWidth": 3.2,
          "species": "setosa"
         },
         {
          "petalLength": 1.5,
          "petalWidth": 0.2,
          "sepalLength": 4.6,
          "sepalWidth": 3.1,
          "species": "setosa"
         },
         {
          "petalLength": 1.4,
          "petalWidth": 0.2,
          "sepalLength": 5,
          "sepalWidth": 3.6,
          "species": "setosa"
         },
         {
          "petalLength": 1.7000000000000002,
          "petalWidth": 0.4,
          "sepalLength": 5.4,
          "sepalWidth": 3.9,
          "species": "setosa"
         },
         {
          "petalLength": 1.4,
          "petalWidth": 0.30000000000000004,
          "sepalLength": 4.6,
          "sepalWidth": 3.4,
          "species": "setosa"
         },
         {
          "petalLength": 1.5,
          "petalWidth": 0.2,
          "sepalLength": 5,
          "sepalWidth": 3.4,
          "species": "setosa"
         },
         {
          "petalLength": 1.4,
          "petalWidth": 0.2,
          "sepalLength": 4.4,
          "sepalWidth": 2.9,
          "species": "setosa"
         },
         {
          "petalLength": 1.5,
          "petalWidth": 0.1,
          "sepalLength": 4.9,
          "sepalWidth": 3.1,
          "species": "setosa"
         },
         {
          "petalLength": 1.5,
          "petalWidth": 0.2,
          "sepalLength": 5.4,
          "sepalWidth": 3.7,
          "species": "setosa"
         },
         {
          "petalLength": 1.6,
          "petalWidth": 0.2,
          "sepalLength": 4.8,
          "sepalWidth": 3.4,
          "species": "setosa"
         },
         {
          "petalLength": 1.4,
          "petalWidth": 0.1,
          "sepalLength": 4.8,
          "sepalWidth": 3,
          "species": "setosa"
         },
         {
          "petalLength": 1.1,
          "petalWidth": 0.1,
          "sepalLength": 4.3,
          "sepalWidth": 3,
          "species": "setosa"
         },
         {
          "petalLength": 1.2,
          "petalWidth": 0.2,
          "sepalLength": 5.8,
          "sepalWidth": 4,
          "species": "setosa"
         },
         {
          "petalLength": 1.5,
          "petalWidth": 0.4,
          "sepalLength": 5.7,
          "sepalWidth": 4.4,
          "species": "setosa"
         },
         {
          "petalLength": 1.3,
          "petalWidth": 0.4,
          "sepalLength": 5.4,
          "sepalWidth": 3.9,
          "species": "setosa"
         },
         {
          "petalLength": 1.4,
          "petalWidth": 0.30000000000000004,
          "sepalLength": 5.1,
          "sepalWidth": 3.5,
          "species": "setosa"
         },
         {
          "petalLength": 1.7000000000000002,
          "petalWidth": 0.30000000000000004,
          "sepalLength": 5.7,
          "sepalWidth": 3.8,
          "species": "setosa"
         },
         {
          "petalLength": 1.5,
          "petalWidth": 0.30000000000000004,
          "sepalLength": 5.1,
          "sepalWidth": 3.8,
          "species": "setosa"
         },
         {
          "petalLength": 1.7000000000000002,
          "petalWidth": 0.2,
          "sepalLength": 5.4,
          "sepalWidth": 3.4,
          "species": "setosa"
         },
         {
          "petalLength": 1.5,
          "petalWidth": 0.4,
          "sepalLength": 5.1,
          "sepalWidth": 3.7,
          "species": "setosa"
         },
         {
          "petalLength": 1,
          "petalWidth": 0.2,
          "sepalLength": 4.6,
          "sepalWidth": 3.6,
          "species": "setosa"
         },
         {
          "petalLength": 1.7000000000000002,
          "petalWidth": 0.5,
          "sepalLength": 5.1,
          "sepalWidth": 3.3,
          "species": "setosa"
         },
         {
          "petalLength": 1.9,
          "petalWidth": 0.2,
          "sepalLength": 4.8,
          "sepalWidth": 3.4,
          "species": "setosa"
         },
         {
          "petalLength": 1.6,
          "petalWidth": 0.2,
          "sepalLength": 5,
          "sepalWidth": 3,
          "species": "setosa"
         },
         {
          "petalLength": 1.6,
          "petalWidth": 0.4,
          "sepalLength": 5,
          "sepalWidth": 3.4,
          "species": "setosa"
         },
         {
          "petalLength": 1.5,
          "petalWidth": 0.2,
          "sepalLength": 5.2,
          "sepalWidth": 3.5,
          "species": "setosa"
         },
         {
          "petalLength": 1.4,
          "petalWidth": 0.2,
          "sepalLength": 5.2,
          "sepalWidth": 3.4,
          "species": "setosa"
         },
         {
          "petalLength": 1.6,
          "petalWidth": 0.2,
          "sepalLength": 4.7,
          "sepalWidth": 3.2,
          "species": "setosa"
         },
         {
          "petalLength": 1.6,
          "petalWidth": 0.2,
          "sepalLength": 4.8,
          "sepalWidth": 3.1,
          "species": "setosa"
         },
         {
          "petalLength": 1.5,
          "petalWidth": 0.4,
          "sepalLength": 5.4,
          "sepalWidth": 3.4,
          "species": "setosa"
         },
         {
          "petalLength": 1.5,
          "petalWidth": 0.1,
          "sepalLength": 5.2,
          "sepalWidth": 4.1,
          "species": "setosa"
         },
         {
          "petalLength": 1.4,
          "petalWidth": 0.2,
          "sepalLength": 5.5,
          "sepalWidth": 4.2,
          "species": "setosa"
         },
         {
          "petalLength": 1.5,
          "petalWidth": 0.2,
          "sepalLength": 4.9,
          "sepalWidth": 3.1,
          "species": "setosa"
         },
         {
          "petalLength": 1.2,
          "petalWidth": 0.2,
          "sepalLength": 5,
          "sepalWidth": 3.2,
          "species": "setosa"
         },
         {
          "petalLength": 1.3,
          "petalWidth": 0.2,
          "sepalLength": 5.5,
          "sepalWidth": 3.5,
          "species": "setosa"
         },
         {
          "petalLength": 1.4,
          "petalWidth": 0.1,
          "sepalLength": 4.9,
          "sepalWidth": 3.6,
          "species": "setosa"
         },
         {
          "petalLength": 1.3,
          "petalWidth": 0.2,
          "sepalLength": 4.4,
          "sepalWidth": 3,
          "species": "setosa"
         },
         {
          "petalLength": 1.5,
          "petalWidth": 0.2,
          "sepalLength": 5.1,
          "sepalWidth": 3.4,
          "species": "setosa"
         },
         {
          "petalLength": 1.3,
          "petalWidth": 0.30000000000000004,
          "sepalLength": 5,
          "sepalWidth": 3.5,
          "species": "setosa"
         },
         {
          "petalLength": 1.3,
          "petalWidth": 0.30000000000000004,
          "sepalLength": 4.5,
          "sepalWidth": 2.3,
          "species": "setosa"
         },
         {
          "petalLength": 1.3,
          "petalWidth": 0.2,
          "sepalLength": 4.4,
          "sepalWidth": 3.2,
          "species": "setosa"
         },
         {
          "petalLength": 1.6,
          "petalWidth": 0.6000000000000001,
          "sepalLength": 5,
          "sepalWidth": 3.5,
          "species": "setosa"
         },
         {
          "petalLength": 1.9,
          "petalWidth": 0.4,
          "sepalLength": 5.1,
          "sepalWidth": 3.8,
          "species": "setosa"
         },
         {
          "petalLength": 1.4,
          "petalWidth": 0.30000000000000004,
          "sepalLength": 4.8,
          "sepalWidth": 3,
          "species": "setosa"
         },
         {
          "petalLength": 1.6,
          "petalWidth": 0.2,
          "sepalLength": 5.1,
          "sepalWidth": 3.8,
          "species": "setosa"
         },
         {
          "petalLength": 1.4,
          "petalWidth": 0.2,
          "sepalLength": 4.6,
          "sepalWidth": 3.2,
          "species": "setosa"
         },
         {
          "petalLength": 1.5,
          "petalWidth": 0.2,
          "sepalLength": 5.3,
          "sepalWidth": 3.7,
          "species": "setosa"
         },
         {
          "petalLength": 1.4,
          "petalWidth": 0.2,
          "sepalLength": 5,
          "sepalWidth": 3.3,
          "species": "setosa"
         },
         {
          "petalLength": 4.7,
          "petalWidth": 1.4,
          "sepalLength": 7,
          "sepalWidth": 3.2,
          "species": "versicolor"
         },
         {
          "petalLength": 4.5,
          "petalWidth": 1.5,
          "sepalLength": 6.4,
          "sepalWidth": 3.2,
          "species": "versicolor"
         },
         {
          "petalLength": 4.9,
          "petalWidth": 1.5,
          "sepalLength": 6.9,
          "sepalWidth": 3.1,
          "species": "versicolor"
         },
         {
          "petalLength": 4,
          "petalWidth": 1.3,
          "sepalLength": 5.5,
          "sepalWidth": 2.3,
          "species": "versicolor"
         },
         {
          "petalLength": 4.6,
          "petalWidth": 1.5,
          "sepalLength": 6.5,
          "sepalWidth": 2.8,
          "species": "versicolor"
         },
         {
          "petalLength": 4.5,
          "petalWidth": 1.3,
          "sepalLength": 5.7,
          "sepalWidth": 2.8,
          "species": "versicolor"
         },
         {
          "petalLength": 4.7,
          "petalWidth": 1.6,
          "sepalLength": 6.3,
          "sepalWidth": 3.3,
          "species": "versicolor"
         },
         {
          "petalLength": 3.3,
          "petalWidth": 1,
          "sepalLength": 4.9,
          "sepalWidth": 2.4,
          "species": "versicolor"
         },
         {
          "petalLength": 4.6,
          "petalWidth": 1.3,
          "sepalLength": 6.6,
          "sepalWidth": 2.9,
          "species": "versicolor"
         },
         {
          "petalLength": 3.9,
          "petalWidth": 1.4,
          "sepalLength": 5.2,
          "sepalWidth": 2.7,
          "species": "versicolor"
         },
         {
          "petalLength": 3.5,
          "petalWidth": 1,
          "sepalLength": 5,
          "sepalWidth": 2,
          "species": "versicolor"
         },
         {
          "petalLength": 4.2,
          "petalWidth": 1.5,
          "sepalLength": 5.9,
          "sepalWidth": 3,
          "species": "versicolor"
         },
         {
          "petalLength": 4,
          "petalWidth": 1,
          "sepalLength": 6,
          "sepalWidth": 2.2,
          "species": "versicolor"
         },
         {
          "petalLength": 4.7,
          "petalWidth": 1.4,
          "sepalLength": 6.1,
          "sepalWidth": 2.9,
          "species": "versicolor"
         },
         {
          "petalLength": 3.6,
          "petalWidth": 1.3,
          "sepalLength": 5.6,
          "sepalWidth": 2.9,
          "species": "versicolor"
         },
         {
          "petalLength": 4.4,
          "petalWidth": 1.4,
          "sepalLength": 6.7,
          "sepalWidth": 3.1,
          "species": "versicolor"
         },
         {
          "petalLength": 4.5,
          "petalWidth": 1.5,
          "sepalLength": 5.6,
          "sepalWidth": 3,
          "species": "versicolor"
         },
         {
          "petalLength": 4.1,
          "petalWidth": 1,
          "sepalLength": 5.8,
          "sepalWidth": 2.7,
          "species": "versicolor"
         },
         {
          "petalLength": 4.5,
          "petalWidth": 1.5,
          "sepalLength": 6.2,
          "sepalWidth": 2.2,
          "species": "versicolor"
         },
         {
          "petalLength": 3.9,
          "petalWidth": 1.1,
          "sepalLength": 5.6,
          "sepalWidth": 2.5,
          "species": "versicolor"
         },
         {
          "petalLength": 4.8,
          "petalWidth": 1.8,
          "sepalLength": 5.9,
          "sepalWidth": 3.2,
          "species": "versicolor"
         },
         {
          "petalLength": 4,
          "petalWidth": 1.3,
          "sepalLength": 6.1,
          "sepalWidth": 2.8,
          "species": "versicolor"
         },
         {
          "petalLength": 4.9,
          "petalWidth": 1.5,
          "sepalLength": 6.3,
          "sepalWidth": 2.5,
          "species": "versicolor"
         },
         {
          "petalLength": 4.7,
          "petalWidth": 1.2,
          "sepalLength": 6.1,
          "sepalWidth": 2.8,
          "species": "versicolor"
         },
         {
          "petalLength": 4.3,
          "petalWidth": 1.3,
          "sepalLength": 6.4,
          "sepalWidth": 2.9,
          "species": "versicolor"
         },
         {
          "petalLength": 4.4,
          "petalWidth": 1.4,
          "sepalLength": 6.6,
          "sepalWidth": 3,
          "species": "versicolor"
         },
         {
          "petalLength": 4.8,
          "petalWidth": 1.4,
          "sepalLength": 6.8,
          "sepalWidth": 2.8,
          "species": "versicolor"
         },
         {
          "petalLength": 5,
          "petalWidth": 1.7000000000000002,
          "sepalLength": 6.7,
          "sepalWidth": 3,
          "species": "versicolor"
         },
         {
          "petalLength": 4.5,
          "petalWidth": 1.5,
          "sepalLength": 6,
          "sepalWidth": 2.9,
          "species": "versicolor"
         },
         {
          "petalLength": 3.5,
          "petalWidth": 1,
          "sepalLength": 5.7,
          "sepalWidth": 2.6,
          "species": "versicolor"
         },
         {
          "petalLength": 3.8,
          "petalWidth": 1.1,
          "sepalLength": 5.5,
          "sepalWidth": 2.4,
          "species": "versicolor"
         },
         {
          "petalLength": 3.7,
          "petalWidth": 1,
          "sepalLength": 5.5,
          "sepalWidth": 2.4,
          "species": "versicolor"
         },
         {
          "petalLength": 3.9,
          "petalWidth": 1.2,
          "sepalLength": 5.8,
          "sepalWidth": 2.7,
          "species": "versicolor"
         },
         {
          "petalLength": 5.1,
          "petalWidth": 1.6,
          "sepalLength": 6,
          "sepalWidth": 2.7,
          "species": "versicolor"
         },
         {
          "petalLength": 4.5,
          "petalWidth": 1.5,
          "sepalLength": 5.4,
          "sepalWidth": 3,
          "species": "versicolor"
         },
         {
          "petalLength": 4.5,
          "petalWidth": 1.6,
          "sepalLength": 6,
          "sepalWidth": 3.4,
          "species": "versicolor"
         },
         {
          "petalLength": 4.7,
          "petalWidth": 1.5,
          "sepalLength": 6.7,
          "sepalWidth": 3.1,
          "species": "versicolor"
         },
         {
          "petalLength": 4.4,
          "petalWidth": 1.3,
          "sepalLength": 6.3,
          "sepalWidth": 2.3,
          "species": "versicolor"
         },
         {
          "petalLength": 4.1,
          "petalWidth": 1.3,
          "sepalLength": 5.6,
          "sepalWidth": 3,
          "species": "versicolor"
         },
         {
          "petalLength": 4,
          "petalWidth": 1.3,
          "sepalLength": 5.5,
          "sepalWidth": 2.5,
          "species": "versicolor"
         },
         {
          "petalLength": 4.4,
          "petalWidth": 1.2,
          "sepalLength": 5.5,
          "sepalWidth": 2.6,
          "species": "versicolor"
         },
         {
          "petalLength": 4.6,
          "petalWidth": 1.4,
          "sepalLength": 6.1,
          "sepalWidth": 3,
          "species": "versicolor"
         },
         {
          "petalLength": 4,
          "petalWidth": 1.2,
          "sepalLength": 5.8,
          "sepalWidth": 2.6,
          "species": "versicolor"
         },
         {
          "petalLength": 3.3,
          "petalWidth": 1,
          "sepalLength": 5,
          "sepalWidth": 2.3,
          "species": "versicolor"
         },
         {
          "petalLength": 4.2,
          "petalWidth": 1.3,
          "sepalLength": 5.6,
          "sepalWidth": 2.7,
          "species": "versicolor"
         },
         {
          "petalLength": 4.2,
          "petalWidth": 1.2,
          "sepalLength": 5.7,
          "sepalWidth": 3,
          "species": "versicolor"
         },
         {
          "petalLength": 4.2,
          "petalWidth": 1.3,
          "sepalLength": 5.7,
          "sepalWidth": 2.9,
          "species": "versicolor"
         },
         {
          "petalLength": 4.3,
          "petalWidth": 1.3,
          "sepalLength": 6.2,
          "sepalWidth": 2.9,
          "species": "versicolor"
         },
         {
          "petalLength": 3,
          "petalWidth": 1.1,
          "sepalLength": 5.1,
          "sepalWidth": 2.5,
          "species": "versicolor"
         },
         {
          "petalLength": 4.1,
          "petalWidth": 1.3,
          "sepalLength": 5.7,
          "sepalWidth": 2.8,
          "species": "versicolor"
         },
         {
          "petalLength": 6,
          "petalWidth": 2.5,
          "sepalLength": 6.3,
          "sepalWidth": 3.3,
          "species": "virginica"
         },
         {
          "petalLength": 5.1,
          "petalWidth": 1.9,
          "sepalLength": 5.8,
          "sepalWidth": 2.7,
          "species": "virginica"
         },
         {
          "petalLength": 5.9,
          "petalWidth": 2.1,
          "sepalLength": 7.1,
          "sepalWidth": 3,
          "species": "virginica"
         },
         {
          "petalLength": 5.6,
          "petalWidth": 1.8,
          "sepalLength": 6.3,
          "sepalWidth": 2.9,
          "species": "virginica"
         },
         {
          "petalLength": 5.8,
          "petalWidth": 2.2,
          "sepalLength": 6.5,
          "sepalWidth": 3,
          "species": "virginica"
         },
         {
          "petalLength": 6.6,
          "petalWidth": 2.1,
          "sepalLength": 7.6,
          "sepalWidth": 3,
          "species": "virginica"
         },
         {
          "petalLength": 4.5,
          "petalWidth": 1.7000000000000002,
          "sepalLength": 4.9,
          "sepalWidth": 2.5,
          "species": "virginica"
         },
         {
          "petalLength": 6.3,
          "petalWidth": 1.8,
          "sepalLength": 7.3,
          "sepalWidth": 2.9,
          "species": "virginica"
         },
         {
          "petalLength": 5.8,
          "petalWidth": 1.8,
          "sepalLength": 6.7,
          "sepalWidth": 2.5,
          "species": "virginica"
         },
         {
          "petalLength": 6.1,
          "petalWidth": 2.5,
          "sepalLength": 7.2,
          "sepalWidth": 3.6,
          "species": "virginica"
         },
         {
          "petalLength": 5.1,
          "petalWidth": 2,
          "sepalLength": 6.5,
          "sepalWidth": 3.2,
          "species": "virginica"
         },
         {
          "petalLength": 5.3,
          "petalWidth": 1.9,
          "sepalLength": 6.4,
          "sepalWidth": 2.7,
          "species": "virginica"
         },
         {
          "petalLength": 5.5,
          "petalWidth": 2.1,
          "sepalLength": 6.8,
          "sepalWidth": 3,
          "species": "virginica"
         },
         {
          "petalLength": 5,
          "petalWidth": 2,
          "sepalLength": 5.7,
          "sepalWidth": 2.5,
          "species": "virginica"
         },
         {
          "petalLength": 5.1,
          "petalWidth": 2.4,
          "sepalLength": 5.8,
          "sepalWidth": 2.8,
          "species": "virginica"
         },
         {
          "petalLength": 5.3,
          "petalWidth": 2.3,
          "sepalLength": 6.4,
          "sepalWidth": 3.2,
          "species": "virginica"
         },
         {
          "petalLength": 5.5,
          "petalWidth": 1.8,
          "sepalLength": 6.5,
          "sepalWidth": 3,
          "species": "virginica"
         },
         {
          "petalLength": 6.7,
          "petalWidth": 2.2,
          "sepalLength": 7.7,
          "sepalWidth": 3.8,
          "species": "virginica"
         },
         {
          "petalLength": 6.9,
          "petalWidth": 2.3,
          "sepalLength": 7.7,
          "sepalWidth": 2.6,
          "species": "virginica"
         },
         {
          "petalLength": 5,
          "petalWidth": 1.5,
          "sepalLength": 6,
          "sepalWidth": 2.2,
          "species": "virginica"
         },
         {
          "petalLength": 5.7,
          "petalWidth": 2.3,
          "sepalLength": 6.9,
          "sepalWidth": 3.2,
          "species": "virginica"
         },
         {
          "petalLength": 4.9,
          "petalWidth": 2,
          "sepalLength": 5.6,
          "sepalWidth": 2.8,
          "species": "virginica"
         },
         {
          "petalLength": 6.7,
          "petalWidth": 2,
          "sepalLength": 7.7,
          "sepalWidth": 2.8,
          "species": "virginica"
         },
         {
          "petalLength": 4.9,
          "petalWidth": 1.8,
          "sepalLength": 6.3,
          "sepalWidth": 2.7,
          "species": "virginica"
         },
         {
          "petalLength": 5.7,
          "petalWidth": 2.1,
          "sepalLength": 6.7,
          "sepalWidth": 3.3,
          "species": "virginica"
         },
         {
          "petalLength": 6,
          "petalWidth": 1.8,
          "sepalLength": 7.2,
          "sepalWidth": 3.2,
          "species": "virginica"
         },
         {
          "petalLength": 4.8,
          "petalWidth": 1.8,
          "sepalLength": 6.2,
          "sepalWidth": 2.8,
          "species": "virginica"
         },
         {
          "petalLength": 4.9,
          "petalWidth": 1.8,
          "sepalLength": 6.1,
          "sepalWidth": 3,
          "species": "virginica"
         },
         {
          "petalLength": 5.6,
          "petalWidth": 2.1,
          "sepalLength": 6.4,
          "sepalWidth": 2.8,
          "species": "virginica"
         },
         {
          "petalLength": 5.8,
          "petalWidth": 1.6,
          "sepalLength": 7.2,
          "sepalWidth": 3,
          "species": "virginica"
         },
         {
          "petalLength": 6.1,
          "petalWidth": 1.9,
          "sepalLength": 7.4,
          "sepalWidth": 2.8,
          "species": "virginica"
         },
         {
          "petalLength": 6.4,
          "petalWidth": 2,
          "sepalLength": 7.9,
          "sepalWidth": 3.8,
          "species": "virginica"
         },
         {
          "petalLength": 5.6,
          "petalWidth": 2.2,
          "sepalLength": 6.4,
          "sepalWidth": 2.8,
          "species": "virginica"
         },
         {
          "petalLength": 5.1,
          "petalWidth": 1.5,
          "sepalLength": 6.3,
          "sepalWidth": 2.8,
          "species": "virginica"
         },
         {
          "petalLength": 5.6,
          "petalWidth": 1.4,
          "sepalLength": 6.1,
          "sepalWidth": 2.6,
          "species": "virginica"
         },
         {
          "petalLength": 6.1,
          "petalWidth": 2.3,
          "sepalLength": 7.7,
          "sepalWidth": 3,
          "species": "virginica"
         },
         {
          "petalLength": 5.6,
          "petalWidth": 2.4,
          "sepalLength": 6.3,
          "sepalWidth": 3.4,
          "species": "virginica"
         },
         {
          "petalLength": 5.5,
          "petalWidth": 1.8,
          "sepalLength": 6.4,
          "sepalWidth": 3.1,
          "species": "virginica"
         },
         {
          "petalLength": 4.8,
          "petalWidth": 1.8,
          "sepalLength": 6,
          "sepalWidth": 3,
          "species": "virginica"
         },
         {
          "petalLength": 5.4,
          "petalWidth": 2.1,
          "sepalLength": 6.9,
          "sepalWidth": 3.1,
          "species": "virginica"
         },
         {
          "petalLength": 5.6,
          "petalWidth": 2.4,
          "sepalLength": 6.7,
          "sepalWidth": 3.1,
          "species": "virginica"
         },
         {
          "petalLength": 5.1,
          "petalWidth": 2.3,
          "sepalLength": 6.9,
          "sepalWidth": 3.1,
          "species": "virginica"
         },
         {
          "petalLength": 5.1,
          "petalWidth": 1.9,
          "sepalLength": 5.8,
          "sepalWidth": 2.7,
          "species": "virginica"
         },
         {
          "petalLength": 5.9,
          "petalWidth": 2.3,
          "sepalLength": 6.8,
          "sepalWidth": 3.2,
          "species": "virginica"
         },
         {
          "petalLength": 5.7,
          "petalWidth": 2.5,
          "sepalLength": 6.7,
          "sepalWidth": 3.3,
          "species": "virginica"
         },
         {
          "petalLength": 5.2,
          "petalWidth": 2.3,
          "sepalLength": 6.7,
          "sepalWidth": 3,
          "species": "virginica"
         },
         {
          "petalLength": 5,
          "petalWidth": 1.9,
          "sepalLength": 6.3,
          "sepalWidth": 2.5,
          "species": "virginica"
         },
         {
          "petalLength": 5.2,
          "petalWidth": 2,
          "sepalLength": 6.5,
          "sepalWidth": 3,
          "species": "virginica"
         },
         {
          "petalLength": 5.4,
          "petalWidth": 2.3,
          "sepalLength": 6.2,
          "sepalWidth": 3.4,
          "species": "virginica"
         },
         {
          "petalLength": 5.1,
          "petalWidth": 1.8,
          "sepalLength": 5.9,
          "sepalWidth": 3,
          "species": "virginica"
         }
        ]
       },
       "encoding": {
        "color": {
         "field": "species",
         "type": "nominal"
        },
        "tooltip": {
         "field": "species",
         "type": "nominal"
        },
        "x": {
         "field": "petalLength",
         "type": "quantitative"
        },
        "y": {
         "field": "sepalWidth",
         "type": "quantitative"
        }
       },
       "mark": "point",
       "selection": {
        "selector001": {
         "bind": "scales",
         "encodings": [
          "x",
          "y"
         ],
         "type": "interval"
        }
       }
      },
      "image/png": "[encoded data removed]",
      "text/plain": [
       "<VegaLite 3 object>\n",
       "\n",
       "If you see this message, it means the renderer has not been properly enabled\n",
       "for the frontend that you are using. For more information, see\n",
       "https://altair-viz.github.io/user_guide/troubleshooting.html\n"
      ]
     },
     "execution_count": 9,
     "metadata": {},
     "output_type": "execute_result"
    }
   ],
   "source": [
    "alt.Chart(iris, background=\"white\").mark_point().encode(\n",
    "    x=\"petalLength\",\n",
    "    y=\"sepalWidth\",\n",
    "    color=\"species\",\n",
    "    tooltip=\"species\"\n",
    ").interactive()"
   ]
  },
  {
   "cell_type": "markdown",
   "metadata": {},
   "source": [
    "## Altair \n",
    "<a id='altair'></a>\n",
    "\n",
    "_Altair is a declarative statistical visualization library for Python, based on Vega and Vega-Lite, and the source is available on GitHub._\n",
    "\n",
    "_With Altair, you can spend more time understanding your data and its meaning. Altair’s API is simple, friendly and consistent and built on top of the powerful Vega-Lite visualization grammar. This elegant simplicity produces beautiful and effective visualizations with a minimal amount of code._"
   ]
  },
  {
   "cell_type": "markdown",
   "metadata": {},
   "source": [
    "### Data\n",
    "Los datos en Altair son basados en Dataframe de Pandas, los cuales deben ser _Tidy_ para una mejor experiencia.\n",
    "\n",
    "El objeto _*Chart*_ es el fundamental, pues tiene como argumento los datos."
   ]
  },
  {
   "cell_type": "code",
   "execution_count": 10,
   "metadata": {},
   "outputs": [],
   "source": [
    "# Utilizaremos estos datos como ejemplo\n",
    "import pandas as pd\n",
    "data = pd.DataFrame({'a': list('CCCDDDEEE'),\n",
    "                     'b': [2, 7, 4, 1, 2, 6, 8, 4, 7]})"
   ]
  },
  {
   "cell_type": "code",
   "execution_count": 11,
   "metadata": {},
   "outputs": [],
   "source": [
    "import altair as alt\n",
    "chart = alt.Chart(data)"
   ]
  },
  {
   "cell_type": "markdown",
   "metadata": {},
   "source": [
    "### Mark\n",
    "\n",
    "¿Cómo queremos que se vean los datos? La respuesta está en los _marks_, que en Altair corresponden a un método de un objeto _Chart_. "
   ]
  },
  {
   "cell_type": "code",
   "execution_count": 12,
   "metadata": {},
   "outputs": [
    {
     "data": {
      "application/vnd.vegalite.v3+json": {
       "$schema": "https://vega.github.io/schema/vega-lite/v3.4.0.json",
       "config": {
        "mark": {
         "tooltip": null
        },
        "view": {
         "height": 300,
         "width": 400
        }
       },
       "data": {
        "name": "data-347f1284ea3247c0f55cb966abbdd2d8"
       },
       "datasets": {
        "data-347f1284ea3247c0f55cb966abbdd2d8": [
         {
          "a": "C",
          "b": 2
         },
         {
          "a": "C",
          "b": 7
         },
         {
          "a": "C",
          "b": 4
         },
         {
          "a": "D",
          "b": 1
         },
         {
          "a": "D",
          "b": 2
         },
         {
          "a": "D",
          "b": 6
         },
         {
          "a": "E",
          "b": 8
         },
         {
          "a": "E",
          "b": 4
         },
         {
          "a": "E",
          "b": 7
         }
        ]
       },
       "mark": "point"
      },
      "image/png": "[encoded data removed]",
      "text/plain": [
       "<VegaLite 3 object>\n",
       "\n",
       "If you see this message, it means the renderer has not been properly enabled\n",
       "for the frontend that you are using. For more information, see\n",
       "https://altair-viz.github.io/user_guide/troubleshooting.html\n"
      ]
     },
     "execution_count": 12,
     "metadata": {},
     "output_type": "execute_result"
    }
   ],
   "source": [
    "alt.Chart(data).mark_point()"
   ]
  },
  {
   "cell_type": "markdown",
   "metadata": {},
   "source": [
    "La representación anterior consiste en un solo punto, pues aún no se ha especificado las posiciones de los puntos."
   ]
  },
  {
   "cell_type": "markdown",
   "metadata": {},
   "source": [
    "### Encoding\n",
    "\n",
    "Canales asociados a columnas de los datos con tal de separar visualmente los elementos (que para estos datos se están graficando puntos). \n",
    "\n",
    "Por ejemplo, es posible codificar la variable `a` con el canal `x`, que representa el eje horizontal donde se posicionan los puntos. Esto es posible mediante el método `encode` de los objetos _Charts_."
   ]
  },
  {
   "cell_type": "code",
   "execution_count": 13,
   "metadata": {},
   "outputs": [
    {
     "data": {
      "application/vnd.vegalite.v3+json": {
       "$schema": "https://vega.github.io/schema/vega-lite/v3.4.0.json",
       "config": {
        "mark": {
         "tooltip": null
        },
        "view": {
         "height": 300,
         "width": 400
        }
       },
       "data": {
        "name": "data-347f1284ea3247c0f55cb966abbdd2d8"
       },
       "datasets": {
        "data-347f1284ea3247c0f55cb966abbdd2d8": [
         {
          "a": "C",
          "b": 2
         },
         {
          "a": "C",
          "b": 7
         },
         {
          "a": "C",
          "b": 4
         },
         {
          "a": "D",
          "b": 1
         },
         {
          "a": "D",
          "b": 2
         },
         {
          "a": "D",
          "b": 6
         },
         {
          "a": "E",
          "b": 8
         },
         {
          "a": "E",
          "b": 4
         },
         {
          "a": "E",
          "b": 7
         }
        ]
       },
       "encoding": {
        "x": {
         "field": "a",
         "type": "nominal"
        }
       },
       "mark": "point"
      },
      "image/png": "[encoded data removed]",
      "text/plain": [
       "<VegaLite 3 object>\n",
       "\n",
       "If you see this message, it means the renderer has not been properly enabled\n",
       "for the frontend that you are using. For more information, see\n",
       "https://altair-viz.github.io/user_guide/troubleshooting.html\n"
      ]
     },
     "execution_count": 13,
     "metadata": {},
     "output_type": "execute_result"
    }
   ],
   "source": [
    "alt.Chart(data).mark_point().encode(\n",
    "    x='a',\n",
    ")"
   ]
  },
  {
   "cell_type": "markdown",
   "metadata": {},
   "source": [
    "Los principales canales de _encoding_ son `x`, `y`, `color`, `shape`, `size`, etc. los cuales se pueden designar utilizando el nombre de la columna asociada a los datos."
   ]
  },
  {
   "cell_type": "markdown",
   "metadata": {},
   "source": [
    "Finalmente, separemos la posición vertical asignando el canal `y`, que como te imaginas, corresponde al eje vertical."
   ]
  },
  {
   "cell_type": "code",
   "execution_count": 14,
   "metadata": {},
   "outputs": [
    {
     "data": {
      "application/vnd.vegalite.v3+json": {
       "$schema": "https://vega.github.io/schema/vega-lite/v3.4.0.json",
       "config": {
        "mark": {
         "tooltip": null
        },
        "view": {
         "height": 300,
         "width": 400
        }
       },
       "data": {
        "name": "data-347f1284ea3247c0f55cb966abbdd2d8"
       },
       "datasets": {
        "data-347f1284ea3247c0f55cb966abbdd2d8": [
         {
          "a": "C",
          "b": 2
         },
         {
          "a": "C",
          "b": 7
         },
         {
          "a": "C",
          "b": 4
         },
         {
          "a": "D",
          "b": 1
         },
         {
          "a": "D",
          "b": 2
         },
         {
          "a": "D",
          "b": 6
         },
         {
          "a": "E",
          "b": 8
         },
         {
          "a": "E",
          "b": 4
         },
         {
          "a": "E",
          "b": 7
         }
        ]
       },
       "encoding": {
        "x": {
         "field": "a",
         "type": "nominal"
        },
        "y": {
         "field": "b",
         "type": "quantitative"
        }
       },
       "mark": "point"
      },
      "image/png": "[encoded data removed]",
      "text/plain": [
       "<VegaLite 3 object>\n",
       "\n",
       "If you see this message, it means the renderer has not been properly enabled\n",
       "for the frontend that you are using. For more information, see\n",
       "https://altair-viz.github.io/user_guide/troubleshooting.html\n"
      ]
     },
     "execution_count": 14,
     "metadata": {},
     "output_type": "execute_result"
    }
   ],
   "source": [
    "alt.Chart(data).mark_point().encode(\n",
    "    x='a',\n",
    "    y='b'\n",
    ")"
   ]
  },
  {
   "cell_type": "markdown",
   "metadata": {},
   "source": [
    "### Transformación\n",
    "\n",
    "Altair permite incluso transformar datos con tal de entregar mayor flexibilidad, para ello dispone de una sintaxis incorporada para `Agregaciones`. Por ejemplo, para calcular el promedio."
   ]
  },
  {
   "cell_type": "code",
   "execution_count": 15,
   "metadata": {},
   "outputs": [
    {
     "data": {
      "application/vnd.vegalite.v3+json": {
       "$schema": "https://vega.github.io/schema/vega-lite/v3.4.0.json",
       "config": {
        "mark": {
         "tooltip": null
        },
        "view": {
         "height": 300,
         "width": 400
        }
       },
       "data": {
        "name": "data-347f1284ea3247c0f55cb966abbdd2d8"
       },
       "datasets": {
        "data-347f1284ea3247c0f55cb966abbdd2d8": [
         {
          "a": "C",
          "b": 2
         },
         {
          "a": "C",
          "b": 7
         },
         {
          "a": "C",
          "b": 4
         },
         {
          "a": "D",
          "b": 1
         },
         {
          "a": "D",
          "b": 2
         },
         {
          "a": "D",
          "b": 6
         },
         {
          "a": "E",
          "b": 8
         },
         {
          "a": "E",
          "b": 4
         },
         {
          "a": "E",
          "b": 7
         }
        ]
       },
       "encoding": {
        "x": {
         "field": "a",
         "type": "nominal"
        },
        "y": {
         "aggregate": "average",
         "field": "b",
         "type": "quantitative"
        }
       },
       "mark": "point"
      },
      "image/png": "[encoded data removed]",
      "text/plain": [
       "<VegaLite 3 object>\n",
       "\n",
       "If you see this message, it means the renderer has not been properly enabled\n",
       "for the frontend that you are using. For more information, see\n",
       "https://altair-viz.github.io/user_guide/troubleshooting.html\n"
      ]
     },
     "execution_count": 15,
     "metadata": {},
     "output_type": "execute_result"
    }
   ],
   "source": [
    "alt.Chart(data).mark_point().encode(\n",
    "    x='a',\n",
    "    y='average(b)'\n",
    ")"
   ]
  },
  {
   "cell_type": "markdown",
   "metadata": {},
   "source": [
    "Aunque en realidad es más acertado utilizar gráficos de barra para mostrar agregaciones. Es tan fácil como cambiar el método `mark_point()` por `mark_bar()`."
   ]
  },
  {
   "cell_type": "code",
   "execution_count": 16,
   "metadata": {},
   "outputs": [
    {
     "data": {
      "application/vnd.vegalite.v3+json": {
       "$schema": "https://vega.github.io/schema/vega-lite/v3.4.0.json",
       "config": {
        "mark": {
         "tooltip": null
        },
        "view": {
         "height": 300,
         "width": 400
        }
       },
       "data": {
        "name": "data-347f1284ea3247c0f55cb966abbdd2d8"
       },
       "datasets": {
        "data-347f1284ea3247c0f55cb966abbdd2d8": [
         {
          "a": "C",
          "b": 2
         },
         {
          "a": "C",
          "b": 7
         },
         {
          "a": "C",
          "b": 4
         },
         {
          "a": "D",
          "b": 1
         },
         {
          "a": "D",
          "b": 2
         },
         {
          "a": "D",
          "b": 6
         },
         {
          "a": "E",
          "b": 8
         },
         {
          "a": "E",
          "b": 4
         },
         {
          "a": "E",
          "b": 7
         }
        ]
       },
       "encoding": {
        "x": {
         "field": "a",
         "type": "nominal"
        },
        "y": {
         "aggregate": "average",
         "field": "b",
         "type": "quantitative"
        }
       },
       "mark": "bar"
      },
      "image/png": "[encoded data removed]",
      "text/plain": [
       "<VegaLite 3 object>\n",
       "\n",
       "If you see this message, it means the renderer has not been properly enabled\n",
       "for the frontend that you are using. For more information, see\n",
       "https://altair-viz.github.io/user_guide/troubleshooting.html\n"
      ]
     },
     "execution_count": 16,
     "metadata": {},
     "output_type": "execute_result"
    }
   ],
   "source": [
    "alt.Chart(data).mark_bar().encode(\n",
    "    x='a',\n",
    "    y='average(b)'\n",
    ")"
   ]
  },
  {
   "cell_type": "markdown",
   "metadata": {},
   "source": [
    "### Muchas más personalizaciones\n",
    "\n",
    "Por defecto, Altair a través de Vega-Lite realiza algunas elecciones sobre las propiedades por defecto en cada visualización. Sin embargo, Altair también provee una API para personalizar los gráficos. Por ejemplo, es posible especificar el título de cada eje utilizando los atributos de los canales. Inclusive es posible escoger el color de los _marks_."
   ]
  },
  {
   "cell_type": "code",
   "execution_count": 17,
   "metadata": {},
   "outputs": [
    {
     "data": {
      "application/vnd.vegalite.v3+json": {
       "$schema": "https://vega.github.io/schema/vega-lite/v3.4.0.json",
       "config": {
        "mark": {
         "tooltip": null
        },
        "view": {
         "height": 300,
         "width": 400
        }
       },
       "data": {
        "name": "data-347f1284ea3247c0f55cb966abbdd2d8"
       },
       "datasets": {
        "data-347f1284ea3247c0f55cb966abbdd2d8": [
         {
          "a": "C",
          "b": 2
         },
         {
          "a": "C",
          "b": 7
         },
         {
          "a": "C",
          "b": 4
         },
         {
          "a": "D",
          "b": 1
         },
         {
          "a": "D",
          "b": 2
         },
         {
          "a": "D",
          "b": 6
         },
         {
          "a": "E",
          "b": 8
         },
         {
          "a": "E",
          "b": 4
         },
         {
          "a": "E",
          "b": 7
         }
        ]
       },
       "encoding": {
        "x": {
         "aggregate": "average",
         "axis": {
          "title": "avg(b) by category"
         },
         "field": "b",
         "type": "quantitative"
        },
        "y": {
         "axis": {
          "title": "category"
         },
         "field": "a",
         "type": "nominal"
        }
       },
       "mark": {
        "color": "firebrick",
        "type": "bar"
       }
      },
      "image/png": "[encoded data removed]",
      "text/plain": [
       "<VegaLite 3 object>\n",
       "\n",
       "If you see this message, it means the renderer has not been properly enabled\n",
       "for the frontend that you are using. For more information, see\n",
       "https://altair-viz.github.io/user_guide/troubleshooting.html\n"
      ]
     },
     "execution_count": 17,
     "metadata": {},
     "output_type": "execute_result"
    }
   ],
   "source": [
    "alt.Chart(data).mark_bar(color='firebrick').encode(\n",
    "    y=alt.Y('a', axis=alt.Axis(title='category')),\n",
    "    x=alt.X('average(b)', axis=alt.Axis(title='avg(b) by category'))\n",
    ")"
   ]
  },
  {
   "cell_type": "markdown",
   "metadata": {},
   "source": [
    "En el ejemplo anterior no basta con solo el nombre de la columna, es necesario crear el objeto `alt.__` correspondiente a los canales."
   ]
  },
  {
   "cell_type": "markdown",
   "metadata": {},
   "source": [
    "Otro ejemplo útil consiste en juntar dos gŕaficos en una misma figura."
   ]
  },
  {
   "cell_type": "code",
   "execution_count": 18,
   "metadata": {},
   "outputs": [
    {
     "data": {
      "application/vnd.vegalite.v3+json": {
       "$schema": "https://vega.github.io/schema/vega-lite/v3.4.0.json",
       "config": {
        "mark": {
         "tooltip": null
        },
        "view": {
         "height": 300,
         "width": 400
        }
       },
       "data": {
        "name": "data-347f1284ea3247c0f55cb966abbdd2d8"
       },
       "datasets": {
        "data-347f1284ea3247c0f55cb966abbdd2d8": [
         {
          "a": "C",
          "b": 2
         },
         {
          "a": "C",
          "b": 7
         },
         {
          "a": "C",
          "b": 4
         },
         {
          "a": "D",
          "b": 1
         },
         {
          "a": "D",
          "b": 2
         },
         {
          "a": "D",
          "b": 6
         },
         {
          "a": "E",
          "b": 8
         },
         {
          "a": "E",
          "b": 4
         },
         {
          "a": "E",
          "b": 7
         }
        ]
       },
       "hconcat": [
        {
         "encoding": {
          "x": {
           "field": "a",
           "type": "nominal"
          },
          "y": {
           "aggregate": "average",
           "field": "b",
           "type": "quantitative"
          }
         },
         "mark": "bar"
        },
        {
         "encoding": {
          "x": {
           "aggregate": "average",
           "axis": {
            "title": "avg(b) by category"
           },
           "field": "b",
           "type": "quantitative"
          },
          "y": {
           "axis": {
            "title": "category"
           },
           "field": "a",
           "type": "nominal"
          }
         },
         "mark": {
          "color": "firebrick",
          "type": "bar"
         }
        }
       ]
      },
      "image/png": "[encoded data removed]",
      "text/plain": [
       "<VegaLite 3 object>\n",
       "\n",
       "If you see this message, it means the renderer has not been properly enabled\n",
       "for the frontend that you are using. For more information, see\n",
       "https://altair-viz.github.io/user_guide/troubleshooting.html\n"
      ]
     },
     "execution_count": 18,
     "metadata": {},
     "output_type": "execute_result"
    }
   ],
   "source": [
    "vertical_chart = alt.Chart(data).mark_bar().encode(\n",
    "    x='a',\n",
    "    y='average(b)'\n",
    ")\n",
    "\n",
    "horizontal_chart = alt.Chart(data).mark_bar(color='firebrick').encode(\n",
    "    y=alt.Y('a', axis=alt.Axis(title='category')),\n",
    "    x=alt.X('average(b)', axis=alt.Axis(title='avg(b) by category'))\n",
    ")\n",
    "\n",
    "vertical_chart | horizontal_chart  "
   ]
  },
  {
   "cell_type": "markdown",
   "metadata": {},
   "source": [
    "Inclusive se puden sumar!"
   ]
  },
  {
   "cell_type": "code",
   "execution_count": 19,
   "metadata": {},
   "outputs": [
    {
     "data": {
      "application/vnd.vegalite.v3+json": {
       "$schema": "https://vega.github.io/schema/vega-lite/v3.4.0.json",
       "config": {
        "mark": {
         "tooltip": null
        },
        "view": {
         "height": 300,
         "width": 400
        }
       },
       "data": {
        "name": "data-347f1284ea3247c0f55cb966abbdd2d8"
       },
       "datasets": {
        "data-347f1284ea3247c0f55cb966abbdd2d8": [
         {
          "a": "C",
          "b": 2
         },
         {
          "a": "C",
          "b": 7
         },
         {
          "a": "C",
          "b": 4
         },
         {
          "a": "D",
          "b": 1
         },
         {
          "a": "D",
          "b": 2
         },
         {
          "a": "D",
          "b": 6
         },
         {
          "a": "E",
          "b": 8
         },
         {
          "a": "E",
          "b": 4
         },
         {
          "a": "E",
          "b": 7
         }
        ]
       },
       "layer": [
        {
         "encoding": {
          "x": {
           "field": "a",
           "type": "nominal"
          },
          "y": {
           "aggregate": "average",
           "field": "b",
           "type": "quantitative"
          }
         },
         "mark": "bar"
        },
        {
         "encoding": {
          "x": {
           "field": "a",
           "type": "nominal"
          },
          "y": {
           "aggregate": "average",
           "field": "b",
           "type": "quantitative"
          }
         },
         "mark": {
          "color": "firebrick",
          "type": "point"
         }
        }
       ]
      },
      "image/png": "[encoded data removed]",
      "text/plain": [
       "<VegaLite 3 object>\n",
       "\n",
       "If you see this message, it means the renderer has not been properly enabled\n",
       "for the frontend that you are using. For more information, see\n",
       "https://altair-viz.github.io/user_guide/troubleshooting.html\n"
      ]
     },
     "execution_count": 19,
     "metadata": {},
     "output_type": "execute_result"
    }
   ],
   "source": [
    "vertical_chart_point = alt.Chart(data).mark_point(color='firebrick').encode(\n",
    "    x='a',\n",
    "    y='average(b)'\n",
    ")\n",
    "\n",
    "vertical_chart + vertical_chart_point"
   ]
  },
  {
   "cell_type": "markdown",
   "metadata": {},
   "source": [
    "## Gráfico a Gráfico\n",
    "<a id='plot-plot'></a>"
   ]
  },
  {
   "cell_type": "markdown",
   "metadata": {},
   "source": [
    "### Gráfico de Barras\n",
    "<a id='barplot'></a>"
   ]
  },
  {
   "cell_type": "markdown",
   "metadata": {},
   "source": [
    "#### Caso Especial: Histogramas"
   ]
  },
  {
   "cell_type": "code",
   "execution_count": 20,
   "metadata": {},
   "outputs": [
    {
     "data": {
      "text/html": [
       "<div>\n",
       "<style scoped>\n",
       "    .dataframe tbody tr th:only-of-type {\n",
       "        vertical-align: middle;\n",
       "    }\n",
       "\n",
       "    .dataframe tbody tr th {\n",
       "        vertical-align: top;\n",
       "    }\n",
       "\n",
       "    .dataframe thead th {\n",
       "        text-align: right;\n",
       "    }\n",
       "</style>\n",
       "<table border=\"1\" class=\"dataframe\">\n",
       "  <thead>\n",
       "    <tr style=\"text-align: right;\">\n",
       "      <th></th>\n",
       "      <th>Experiment</th>\n",
       "      <th>Measurement</th>\n",
       "    </tr>\n",
       "  </thead>\n",
       "  <tbody>\n",
       "    <tr>\n",
       "      <td>0</td>\n",
       "      <td>Trial A</td>\n",
       "      <td>0.397371</td>\n",
       "    </tr>\n",
       "    <tr>\n",
       "      <td>1</td>\n",
       "      <td>Trial A</td>\n",
       "      <td>-0.110611</td>\n",
       "    </tr>\n",
       "    <tr>\n",
       "      <td>2</td>\n",
       "      <td>Trial A</td>\n",
       "      <td>0.518151</td>\n",
       "    </tr>\n",
       "    <tr>\n",
       "      <td>3</td>\n",
       "      <td>Trial A</td>\n",
       "      <td>1.218424</td>\n",
       "    </tr>\n",
       "    <tr>\n",
       "      <td>4</td>\n",
       "      <td>Trial A</td>\n",
       "      <td>-0.187323</td>\n",
       "    </tr>\n",
       "  </tbody>\n",
       "</table>\n",
       "</div>"
      ],
      "text/plain": [
       "  Experiment  Measurement\n",
       "0    Trial A     0.397371\n",
       "1    Trial A    -0.110611\n",
       "2    Trial A     0.518151\n",
       "3    Trial A     1.218424\n",
       "4    Trial A    -0.187323"
      ]
     },
     "execution_count": 20,
     "metadata": {},
     "output_type": "execute_result"
    }
   ],
   "source": [
    "import numpy as np\n",
    "np.random.seed(42)\n",
    "\n",
    "# Generating Data\n",
    "df = pd.DataFrame({'Trial A': np.random.normal(0, 0.8, 1000),\n",
    "                   'Trial B': np.random.normal(-2, 1, 1000),\n",
    "                   'Trial C': np.random.normal(3, 2, 1000)})\n",
    "\n",
    "# Tidying Data\n",
    "df = pd.melt(df, id_vars=df.index.name,\n",
    "             value_vars=df.columns,\n",
    "             var_name='Experiment',\n",
    "             value_name='Measurement')\n",
    "\n",
    "df.head()"
   ]
  },
  {
   "cell_type": "code",
   "execution_count": 21,
   "metadata": {},
   "outputs": [
    {
     "data": {
      "application/vnd.vegalite.v3+json": {
       "$schema": "https://vega.github.io/schema/vega-lite/v3.4.0.json",
       "config": {
        "mark": {
         "tooltip": null
        },
        "view": {
         "height": 300,
         "width": 400
        }
       },
       "data": {
        "name": "data-51270e3340823df15565726e5430b4f2"
       },
       "datasets": {
        "data-51270e3340823df15565726e5430b4f2": [
         {
          "Experiment": "Trial A",
          "Measurement": 0.39737132240898615
         },
         {
          "Experiment": "Trial A",
          "Measurement": -0.11061144093694773
         },
         {
          "Experiment": "Trial A",
          "Measurement": 0.518150830480554
         },
         {
          "Experiment": "Trial A",
          "Measurement": 1.2184238851264204
         },
         {
          "Experiment": "Trial A",
          "Measurement": -0.18732269977866878
         },
         {
          "Experiment": "Trial A",
          "Measurement": -0.18730956555934444
         },
         {
          "Experiment": "Trial A",
          "Measurement": 1.2633702524059132
         },
         {
          "Experiment": "Trial A",
          "Measurement": 0.613947783322327
         },
         {
          "Experiment": "Trial A",
          "Measurement": -0.3755795087479617
         },
         {
          "Experiment": "Trial A",
          "Measurement": 0.43404803486877175
         },
         {
          "Experiment": "Trial A",
          "Measurement": -0.3707341542499698
         },
         {
          "Experiment": "Trial A",
          "Measurement": -0.3725838028562055
         },
         {
          "Experiment": "Trial A",
          "Measurement": 0.1935698172528273
         },
         {
          "Experiment": "Trial A",
          "Measurement": -1.5306241957262383
         },
         {
          "Experiment": "Trial A",
          "Measurement": -1.3799342660104263
         },
         {
          "Experiment": "Trial A",
          "Measurement": -0.44983002339277817
         },
         {
          "Experiment": "Trial A",
          "Measurement": -0.8102648962675391
         },
         {
          "Experiment": "Trial A",
          "Measurement": 0.2513978660762191
         },
         {
          "Experiment": "Trial A",
          "Measurement": -0.7264192604169688
         },
         {
          "Experiment": "Trial A",
          "Measurement": -1.1298429610682332
         },
         {
          "Experiment": "Trial A",
          "Measurement": 1.1725190151372433
         },
         {
          "Experiment": "Trial A",
          "Measurement": -0.18062104038922855
         },
         {
          "Experiment": "Trial A",
          "Measurement": 0.05402256375033907
         },
         {
          "Experiment": "Trial A",
          "Measurement": -1.1397985489707654
         },
         {
          "Experiment": "Trial A",
          "Measurement": -0.43550617962014615
         },
         {
          "Experiment": "Trial A",
          "Measurement": 0.08873807176789288
         },
         {
          "Experiment": "Trial A",
          "Measurement": -0.9207948619378423
         },
         {
          "Experiment": "Trial A",
          "Measurement": 0.3005584146765376
         },
         {
          "Experiment": "Trial A",
          "Measurement": -0.480510951935044
         },
         {
          "Experiment": "Trial A",
          "Measurement": -0.23335499983462143
         },
         {
          "Experiment": "Trial A",
          "Measurement": -0.48136528978351756
         },
         {
          "Experiment": "Trial A",
          "Measurement": 1.4818225476071503
         },
         {
          "Experiment": "Trial A",
          "Measurement": -0.010797779790347137
         },
         {
          "Experiment": "Trial A",
          "Measurement": -0.8461687431647203
         },
         {
          "Experiment": "Trial A",
          "Measurement": 0.6580359296825513
         },
         {
          "Experiment": "Trial A",
          "Measurement": -0.9766749199768179
         },
         {
          "Experiment": "Trial A",
          "Measurement": 0.16709087600380435
         },
         {
          "Experiment": "Trial A",
          "Measurement": -1.5677360991038205
         },
         {
          "Experiment": "Trial A",
          "Measurement": -1.0625488391187445
         },
         {
          "Experiment": "Trial A",
          "Measurement": 0.15748898869529881
         },
         {
          "Experiment": "Trial A",
          "Measurement": 0.5907732639963283
         },
         {
          "Experiment": "Trial A",
          "Measurement": 0.1370946249519764
         },
         {
          "Experiment": "Trial A",
          "Measurement": -0.09251862591059243
         },
         {
          "Experiment": "Trial A",
          "Measurement": -0.24088295647143104
         },
         {
          "Experiment": "Trial A",
          "Measurement": -1.182817592293942
         },
         {
          "Experiment": "Trial A",
          "Measurement": -0.5758753667157669
         },
         {
          "Experiment": "Trial A",
          "Measurement": -0.36851101676783005
         },
         {
          "Experiment": "Trial A",
          "Measurement": 0.8456977809751326
         },
         {
          "Experiment": "Trial A",
          "Measurement": 0.27489463165476913
         },
         {
          "Experiment": "Trial A",
          "Measurement": -1.4104321242901872
         },
         {
          "Experiment": "Trial A",
          "Measurement": 0.259267175515836
         },
         {
          "Experiment": "Trial A",
          "Measurement": -0.30806582433305324
         },
         {
          "Experiment": "Trial A",
          "Measurement": -0.541537600244767
         },
         {
          "Experiment": "Trial A",
          "Measurement": 0.48934103107269433
         },
         {
          "Experiment": "Trial A",
          "Measurement": 0.8247996179967608
         },
         {
          "Experiment": "Trial A",
          "Measurement": 0.7450240952929589
         },
         {
          "Experiment": "Trial A",
          "Measurement": -0.6713740185781109
         },
         {
          "Experiment": "Trial A",
          "Measurement": -0.24736990068097167
         },
         {
          "Experiment": "Trial A",
          "Measurement": 0.26501074512285117
         },
         {
          "Experiment": "Trial A",
          "Measurement": 0.7804361016978874
         },
         {
          "Experiment": "Trial A",
          "Measurement": -0.383339390276232
         },
         {
          "Experiment": "Trial A",
          "Measurement": -0.1485271813310537
         },
         {
          "Experiment": "Trial A",
          "Measurement": -0.8850679792048226
         },
         {
          "Experiment": "Trial A",
          "Measurement": -0.9569652992645367
         },
         {
          "Experiment": "Trial A",
          "Measurement": 0.6500206579153585
         },
         {
          "Experiment": "Trial A",
          "Measurement": 1.0849920228566583
         },
         {
          "Experiment": "Trial A",
          "Measurement": -0.05760809726426708
         },
         {
          "Experiment": "Trial A",
          "Measurement": 0.8028263183136194
         },
         {
          "Experiment": "Trial A",
          "Measurement": 0.2893088200381073
         },
         {
          "Experiment": "Trial A",
          "Measurement": -0.5160958036840995
         },
         {
          "Experiment": "Trial A",
          "Measurement": 0.28911648440673116
         },
         {
          "Experiment": "Trial A",
          "Measurement": 1.2304292531727754
         },
         {
          "Experiment": "Trial A",
          "Measurement": -0.028660831287961232
         },
         {
          "Experiment": "Trial A",
          "Measurement": 1.2517149246512052
         },
         {
          "Experiment": "Trial A",
          "Measurement": -2.0957960832717957
         },
         {
          "Experiment": "Trial A",
          "Measurement": 0.6575220035001791
         },
         {
          "Experiment": "Trial A",
          "Measurement": 0.06963765459053697
         },
         {
          "Experiment": "Trial A",
          "Measurement": -0.23920588037269394
         },
         {
          "Experiment": "Trial A",
          "Measurement": 0.07340862122840185
         },
         {
          "Experiment": "Trial A",
          "Measurement": -1.5900551316807143
         },
         {
          "Experiment": "Trial A",
          "Measurement": -0.17573751027000956
         },
         {
          "Experiment": "Trial A",
          "Measurement": 0.28569005720939716
         },
         {
          "Experiment": "Trial A",
          "Measurement": 1.182315235793213
         },
         {
          "Experiment": "Trial A",
          "Measurement": -0.4146161746189179
         },
         {
          "Experiment": "Trial A",
          "Measurement": -0.6467948823145502
         },
         {
          "Experiment": "Trial A",
          "Measurement": -0.40140563486762926
         },
         {
          "Experiment": "Trial A",
          "Measurement": 0.7323216941616594
         },
         {
          "Experiment": "Trial A",
          "Measurement": 0.2630008877277476
         },
         {
          "Experiment": "Trial A",
          "Measurement": -0.42380816301363106
         },
         {
          "Experiment": "Trial A",
          "Measurement": 0.4106139464906849
         },
         {
          "Experiment": "Trial A",
          "Measurement": 0.07766203947843231
         },
         {
          "Experiment": "Trial A",
          "Measurement": 0.7749159924263114
         },
         {
          "Experiment": "Trial A",
          "Measurement": -0.5616424751018819
         },
         {
          "Experiment": "Trial A",
          "Measurement": -0.2621297172782146
         },
         {
          "Experiment": "Trial A",
          "Measurement": -0.31368652250572615
         },
         {
          "Experiment": "Trial A",
          "Measurement": -1.1708119585056949
         },
         {
          "Experiment": "Trial A",
          "Measurement": 0.23689622165166085
         },
         {
          "Experiment": "Trial A",
          "Measurement": 0.2088442177439115
         },
         {
          "Experiment": "Trial A",
          "Measurement": 0.004090765313968712
         },
         {
          "Experiment": "Trial A",
          "Measurement": -0.18766970670011754
         },
         {
          "Experiment": "Trial A",
          "Measurement": -1.1322965936403315
         },
         {
          "Experiment": "Trial A",
          "Measurement": -0.33651625821228726
         },
         {
          "Experiment": "Trial A",
          "Measurement": -0.2741716132214156
         },
         {
          "Experiment": "Trial A",
          "Measurement": -0.6418218153772952
         },
         {
          "Experiment": "Trial A",
          "Measurement": -0.12902856933280732
         },
         {
          "Experiment": "Trial A",
          "Measurement": 0.32324068545163076
         },
         {
          "Experiment": "Trial A",
          "Measurement": 1.5089487209684243
         },
         {
          "Experiment": "Trial A",
          "Measurement": 0.13966225026547116
         },
         {
          "Experiment": "Trial A",
          "Measurement": 0.2060403125782115
         },
         {
          "Experiment": "Trial A",
          "Measurement": -0.059556732612933774
         },
         {
          "Experiment": "Trial A",
          "Measurement": -1.5350169722392333
         },
         {
          "Experiment": "Trial A",
          "Measurement": -0.021211100359373503
         },
         {
          "Experiment": "Trial A",
          "Measurement": 0.048184167952821155
         },
         {
          "Experiment": "Trial A",
          "Measurement": 1.970593689988229
         },
         {
          "Experiment": "Trial A",
          "Measurement": -0.15388877182489802
         },
         {
          "Experiment": "Trial A",
          "Measurement": 0.24123787386689
         },
         {
          "Experiment": "Trial A",
          "Measurement": -0.02776941576419465
         },
         {
          "Experiment": "Trial A",
          "Measurement": -0.9349424300956257
         },
         {
          "Experiment": "Trial A",
          "Measurement": 0.9142582516120165
         },
         {
          "Experiment": "Trial A",
          "Measurement": 0.6015464261494193
         },
         {
          "Experiment": "Trial A",
          "Measurement": 0.6328255576344376
         },
         {
          "Experiment": "Trial A",
          "Measurement": -0.7275099638357911
         },
         {
          "Experiment": "Trial A",
          "Measurement": 1.1222354487488795
         },
         {
          "Experiment": "Trial A",
          "Measurement": -1.1214808502338247
         },
         {
          "Experiment": "Trial A",
          "Measurement": 0.46948567504021627
         },
         {
          "Experiment": "Trial A",
          "Measurement": 1.7523645006479829
         },
         {
          "Experiment": "Trial A",
          "Measurement": -0.7924290601045507
         },
         {
          "Experiment": "Trial A",
          "Measurement": -0.45303818368221754
         },
         {
          "Experiment": "Trial A",
          "Measurement": 0.07972109207011298
         },
         {
          "Experiment": "Trial A",
          "Measurement": -0.4027805232929594
         },
         {
          "Experiment": "Trial A",
          "Measurement": -1.2405307448529062
         },
         {
          "Experiment": "Trial A",
          "Measurement": 0.05485037984482186
         },
         {
          "Experiment": "Trial A",
          "Measurement": -0.8498429709808839
         },
         {
          "Experiment": "Trial A",
          "Measurement": 0.37887394450814527
         },
         {
          "Experiment": "Trial A",
          "Measurement": -0.7355393873870426
         },
         {
          "Experiment": "Trial A",
          "Measurement": 1.2399475240140316
         },
         {
          "Experiment": "Trial A",
          "Measurement": -0.6266026338689897
         },
         {
          "Experiment": "Trial A",
          "Measurement": -0.25764921296454046
         },
         {
          "Experiment": "Trial A",
          "Measurement": 0.6508137738957358
         },
         {
          "Experiment": "Trial A",
          "Measurement": -0.9846914531471642
         },
         {
          "Experiment": "Trial A",
          "Measurement": 0.18196794768330354
         },
         {
          "Experiment": "Trial A",
          "Measurement": 1.0457142034259426
         },
         {
          "Experiment": "Trial A",
          "Measurement": -1.2859865876489822
         },
         {
          "Experiment": "Trial A",
          "Measurement": 0.14770708682584338
         },
         {
          "Experiment": "Trial A",
          "Measurement": 0.20790623539873884
         },
         {
          "Experiment": "Trial A",
          "Measurement": 0.6254582974218483
         },
         {
          "Experiment": "Trial A",
          "Measurement": -0.9895605687024656
         },
         {
          "Experiment": "Trial A",
          "Measurement": -1.056365290467421
         },
         {
          "Experiment": "Trial A",
          "Measurement": 0.41755325249351816
         },
         {
          "Experiment": "Trial A",
          "Measurement": 0.23758773858654886
         },
         {
          "Experiment": "Trial A",
          "Measurement": 0.20039428027670125
         },
         {
          "Experiment": "Trial A",
          "Measurement": 0.27715856759758056
         },
         {
          "Experiment": "Trial A",
          "Measurement": -0.5440197772627927
         },
         {
          "Experiment": "Trial A",
          "Measurement": 0.18580295772880284
         },
         {
          "Experiment": "Trial A",
          "Measurement": 0.23445797863894502
         },
         {
          "Experiment": "Trial A",
          "Measurement": -0.5714811344210943
         },
         {
          "Experiment": "Trial A",
          "Measurement": 1.4926196089158053
         },
         {
          "Experiment": "Trial A",
          "Measurement": 0.37906633672943
         },
         {
          "Experiment": "Trial A",
          "Measurement": -0.953042797762119
         },
         {
          "Experiment": "Trial A",
          "Measurement": 0.5252428869070638
         },
         {
          "Experiment": "Trial A",
          "Measurement": -0.7797453361818572
         },
         {
          "Experiment": "Trial A",
          "Measurement": 0.6296676829939617
         },
         {
          "Experiment": "Trial A",
          "Measurement": 0.9268764632059233
         },
         {
          "Experiment": "Trial A",
          "Measurement": -0.6565458546813684
         },
         {
          "Experiment": "Trial A",
          "Measurement": 0.7707009033954575
         },
         {
          "Experiment": "Trial A",
          "Measurement": 0.3302247415491987
         },
         {
          "Experiment": "Trial A",
          "Measurement": 0.657648127995592
         },
         {
          "Experiment": "Trial A",
          "Measurement": 1.517434386123158
         },
         {
          "Experiment": "Trial A",
          "Measurement": -0.1963104928022964
         },
         {
          "Experiment": "Trial A",
          "Measurement": -0.6029889314859918
         },
         {
          "Experiment": "Trial A",
          "Measurement": -0.7116115437004187
         },
         {
          "Experiment": "Trial A",
          "Measurement": -0.6526482279723507
         },
         {
          "Experiment": "Trial A",
          "Measurement": -0.061681367531283365
         },
         {
          "Experiment": "Trial A",
          "Measurement": 0.2729215798533151
         },
         {
          "Experiment": "Trial A",
          "Measurement": 0.22135263946401526
         },
         {
          "Experiment": "Trial A",
          "Measurement": 0.6617465992288191
         },
         {
          "Experiment": "Trial A",
          "Measurement": 0.010401513502325616
         },
         {
          "Experiment": "Trial A",
          "Measurement": 1.1628272617258535
         },
         {
          "Experiment": "Trial A",
          "Measurement": -0.21172546659036487
         },
         {
          "Experiment": "Trial A",
          "Measurement": 2.176135333271695
         },
         {
          "Experiment": "Trial A",
          "Measurement": 0.500533878212005
         },
         {
          "Experiment": "Trial A",
          "Measurement": -0.685726045133026
         },
         {
          "Experiment": "Trial A",
          "Measurement": -0.8567139984488898
         },
         {
          "Experiment": "Trial A",
          "Measurement": 0.38597793219454823
         },
         {
          "Experiment": "Trial A",
          "Measurement": -0.17877022826068073
         },
         {
          "Experiment": "Trial A",
          "Measurement": 0.5712003952736736
         },
         {
          "Experiment": "Trial A",
          "Measurement": 0.3785900996588359
         },
         {
          "Experiment": "Trial A",
          "Measurement": -0.05826313012549822
         },
         {
          "Experiment": "Trial A",
          "Measurement": -0.677434974454724
         },
         {
          "Experiment": "Trial A",
          "Measurement": -1.2118777797486917
         },
         {
          "Experiment": "Trial A",
          "Measurement": -0.3572119616536169
         },
         {
          "Experiment": "Trial A",
          "Measurement": 0.685119035458778
         },
         {
          "Experiment": "Trial A",
          "Measurement": 0.17127499530416318
         },
         {
          "Experiment": "Trial A",
          "Measurement": -0.9965910229695905
         },
         {
          "Experiment": "Trial A",
          "Measurement": 0.1385447406809456
         },
         {
          "Experiment": "Trial A",
          "Measurement": 0.30825390378306944
         },
         {
          "Experiment": "Trial A",
          "Measurement": -0.7070859489609065
         },
         {
          "Experiment": "Trial A",
          "Measurement": 0.12298008475642233
         },
         {
          "Experiment": "Trial A",
          "Measurement": 0.04656697475679992
         },
         {
          "Experiment": "Trial A",
          "Measurement": -0.9143762382644985
         },
         {
          "Experiment": "Trial A",
          "Measurement": 0.28622988827862667
         },
         {
          "Experiment": "Trial A",
          "Measurement": 0.44862762109458754
         },
         {
          "Experiment": "Trial A",
          "Measurement": 0.8664409945402216
         },
         {
          "Experiment": "Trial A",
          "Measurement": 0.8430416416279224
         },
         {
          "Experiment": "Trial A",
          "Measurement": -1.102135494365673
         },
         {
          "Experiment": "Trial A",
          "Measurement": -0.7502600319320982
         },
         {
          "Experiment": "Trial A",
          "Measurement": 0.41202821376692783
         },
         {
          "Experiment": "Trial A",
          "Measurement": 0.4110287607297671
         },
         {
          "Experiment": "Trial A",
          "Measurement": 0.4120381490448384
         },
         {
          "Experiment": "Trial A",
          "Measurement": 3.0821851925237773
         },
         {
          "Experiment": "Trial A",
          "Measurement": 0.4567124085545336
         },
         {
          "Experiment": "Trial A",
          "Measurement": 0.9084525121444792
         },
         {
          "Experiment": "Trial A",
          "Measurement": 0.7632014107945619
         },
         {
          "Experiment": "Trial A",
          "Measurement": 0.5211130010446384
         },
         {
          "Experiment": "Trial A",
          "Measurement": -0.2522153957122765
         },
         {
          "Experiment": "Trial A",
          "Measurement": 0.6071753763946139
         },
         {
          "Experiment": "Trial A",
          "Measurement": -0.6182601716300575
         },
         {
          "Experiment": "Trial A",
          "Measurement": -0.1894548853920071
         },
         {
          "Experiment": "Trial A",
          "Measurement": -0.3882908382632828
         },
         {
          "Experiment": "Trial A",
          "Measurement": 0.06549931150905805
         },
         {
          "Experiment": "Trial A",
          "Measurement": 1.851726853338807
         },
         {
          "Experiment": "Trial A",
          "Measurement": -1.4938121540733986
         },
         {
          "Experiment": "Trial A",
          "Measurement": 0.5490081522996108
         },
         {
          "Experiment": "Trial A",
          "Measurement": -1.2901726969517213
         },
         {
          "Experiment": "Trial A",
          "Measurement": -0.3775454926315468
         },
         {
          "Experiment": "Trial A",
          "Measurement": 0.8711604775738929
         },
         {
          "Experiment": "Trial A",
          "Measurement": 0.05142401527637022
         },
         {
          "Experiment": "Trial A",
          "Measurement": -0.8621958223434449
         },
         {
          "Experiment": "Trial A",
          "Measurement": -0.5722429674079746
         },
         {
          "Experiment": "Trial A",
          "Measurement": 0.5436781991477407
         },
         {
          "Experiment": "Trial A",
          "Measurement": -0.5842933053737094
         },
         {
          "Experiment": "Trial A",
          "Measurement": 0.1731668716655799
         },
         {
          "Experiment": "Trial A",
          "Measurement": 0.03645747192305103
         },
         {
          "Experiment": "Trial A",
          "Measurement": -0.5212802780846537
         },
         {
          "Experiment": "Trial A",
          "Measurement": 1.7151552714602607
         },
         {
          "Experiment": "Trial A",
          "Measurement": 0.507135217854409
         },
         {
          "Experiment": "Trial A",
          "Measurement": -1.6201140693260858
         },
         {
          "Experiment": "Trial A",
          "Measurement": 0.1491634518155421
         },
         {
          "Experiment": "Trial A",
          "Measurement": -0.5294291718147104
         },
         {
          "Experiment": "Trial A",
          "Measurement": 0.6819466678369792
         },
         {
          "Experiment": "Trial A",
          "Measurement": -0.6340165907461606
         },
         {
          "Experiment": "Trial A",
          "Measurement": -0.09178915317351921
         },
         {
          "Experiment": "Trial A",
          "Measurement": 0.4039898231843657
         },
         {
          "Experiment": "Trial A",
          "Measurement": 0.6926041553360972
         },
         {
          "Experiment": "Trial A",
          "Measurement": -0.960237125644621
         },
         {
          "Experiment": "Trial A",
          "Measurement": -0.2676009886727587
         },
         {
          "Experiment": "Trial A",
          "Measurement": -0.37995624892876495
         },
         {
          "Experiment": "Trial A",
          "Measurement": -0.5226633860589696
         },
         {
          "Experiment": "Trial A",
          "Measurement": 1.4123633922248775
         },
         {
          "Experiment": "Trial A",
          "Measurement": 0.32398536876876444
         },
         {
          "Experiment": "Trial A",
          "Measurement": -1.0087071634680362
         },
         {
          "Experiment": "Trial A",
          "Measurement": 0.7342895576438209
         },
         {
          "Experiment": "Trial A",
          "Measurement": 1.6977249576101068
         },
         {
          "Experiment": "Trial A",
          "Measurement": 0.8259722084409176
         },
         {
          "Experiment": "Trial A",
          "Measurement": -1.2154959727632109
         },
         {
          "Experiment": "Trial A",
          "Measurement": -0.38738725829300114
         },
         {
          "Experiment": "Trial A",
          "Measurement": 1.0135289193492982
         },
         {
          "Experiment": "Trial A",
          "Measurement": -0.5661355724950247
         },
         {
          "Experiment": "Trial A",
          "Measurement": 0.3550555425169828
         },
         {
          "Experiment": "Trial A",
          "Measurement": 0.6197072427434694
         },
         {
          "Experiment": "Trial A",
          "Measurement": -0.7415443772624664
         },
         {
          "Experiment": "Trial A",
          "Measurement": -0.047620284849440066
         },
         {
          "Experiment": "Trial A",
          "Measurement": -2.5930138720552582
         },
         {
          "Experiment": "Trial A",
          "Measurement": -0.8195101130674319
         },
         {
          "Experiment": "Trial A",
          "Measurement": -0.20205452111452826
         },
         {
          "Experiment": "Trial A",
          "Measurement": -0.9982265455718796
         },
         {
          "Experiment": "Trial A",
          "Measurement": 1.3059290431453083
         },
         {
          "Experiment": "Trial A",
          "Measurement": -1.1441131023685063
         },
         {
          "Experiment": "Trial A",
          "Measurement": -0.35203558935758705
         },
         {
          "Experiment": "Trial A",
          "Measurement": 0.10459246182887308
         },
         {
          "Experiment": "Trial A",
          "Measurement": 1.1530186312528925
         },
         {
          "Experiment": "Trial A",
          "Measurement": -1.1486897209435516
         },
         {
          "Experiment": "Trial A",
          "Measurement": 0.9305310017239677
         },
         {
          "Experiment": "Trial A",
          "Measurement": 0.00818644881566964
         },
         {
          "Experiment": "Trial A",
          "Measurement": -0.7852069208383607
         },
         {
          "Experiment": "Trial A",
          "Measurement": 0.3696827794106166
         },
         {
          "Experiment": "Trial A",
          "Measurement": 0.15924775645877604
         },
         {
          "Experiment": "Trial A",
          "Measurement": -0.48017350172703577
         },
         {
          "Experiment": "Trial A",
          "Measurement": 0.055841667992015134
         },
         {
          "Experiment": "Trial A",
          "Measurement": -0.30825087748940816
         },
         {
          "Experiment": "Trial A",
          "Measurement": 0.09081387620099844
         },
         {
          "Experiment": "Trial A",
          "Measurement": 0.5297045396168374
         },
         {
          "Experiment": "Trial A",
          "Measurement": 1.2688134529162818
         },
         {
          "Experiment": "Trial A",
          "Measurement": -0.9902523990614793
         },
         {
          "Experiment": "Trial A",
          "Measurement": 1.7064266997250135
         },
         {
          "Experiment": "Trial A",
          "Measurement": -1.5616702396180016
         },
         {
          "Experiment": "Trial A",
          "Measurement": -0.12142807602846667
         },
         {
          "Experiment": "Trial A",
          "Measurement": 0.4706537651876612
         },
         {
          "Experiment": "Trial A",
          "Measurement": 0.22479349418802613
         },
         {
          "Experiment": "Trial A",
          "Measurement": -0.49815961585647506
         },
         {
          "Experiment": "Trial A",
          "Measurement": -0.16649780028582017
         },
         {
          "Experiment": "Trial A",
          "Measurement": -0.3944007477270663
         },
         {
          "Experiment": "Trial A",
          "Measurement": -0.47149180555536924
         },
         {
          "Experiment": "Trial A",
          "Measurement": 0.6796816776168197
         },
         {
          "Experiment": "Trial A",
          "Measurement": 0.2856123887720379
         },
         {
          "Experiment": "Trial A",
          "Measurement": -0.5543276762085234
         },
         {
          "Experiment": "Trial A",
          "Measurement": 0.7196799003466006
         },
         {
          "Experiment": "Trial A",
          "Measurement": 0.24583961670128748
         },
         {
          "Experiment": "Trial A",
          "Measurement": 0.6502896950711681
         },
         {
          "Experiment": "Trial A",
          "Measurement": 0.5037030735388898
         },
         {
          "Experiment": "Trial A",
          "Measurement": -0.6631960087376578
         },
         {
          "Experiment": "Trial A",
          "Measurement": -0.44814483215757567
         },
         {
          "Experiment": "Trial A",
          "Measurement": 0.5978348840986095
         },
         {
          "Experiment": "Trial A",
          "Measurement": 0.4882962123467719
         },
         {
          "Experiment": "Trial A",
          "Measurement": -0.016721275171318505
         },
         {
          "Experiment": "Trial A",
          "Measurement": 0.0938619066470256
         },
         {
          "Experiment": "Trial A",
          "Measurement": 1.0221319166307399
         },
         {
          "Experiment": "Trial A",
          "Measurement": -0.47325711106866397
         },
         {
          "Experiment": "Trial A",
          "Measurement": 0.43767790493603037
         },
         {
          "Experiment": "Trial A",
          "Measurement": -0.16175412194711525
         },
         {
          "Experiment": "Trial A",
          "Measurement": -0.17414496258177625
         },
         {
          "Experiment": "Trial A",
          "Measurement": 0.8790214815897521
         },
         {
          "Experiment": "Trial A",
          "Measurement": 0.6603330791904239
         },
         {
          "Experiment": "Trial A",
          "Measurement": 0.6508077088005109
         },
         {
          "Experiment": "Trial A",
          "Measurement": 1.0443830457234633
         },
         {
          "Experiment": "Trial A",
          "Measurement": 0.01680307330620724
         },
         {
          "Experiment": "Trial A",
          "Measurement": 0.5455623770359711
         },
         {
          "Experiment": "Trial A",
          "Measurement": -0.24821340527476485
         },
         {
          "Experiment": "Trial A",
          "Measurement": 0.2593330819907537
         },
         {
          "Experiment": "Trial A",
          "Measurement": -0.10411444349414767
         },
         {
          "Experiment": "Trial A",
          "Measurement": 0.07759677199417456
         },
         {
          "Experiment": "Trial A",
          "Measurement": 0.47612562034953093
         },
         {
          "Experiment": "Trial A",
          "Measurement": -0.6545765465867781
         },
         {
          "Experiment": "Trial A",
          "Measurement": 1.6739098205483682
         },
         {
          "Experiment": "Trial A",
          "Measurement": -0.8048139051997616
         },
         {
          "Experiment": "Trial A",
          "Measurement": -0.9713508902301857
         },
         {
          "Experiment": "Trial A",
          "Measurement": 0.9264886988000542
         },
         {
          "Experiment": "Trial A",
          "Measurement": 0.6333301551703487
         },
         {
          "Experiment": "Trial A",
          "Measurement": 0.49929585364172413
         },
         {
          "Experiment": "Trial A",
          "Measurement": 0.5026764074114239
         },
         {
          "Experiment": "Trial A",
          "Measurement": -0.0097974182775317
         },
         {
          "Experiment": "Trial A",
          "Measurement": -0.7178034971886653
         },
         {
          "Experiment": "Trial A",
          "Measurement": 0.06064364655498107
         },
         {
          "Experiment": "Trial A",
          "Measurement": -0.5417293692096894
         },
         {
          "Experiment": "Trial A",
          "Measurement": 0.780095786734201
         },
         {
          "Experiment": "Trial A",
          "Measurement": -0.11764590520171092
         },
         {
          "Experiment": "Trial A",
          "Measurement": -0.6603977574340093
         },
         {
          "Experiment": "Trial A",
          "Measurement": -0.2571086733223948
         },
         {
          "Experiment": "Trial A",
          "Measurement": 0.33034516342049947
         },
         {
          "Experiment": "Trial A",
          "Measurement": -0.45097964224317977
         },
         {
          "Experiment": "Trial A",
          "Measurement": -0.6577763164531452
         },
         {
          "Experiment": "Trial A",
          "Measurement": 0.19494976919352985
         },
         {
          "Experiment": "Trial A",
          "Measurement": 0.19597325688697823
         },
         {
          "Experiment": "Trial A",
          "Measurement": -0.40555454029690385
         },
         {
          "Experiment": "Trial A",
          "Measurement": -0.37683064449465825
         },
         {
          "Experiment": "Trial A",
          "Measurement": 0.18563994988610905
         },
         {
          "Experiment": "Trial A",
          "Measurement": -1.1584674731978593
         },
         {
          "Experiment": "Trial A",
          "Measurement": -1.1259710195012442
         },
         {
          "Experiment": "Trial A",
          "Measurement": -0.5747553770019488
         },
         {
          "Experiment": "Trial A",
          "Measurement": -0.1707577213694778
         },
         {
          "Experiment": "Trial A",
          "Measurement": 0.24872605247840368
         },
         {
          "Experiment": "Trial A",
          "Measurement": 1.1802849735596417
         },
         {
          "Experiment": "Trial A",
          "Measurement": 0.6861276985616156
         },
         {
          "Experiment": "Trial A",
          "Measurement": -0.1279508239707417
         },
         {
          "Experiment": "Trial A",
          "Measurement": -0.015212966322151064
         },
         {
          "Experiment": "Trial A",
          "Measurement": -0.8020234917102471
         },
         {
          "Experiment": "Trial A",
          "Measurement": -0.014810508793911945
         },
         {
          "Experiment": "Trial A",
          "Measurement": -0.23092691113611066
         },
         {
          "Experiment": "Trial A",
          "Measurement": 0.2581748482704716
         },
         {
          "Experiment": "Trial A",
          "Measurement": -0.6617847548418584
         },
         {
          "Experiment": "Trial A",
          "Measurement": 0.41547721139293786
         },
         {
          "Experiment": "Trial A",
          "Measurement": 1.2261911304020623
         },
         {
          "Experiment": "Trial A",
          "Measurement": -0.08700811876548609
         },
         {
          "Experiment": "Trial A",
          "Measurement": 0.3213693776791532
         },
         {
          "Experiment": "Trial A",
          "Measurement": 0.55211519336889
         },
         {
          "Experiment": "Trial A",
          "Measurement": -0.32097637750866903
         },
         {
          "Experiment": "Trial A",
          "Measurement": 0.17927398544833342
         },
         {
          "Experiment": "Trial A",
          "Measurement": 0.010073920625435889
         },
         {
          "Experiment": "Trial A",
          "Measurement": 0.07814087883906538
         },
         {
          "Experiment": "Trial A",
          "Measurement": -0.6184078270843733
         },
         {
          "Experiment": "Trial A",
          "Measurement": 0.01960813940715417
         },
         {
          "Experiment": "Trial A",
          "Measurement": 0.3983986329963598
         },
         {
          "Experiment": "Trial A",
          "Measurement": 1.1609148862360334
         },
         {
          "Experiment": "Trial A",
          "Measurement": 0.7674166608681655
         },
         {
          "Experiment": "Trial A",
          "Measurement": 1.7225459660092453
         },
         {
          "Experiment": "Trial A",
          "Measurement": -0.6138780503104396
         },
         {
          "Experiment": "Trial A",
          "Measurement": 0.6978565093765425
         },
         {
          "Experiment": "Trial A",
          "Measurement": 0.1466736045906814
         },
         {
          "Experiment": "Trial A",
          "Measurement": 1.751842346574138
         },
         {
          "Experiment": "Trial A",
          "Measurement": -0.6466386282841212
         },
         {
          "Experiment": "Trial A",
          "Measurement": -0.6717774737446209
         },
         {
          "Experiment": "Trial A",
          "Measurement": -0.47951411635521773
         },
         {
          "Experiment": "Trial A",
          "Measurement": -1.6991165794478456
         },
         {
          "Experiment": "Trial A",
          "Measurement": -0.42060401734460884
         },
         {
          "Experiment": "Trial A",
          "Measurement": -0.6073061292429585
         },
         {
          "Experiment": "Trial A",
          "Measurement": 0.12031502918096611
         },
         {
          "Experiment": "Trial A",
          "Measurement": 0.27340478062172757
         },
         {
          "Experiment": "Trial A",
          "Measurement": 1.500936671372709
         },
         {
          "Experiment": "Trial A",
          "Measurement": 0.7603390705488402
         },
         {
          "Experiment": "Trial A",
          "Measurement": -0.4615229245299225
         },
         {
          "Experiment": "Trial A",
          "Measurement": -0.7187317370786864
         },
         {
          "Experiment": "Trial A",
          "Measurement": 0.3935353372052046
         },
         {
          "Experiment": "Trial A",
          "Measurement": -1.0561865656165137
         },
         {
          "Experiment": "Trial A",
          "Measurement": 1.465167012683483
         },
         {
          "Experiment": "Trial A",
          "Measurement": 0.9435520965770297
         },
         {
          "Experiment": "Trial A",
          "Measurement": -0.37534052168376386
         },
         {
          "Experiment": "Trial A",
          "Measurement": -1.370507623272702
         },
         {
          "Experiment": "Trial A",
          "Measurement": 1.0830978993323304
         },
         {
          "Experiment": "Trial A",
          "Measurement": -0.09163187620209431
         },
         {
          "Experiment": "Trial A",
          "Measurement": 0.9902530495787695
         },
         {
          "Experiment": "Trial A",
          "Measurement": -1.2755421270354939
         },
         {
          "Experiment": "Trial A",
          "Measurement": -0.4795000183630183
         },
         {
          "Experiment": "Trial A",
          "Measurement": 0.004194959774546533
         },
         {
          "Experiment": "Trial A",
          "Measurement": 0.03758447501179365
         },
         {
          "Experiment": "Trial A",
          "Measurement": -0.36005237718339494
         },
         {
          "Experiment": "Trial A",
          "Measurement": 0.498279945877999
         },
         {
          "Experiment": "Trial A",
          "Measurement": -0.8540963435060756
         },
         {
          "Experiment": "Trial A",
          "Measurement": -0.1139035880170348
         },
         {
          "Experiment": "Trial A",
          "Measurement": 0.0962365053695191
         },
         {
          "Experiment": "Trial A",
          "Measurement": 0.41155106724699925
         },
         {
          "Experiment": "Trial A",
          "Measurement": 0.5692919024711118
         },
         {
          "Experiment": "Trial A",
          "Measurement": -0.8997136734702954
         },
         {
          "Experiment": "Trial A",
          "Measurement": -1.2272913365884979
         },
         {
          "Experiment": "Trial A",
          "Measurement": 1.0221414575188073
         },
         {
          "Experiment": "Trial A",
          "Measurement": 0.2658512095836733
         },
         {
          "Experiment": "Trial A",
          "Measurement": -0.5987892292452429
         },
         {
          "Experiment": "Trial A",
          "Measurement": 1.2409215804180185
         },
         {
          "Experiment": "Trial A",
          "Measurement": 0.09253970743428694
         },
         {
          "Experiment": "Trial A",
          "Measurement": 0.9434377472510612
         },
         {
          "Experiment": "Trial A",
          "Measurement": 0.05401478512808716
         },
         {
          "Experiment": "Trial A",
          "Measurement": 1.6485983399055897
         },
         {
          "Experiment": "Trial A",
          "Measurement": 1.4042726739545637
         },
         {
          "Experiment": "Trial A",
          "Measurement": -0.1991713187832588
         },
         {
          "Experiment": "Trial A",
          "Measurement": 0.7772567607634844
         },
         {
          "Experiment": "Trial A",
          "Measurement": 0.5163007596681181
         },
         {
          "Experiment": "Trial A",
          "Measurement": 1.094905246025879
         },
         {
          "Experiment": "Trial A",
          "Measurement": -0.7719387684640836
         },
         {
          "Experiment": "Trial A",
          "Measurement": 0.5488411679987515
         },
         {
          "Experiment": "Trial A",
          "Measurement": 0.8467395894796703
         },
         {
          "Experiment": "Trial A",
          "Measurement": -1.4069915891384914
         },
         {
          "Experiment": "Trial A",
          "Measurement": -0.9466068101326202
         },
         {
          "Experiment": "Trial A",
          "Measurement": -1.6313857422080806
         },
         {
          "Experiment": "Trial A",
          "Measurement": -0.21552546755564622
         },
         {
          "Experiment": "Trial A",
          "Measurement": 0.5740338046367699
         },
         {
          "Experiment": "Trial A",
          "Measurement": 1.2018856416768227
         },
         {
          "Experiment": "Trial A",
          "Measurement": 0.059275824335820154
         },
         {
          "Experiment": "Trial A",
          "Measurement": 1.3028924364570336
         },
         {
          "Experiment": "Trial A",
          "Measurement": -1.1040811665719132
         },
         {
          "Experiment": "Trial A",
          "Measurement": -1.3627059514841238
         },
         {
          "Experiment": "Trial A",
          "Measurement": -0.044438159117295026
         },
         {
          "Experiment": "Trial A",
          "Measurement": 0.30725235915144583
         },
         {
          "Experiment": "Trial A",
          "Measurement": -0.02615579847527449
         },
         {
          "Experiment": "Trial A",
          "Measurement": -1.6539536800319015
         },
         {
          "Experiment": "Trial A",
          "Measurement": -0.07129603161023072
         },
         {
          "Experiment": "Trial A",
          "Measurement": -1.0435756004038825
         },
         {
          "Experiment": "Trial A",
          "Measurement": 0.5357380390640308
         },
         {
          "Experiment": "Trial A",
          "Measurement": 0.29327859687747865
         },
         {
          "Experiment": "Trial A",
          "Measurement": -0.7519038290618842
         },
         {
          "Experiment": "Trial A",
          "Measurement": -0.4110935338693549
         },
         {
          "Experiment": "Trial A",
          "Measurement": -0.8473708175111613
         },
         {
          "Experiment": "Trial A",
          "Measurement": -0.0501432778185375
         },
         {
          "Experiment": "Trial A",
          "Measurement": 0.7641138564009906
         },
         {
          "Experiment": "Trial A",
          "Measurement": -0.7885808370684351
         },
         {
          "Experiment": "Trial A",
          "Measurement": 0.40323721241427557
         },
         {
          "Experiment": "Trial A",
          "Measurement": -0.4242060946979527
         },
         {
          "Experiment": "Trial A",
          "Measurement": -0.6342982658098754
         },
         {
          "Experiment": "Trial A",
          "Measurement": -0.08562428796364627
         },
         {
          "Experiment": "Trial A",
          "Measurement": -0.8281938579354993
         },
         {
          "Experiment": "Trial A",
          "Measurement": -0.44291944427774566
         },
         {
          "Experiment": "Trial A",
          "Measurement": -0.9583023140710788
         },
         {
          "Experiment": "Trial A",
          "Measurement": 1.5717801063331116
         },
         {
          "Experiment": "Trial A",
          "Measurement": 0.028210841577382892
         },
         {
          "Experiment": "Trial A",
          "Measurement": -0.5597804063940685
         },
         {
          "Experiment": "Trial A",
          "Measurement": 0.17118392858737763
         },
         {
          "Experiment": "Trial A",
          "Measurement": -0.08986243975266386
         },
         {
          "Experiment": "Trial A",
          "Measurement": -0.1767756796265784
         },
         {
          "Experiment": "Trial A",
          "Measurement": 0.4913333600347402
         },
         {
          "Experiment": "Trial A",
          "Measurement": 0.6060061680378441
         },
         {
          "Experiment": "Trial A",
          "Measurement": -0.424400918088422
         },
         {
          "Experiment": "Trial A",
          "Measurement": -0.46065459251574403
         },
         {
          "Experiment": "Trial A",
          "Measurement": -0.22004135772131522
         },
         {
          "Experiment": "Trial A",
          "Measurement": -1.841536931788468
         },
         {
          "Experiment": "Trial A",
          "Measurement": -1.2121528497588419
         },
         {
          "Experiment": "Trial A",
          "Measurement": 1.0934994139556198
         },
         {
          "Experiment": "Trial A",
          "Measurement": 1.315974170801027
         },
         {
          "Experiment": "Trial A",
          "Measurement": -0.19922883164510266
         },
         {
          "Experiment": "Trial A",
          "Measurement": 0.4612455704446132
         },
         {
          "Experiment": "Trial A",
          "Measurement": 0.2490001236348289
         },
         {
          "Experiment": "Trial A",
          "Measurement": 2.46310464676419
         },
         {
          "Experiment": "Trial A",
          "Measurement": 0.8956599291476615
         },
         {
          "Experiment": "Trial A",
          "Measurement": -0.10233407318461324
         },
         {
          "Experiment": "Trial A",
          "Measurement": -0.7644323524803407
         },
         {
          "Experiment": "Trial A",
          "Measurement": -1.2851570562060581
         },
         {
          "Experiment": "Trial A",
          "Measurement": 0.1627709086937785
         },
         {
          "Experiment": "Trial A",
          "Measurement": -0.6050805962274427
         },
         {
          "Experiment": "Trial A",
          "Measurement": -1.1378029676781394
         },
         {
          "Experiment": "Trial A",
          "Measurement": -0.5172583073940212
         },
         {
          "Experiment": "Trial A",
          "Measurement": -0.865238402891516
         },
         {
          "Experiment": "Trial A",
          "Measurement": 1.349713308058052
         },
         {
          "Experiment": "Trial A",
          "Measurement": 0.7053118055595604
         },
         {
          "Experiment": "Trial A",
          "Measurement": -0.006378113053293898
         },
         {
          "Experiment": "Trial A",
          "Measurement": 1.1839553111120207
         },
         {
          "Experiment": "Trial A",
          "Measurement": 0.06189464611809464
         },
         {
          "Experiment": "Trial A",
          "Measurement": -0.689027361062611
         },
         {
          "Experiment": "Trial A",
          "Measurement": 1.218499261815726
         },
         {
          "Experiment": "Trial A",
          "Measurement": 0.43112803494772695
         },
         {
          "Experiment": "Trial A",
          "Measurement": -0.8297969234611652
         },
         {
          "Experiment": "Trial A",
          "Measurement": -0.15227094246688655
         },
         {
          "Experiment": "Trial A",
          "Measurement": -0.7004946027078058
         },
         {
          "Experiment": "Trial A",
          "Measurement": -1.106239784771469
         },
         {
          "Experiment": "Trial A",
          "Measurement": 0.7409420380253131
         },
         {
          "Experiment": "Trial A",
          "Measurement": 1.5275333123761046
         },
         {
          "Experiment": "Trial A",
          "Measurement": -1.118854059055313
         },
         {
          "Experiment": "Trial A",
          "Measurement": 0.4503753893524567
         },
         {
          "Experiment": "Trial A",
          "Measurement": -0.5205140552974615
         },
         {
          "Experiment": "Trial A",
          "Measurement": -0.38970030701175684
         },
         {
          "Experiment": "Trial A",
          "Measurement": -0.47391513939109536
         },
         {
          "Experiment": "Trial A",
          "Measurement": -0.6911926157438528
         },
         {
          "Experiment": "Trial A",
          "Measurement": 0.038817302355861595
         },
         {
          "Experiment": "Trial A",
          "Measurement": -0.6647600931288302
         },
         {
          "Experiment": "Trial A",
          "Measurement": 0.21636546062387108
         },
         {
          "Experiment": "Trial A",
          "Measurement": -0.04019048755930957
         },
         {
          "Experiment": "Trial A",
          "Measurement": -0.1911584374931278
         },
         {
          "Experiment": "Trial A",
          "Measurement": -0.7260509296332783
         },
         {
          "Experiment": "Trial A",
          "Measurement": -0.46141706445466624
         },
         {
          "Experiment": "Trial A",
          "Measurement": 0.6043129806606049
         },
         {
          "Experiment": "Trial A",
          "Measurement": 0.4007337500995046
         },
         {
          "Experiment": "Trial A",
          "Measurement": -0.7820441958388409
         },
         {
          "Experiment": "Trial A",
          "Measurement": 0.0794658443433807
         },
         {
          "Experiment": "Trial A",
          "Measurement": 0.6011096986974312
         },
         {
          "Experiment": "Trial A",
          "Measurement": -1.3355242248970975
         },
         {
          "Experiment": "Trial A",
          "Measurement": 0.43468815390394805
         },
         {
          "Experiment": "Trial A",
          "Measurement": -0.5300990071566773
         },
         {
          "Experiment": "Trial A",
          "Measurement": 0.4564789348745275
         },
         {
          "Experiment": "Trial A",
          "Measurement": -0.6106073252340135
         },
         {
          "Experiment": "Trial A",
          "Measurement": -1.4439056805316153
         },
         {
          "Experiment": "Trial A",
          "Measurement": -1.3020339503065301
         },
         {
          "Experiment": "Trial A",
          "Measurement": 0.0384679573291056
         },
         {
          "Experiment": "Trial A",
          "Measurement": 0.2077780013771855
         },
         {
          "Experiment": "Trial A",
          "Measurement": -0.7234533000835269
         },
         {
          "Experiment": "Trial A",
          "Measurement": 0.5108739670218991
         },
         {
          "Experiment": "Trial A",
          "Measurement": -1.329216049815168
         },
         {
          "Experiment": "Trial A",
          "Measurement": -0.05286383891785326
         },
         {
          "Experiment": "Trial A",
          "Measurement": -0.9688129598099654
         },
         {
          "Experiment": "Trial A",
          "Measurement": -0.5214688862417274
         },
         {
          "Experiment": "Trial A",
          "Measurement": 0.037918937053131214
         },
         {
          "Experiment": "Trial A",
          "Measurement": -0.6883306922271619
         },
         {
          "Experiment": "Trial A",
          "Measurement": -0.3076444353838603
         },
         {
          "Experiment": "Trial A",
          "Measurement": 0.8050342473715525
         },
         {
          "Experiment": "Trial A",
          "Measurement": -0.461513495618519
         },
         {
          "Experiment": "Trial A",
          "Measurement": 0.6685536896521135
         },
         {
          "Experiment": "Trial A",
          "Measurement": -0.9037654837260946
         },
         {
          "Experiment": "Trial A",
          "Measurement": 0.42384334233222626
         },
         {
          "Experiment": "Trial A",
          "Measurement": 1.1532548965263203
         },
         {
          "Experiment": "Trial A",
          "Measurement": -1.9773156001018315
         },
         {
          "Experiment": "Trial A",
          "Measurement": -0.6375162043763815
         },
         {
          "Experiment": "Trial A",
          "Measurement": 0.46165770174443205
         },
         {
          "Experiment": "Trial A",
          "Measurement": -0.16243630883439417
         },
         {
          "Experiment": "Trial A",
          "Measurement": 0.29691669869704707
         },
         {
          "Experiment": "Trial A",
          "Measurement": -0.4831881493726565
         },
         {
          "Experiment": "Trial A",
          "Measurement": 0.06927182997831993
         },
         {
          "Experiment": "Trial A",
          "Measurement": -0.12454178831366358
         },
         {
          "Experiment": "Trial A",
          "Measurement": 0.9342256493278459
         },
         {
          "Experiment": "Trial A",
          "Measurement": 0.2035366746409705
         },
         {
          "Experiment": "Trial A",
          "Measurement": 0.27008212966016176
         },
         {
          "Experiment": "Trial A",
          "Measurement": -0.32950157289797394
         },
         {
          "Experiment": "Trial A",
          "Measurement": -0.39008497925799485
         },
         {
          "Experiment": "Trial A",
          "Measurement": -0.34604655025569675
         },
         {
          "Experiment": "Trial A",
          "Measurement": 0.3155617139026375
         },
         {
          "Experiment": "Trial A",
          "Measurement": -0.3367875846562104
         },
         {
          "Experiment": "Trial A",
          "Measurement": 0.23181988551713034
         },
         {
          "Experiment": "Trial A",
          "Measurement": 1.6603206389163512
         },
         {
          "Experiment": "Trial A",
          "Measurement": 0.6968997627453539
         },
         {
          "Experiment": "Trial A",
          "Measurement": -0.2608188257342729
         },
         {
          "Experiment": "Trial A",
          "Measurement": 0.9609711377311559
         },
         {
          "Experiment": "Trial A",
          "Measurement": -0.3264602984172411
         },
         {
          "Experiment": "Trial A",
          "Measurement": -1.6304996281422832
         },
         {
          "Experiment": "Trial A",
          "Measurement": -0.8064690487339233
         },
         {
          "Experiment": "Trial A",
          "Measurement": -1.4966335368206847
         },
         {
          "Experiment": "Trial A",
          "Measurement": -0.28121078723304693
         },
         {
          "Experiment": "Trial A",
          "Measurement": 0.01473470335164136
         },
         {
          "Experiment": "Trial A",
          "Measurement": 1.3411498498202263
         },
         {
          "Experiment": "Trial A",
          "Measurement": 0.2615418990113301
         },
         {
          "Experiment": "Trial A",
          "Measurement": -0.1752804230470914
         },
         {
          "Experiment": "Trial A",
          "Measurement": 0.6635244649467914
         },
         {
          "Experiment": "Trial A",
          "Measurement": -1.7689082472063082
         },
         {
          "Experiment": "Trial A",
          "Measurement": 0.18849164648685277
         },
         {
          "Experiment": "Trial A",
          "Measurement": 0.6166921551095735
         },
         {
          "Experiment": "Trial A",
          "Measurement": -1.1828689966238732
         },
         {
          "Experiment": "Trial A",
          "Measurement": 0.9150032345655433
         },
         {
          "Experiment": "Trial A",
          "Measurement": 0.2707971259955313
         },
         {
          "Experiment": "Trial A",
          "Measurement": -0.33223033112064104
         },
         {
          "Experiment": "Trial A",
          "Measurement": 0.5062254928850279
         },
         {
          "Experiment": "Trial A",
          "Measurement": 1.816554286243517
         },
         {
          "Experiment": "Trial A",
          "Measurement": 0.14549300404679613
         },
         {
          "Experiment": "Trial A",
          "Measurement": 0.19857646904026888
         },
         {
          "Experiment": "Trial A",
          "Measurement": -0.3674887196321953
         },
         {
          "Experiment": "Trial A",
          "Measurement": -0.6798754955718335
         },
         {
          "Experiment": "Trial A",
          "Measurement": 0.6642686532353965
         },
         {
          "Experiment": "Trial A",
          "Measurement": -0.6848670607270938
         },
         {
          "Experiment": "Trial A",
          "Measurement": 0.05725298977551398
         },
         {
          "Experiment": "Trial A",
          "Measurement": -0.3821259574120934
         },
         {
          "Experiment": "Trial A",
          "Measurement": 0.3831838605971135
         },
         {
          "Experiment": "Trial A",
          "Measurement": 0.26692968422955865
         },
         {
          "Experiment": "Trial A",
          "Measurement": 0.8300319554063194
         },
         {
          "Experiment": "Trial A",
          "Measurement": -0.40801311908379767
         },
         {
          "Experiment": "Trial A",
          "Measurement": -0.21589994823469702
         },
         {
          "Experiment": "Trial A",
          "Measurement": -0.783010972625846
         },
         {
          "Experiment": "Trial A",
          "Measurement": -0.3554346080608893
         },
         {
          "Experiment": "Trial A",
          "Measurement": 0.3018403944358818
         },
         {
          "Experiment": "Trial A",
          "Measurement": 0.6055908933162816
         },
         {
          "Experiment": "Trial A",
          "Measurement": -0.7377322593421004
         },
         {
          "Experiment": "Trial A",
          "Measurement": 0.6956847360845282
         },
         {
          "Experiment": "Trial A",
          "Measurement": 1.0845102870439607
         },
         {
          "Experiment": "Trial A",
          "Measurement": 0.3307479225789607
         },
         {
          "Experiment": "Trial A",
          "Measurement": 1.5014366500464529
         },
         {
          "Experiment": "Trial A",
          "Measurement": -0.6190313592828585
         },
         {
          "Experiment": "Trial A",
          "Measurement": -0.9957237626491336
         },
         {
          "Experiment": "Trial A",
          "Measurement": -1.4229761991234229
         },
         {
          "Experiment": "Trial A",
          "Measurement": 1.1968354491913464
         },
         {
          "Experiment": "Trial A",
          "Measurement": 0.5234925250832462
         },
         {
          "Experiment": "Trial A",
          "Measurement": -0.04446773672836406
         },
         {
          "Experiment": "Trial A",
          "Measurement": 0.22397490105585624
         },
         {
          "Experiment": "Trial A",
          "Measurement": -0.9003912378387012
         },
         {
          "Experiment": "Trial A",
          "Measurement": 1.9566015836934612
         },
         {
          "Experiment": "Trial A",
          "Measurement": 0.10337694558018201
         },
         {
          "Experiment": "Trial A",
          "Measurement": 0.08751583568391431
         },
         {
          "Experiment": "Trial A",
          "Measurement": 0.5806132991189535
         },
         {
          "Experiment": "Trial A",
          "Measurement": 0.3848073853893706
         },
         {
          "Experiment": "Trial A",
          "Measurement": 0.1791072194233051
         },
         {
          "Experiment": "Trial A",
          "Measurement": -0.6323795643562495
         },
         {
          "Experiment": "Trial A",
          "Measurement": 0.3771746857087966
         },
         {
          "Experiment": "Trial A",
          "Measurement": 1.505619597180027
         },
         {
          "Experiment": "Trial A",
          "Measurement": 1.0763360369239823
         },
         {
          "Experiment": "Trial A",
          "Measurement": 1.2745493013115177
         },
         {
          "Experiment": "Trial A",
          "Measurement": -0.40897254114494813
         },
         {
          "Experiment": "Trial A",
          "Measurement": -0.7916838562068648
         },
         {
          "Experiment": "Trial A",
          "Measurement": -0.10062953607971853
         },
         {
          "Experiment": "Trial A",
          "Measurement": 0.044579929830955684
         },
         {
          "Experiment": "Trial A",
          "Measurement": 0.8753532147767589
         },
         {
          "Experiment": "Trial A",
          "Measurement": -1.3539717037718555
         },
         {
          "Experiment": "Trial A",
          "Measurement": 1.223640255568491
         },
         {
          "Experiment": "Trial A",
          "Measurement": -0.12640631886319154
         },
         {
          "Experiment": "Trial A",
          "Measurement": -0.34150485595793606
         },
         {
          "Experiment": "Trial A",
          "Measurement": -0.8096835002081341
         },
         {
          "Experiment": "Trial A",
          "Measurement": -1.3238853374926156
         },
         {
          "Experiment": "Trial A",
          "Measurement": 0.6585364671695317
         },
         {
          "Experiment": "Trial A",
          "Measurement": 0.05865437375072311
         },
         {
          "Experiment": "Trial A",
          "Measurement": -1.031968719792843
         },
         {
          "Experiment": "Trial A",
          "Measurement": -1.036063017650893
         },
         {
          "Experiment": "Trial A",
          "Measurement": -0.2686277594321026
         },
         {
          "Experiment": "Trial A",
          "Measurement": 1.3352172202315145
         },
         {
          "Experiment": "Trial A",
          "Measurement": -0.20767308109088384
         },
         {
          "Experiment": "Trial A",
          "Measurement": -1.202514362494485
         },
         {
          "Experiment": "Trial A",
          "Measurement": -0.19659445126875547
         },
         {
          "Experiment": "Trial A",
          "Measurement": -0.2181788557981364
         },
         {
          "Experiment": "Trial A",
          "Measurement": -2.1575093143532573
         },
         {
          "Experiment": "Trial A",
          "Measurement": -0.04343589321424977
         },
         {
          "Experiment": "Trial A",
          "Measurement": -0.18474762416694238
         },
         {
          "Experiment": "Trial A",
          "Measurement": 0.5569650918507347
         },
         {
          "Experiment": "Trial A",
          "Measurement": 1.4791648759562763
         },
         {
          "Experiment": "Trial A",
          "Measurement": 0.901252023638206
         },
         {
          "Experiment": "Trial A",
          "Measurement": -0.21511095244386447
         },
         {
          "Experiment": "Trial A",
          "Measurement": -0.8852207269933363
         },
         {
          "Experiment": "Trial A",
          "Measurement": 2.0586878425998885
         },
         {
          "Experiment": "Trial A",
          "Measurement": 0.04737474721159061
         },
         {
          "Experiment": "Trial A",
          "Measurement": 0.011143433530356963
         },
         {
          "Experiment": "Trial A",
          "Measurement": -0.019300069688002623
         },
         {
          "Experiment": "Trial A",
          "Measurement": 0.15846780861428397
         },
         {
          "Experiment": "Trial A",
          "Measurement": -0.11548832953915399
         },
         {
          "Experiment": "Trial A",
          "Measurement": -0.45892960550418904
         },
         {
          "Experiment": "Trial A",
          "Measurement": -0.4374871529923137
         },
         {
          "Experiment": "Trial A",
          "Measurement": -0.02620261617279871
         },
         {
          "Experiment": "Trial A",
          "Measurement": -0.434739816907012
         },
         {
          "Experiment": "Trial A",
          "Measurement": -0.5702766261417315
         },
         {
          "Experiment": "Trial A",
          "Measurement": 0.08514418215351748
         },
         {
          "Experiment": "Trial A",
          "Measurement": -0.20398177393668424
         },
         {
          "Experiment": "Trial A",
          "Measurement": 1.2031943908661509
         },
         {
          "Experiment": "Trial A",
          "Measurement": -2.1207758467144098
         },
         {
          "Experiment": "Trial A",
          "Measurement": 0.8732054815379695
         },
         {
          "Experiment": "Trial A",
          "Measurement": 0.9968681539981032
         },
         {
          "Experiment": "Trial A",
          "Measurement": -1.6587121859265197
         },
         {
          "Experiment": "Trial A",
          "Measurement": -0.27415007526427904
         },
         {
          "Experiment": "Trial A",
          "Measurement": -0.2971526927966332
         },
         {
          "Experiment": "Trial A",
          "Measurement": -1.126009355774257
         },
         {
          "Experiment": "Trial A",
          "Measurement": -0.6222533500727003
         },
         {
          "Experiment": "Trial A",
          "Measurement": -0.888460676372663
         },
         {
          "Experiment": "Trial A",
          "Measurement": 1.4018163547388982
         },
         {
          "Experiment": "Trial A",
          "Measurement": 0.7485427145179689
         },
         {
          "Experiment": "Trial A",
          "Measurement": 1.017244075995327
         },
         {
          "Experiment": "Trial A",
          "Measurement": 0.5773376512345881
         },
         {
          "Experiment": "Trial A",
          "Measurement": -0.9032414169737835
         },
         {
          "Experiment": "Trial A",
          "Measurement": -0.41961621302381896
         },
         {
          "Experiment": "Trial A",
          "Measurement": 0.39149964898233447
         },
         {
          "Experiment": "Trial A",
          "Measurement": -0.9777022471135564
         },
         {
          "Experiment": "Trial A",
          "Measurement": 0.5703987441379105
         },
         {
          "Experiment": "Trial A",
          "Measurement": -0.19226031852650804
         },
         {
          "Experiment": "Trial A",
          "Measurement": -0.29985664603967804
         },
         {
          "Experiment": "Trial A",
          "Measurement": 0.5687679745627933
         },
         {
          "Experiment": "Trial A",
          "Measurement": 0.3554106491888318
         },
         {
          "Experiment": "Trial A",
          "Measurement": -0.28877293265526394
         },
         {
          "Experiment": "Trial A",
          "Measurement": 0.9274638426913985
         },
         {
          "Experiment": "Trial A",
          "Measurement": -0.8648506620799179
         },
         {
          "Experiment": "Trial A",
          "Measurement": 0.492748485555411
         },
         {
          "Experiment": "Trial A",
          "Measurement": 0.474481006374707
         },
         {
          "Experiment": "Trial A",
          "Measurement": -0.24763715145119225
         },
         {
          "Experiment": "Trial A",
          "Measurement": 0.2609064177936944
         },
         {
          "Experiment": "Trial A",
          "Measurement": -1.0008908611082423
         },
         {
          "Experiment": "Trial A",
          "Measurement": 0.7392216153655209
         },
         {
          "Experiment": "Trial A",
          "Measurement": -0.14792170915439123
         },
         {
          "Experiment": "Trial A",
          "Measurement": -0.4181784164152316
         },
         {
          "Experiment": "Trial A",
          "Measurement": 0.8392073806695115
         },
         {
          "Experiment": "Trial A",
          "Measurement": -0.5634749524342074
         },
         {
          "Experiment": "Trial A",
          "Measurement": -1.1267690370908479
         },
         {
          "Experiment": "Trial A",
          "Measurement": -1.245303338819123
         },
         {
          "Experiment": "Trial A",
          "Measurement": 0.4848079610765117
         },
         {
          "Experiment": "Trial A",
          "Measurement": -1.0243434819970265
         },
         {
          "Experiment": "Trial A",
          "Measurement": 1.403835345587492
         },
         {
          "Experiment": "Trial A",
          "Measurement": -1.6655435263069778
         },
         {
          "Experiment": "Trial A",
          "Measurement": 1.3571650946320306
         },
         {
          "Experiment": "Trial A",
          "Measurement": 0.16881397376209473
         },
         {
          "Experiment": "Trial A",
          "Measurement": -0.07737048949631392
         },
         {
          "Experiment": "Trial A",
          "Measurement": -0.4359352694471598
         },
         {
          "Experiment": "Trial A",
          "Measurement": 0.3193088914816567
         },
         {
          "Experiment": "Trial A",
          "Measurement": -0.030107761939878692
         },
         {
          "Experiment": "Trial A",
          "Measurement": 0.8826415056132172
         },
         {
          "Experiment": "Trial A",
          "Measurement": 0.09138211892963172
         },
         {
          "Experiment": "Trial A",
          "Measurement": 0.12024140916950209
         },
         {
          "Experiment": "Trial A",
          "Measurement": -0.2908897697710847
         },
         {
          "Experiment": "Trial A",
          "Measurement": -0.04555649897685397
         },
         {
          "Experiment": "Trial A",
          "Measurement": 0.24624141511364736
         },
         {
          "Experiment": "Trial A",
          "Measurement": -1.3681347141253006
         },
         {
          "Experiment": "Trial A",
          "Measurement": -1.0785483376845704
         },
         {
          "Experiment": "Trial A",
          "Measurement": 0.594611275218172
         },
         {
          "Experiment": "Trial A",
          "Measurement": 0.13669235050235348
         },
         {
          "Experiment": "Trial A",
          "Measurement": -0.1471866690821433
         },
         {
          "Experiment": "Trial A",
          "Measurement": 0.014747146452314529
         },
         {
          "Experiment": "Trial A",
          "Measurement": 0.27806536428933687
         },
         {
          "Experiment": "Trial A",
          "Measurement": -0.43180774424748924
         },
         {
          "Experiment": "Trial A",
          "Measurement": -0.6226437803218502
         },
         {
          "Experiment": "Trial A",
          "Measurement": 0.15667620407814525
         },
         {
          "Experiment": "Trial A",
          "Measurement": -0.7826982220920257
         },
         {
          "Experiment": "Trial A",
          "Measurement": 0.3266022045715775
         },
         {
          "Experiment": "Trial A",
          "Measurement": -1.3620668833902725
         },
         {
          "Experiment": "Trial A",
          "Measurement": 0.823324509860515
         },
         {
          "Experiment": "Trial A",
          "Measurement": 0.3780779859304344
         },
         {
          "Experiment": "Trial A",
          "Measurement": 0.20482378745110053
         },
         {
          "Experiment": "Trial A",
          "Measurement": 0.7861527871564111
         },
         {
          "Experiment": "Trial A",
          "Measurement": 1.3323795555700615
         },
         {
          "Experiment": "Trial A",
          "Measurement": 0.8114960520145044
         },
         {
          "Experiment": "Trial A",
          "Measurement": -1.4726993850653163
         },
         {
          "Experiment": "Trial A",
          "Measurement": -1.0236615733885612
         },
         {
          "Experiment": "Trial A",
          "Measurement": -0.49985486215654307
         },
         {
          "Experiment": "Trial A",
          "Measurement": 0.02087284016866703
         },
         {
          "Experiment": "Trial A",
          "Measurement": 0.4141272163752985
         },
         {
          "Experiment": "Trial A",
          "Measurement": -0.5805950505227725
         },
         {
          "Experiment": "Trial A",
          "Measurement": 0.14941341158166266
         },
         {
          "Experiment": "Trial A",
          "Measurement": -0.6043063458826581
         },
         {
          "Experiment": "Trial A",
          "Measurement": -0.4892142423935586
         },
         {
          "Experiment": "Trial A",
          "Measurement": -1.125328877478578
         },
         {
          "Experiment": "Trial A",
          "Measurement": -0.7385865968887235
         },
         {
          "Experiment": "Trial A",
          "Measurement": -1.081347684493067
         },
         {
          "Experiment": "Trial A",
          "Measurement": -0.7806986023818663
         },
         {
          "Experiment": "Trial A",
          "Measurement": 0.8429134372862717
         },
         {
          "Experiment": "Trial A",
          "Measurement": -0.7595191110655545
         },
         {
          "Experiment": "Trial A",
          "Measurement": 2.1059056518699126
         },
         {
          "Experiment": "Trial A",
          "Measurement": 0.3946543207047114
         },
         {
          "Experiment": "Trial A",
          "Measurement": 0.14786889895589914
         },
         {
          "Experiment": "Trial A",
          "Measurement": -0.6866862241449709
         },
         {
          "Experiment": "Trial A",
          "Measurement": 0.5602479035271931
         },
         {
          "Experiment": "Trial A",
          "Measurement": -0.4605102609902192
         },
         {
          "Experiment": "Trial A",
          "Measurement": 0.09760785171628916
         },
         {
          "Experiment": "Trial A",
          "Measurement": 2.048067630615036
         },
         {
          "Experiment": "Trial A",
          "Measurement": -0.0768479197797199
         },
         {
          "Experiment": "Trial A",
          "Measurement": 0.9194186610285406
         },
         {
          "Experiment": "Trial A",
          "Measurement": -0.56254114010071
         },
         {
          "Experiment": "Trial A",
          "Measurement": -0.02799079239756936
         },
         {
          "Experiment": "Trial A",
          "Measurement": 1.416640508508408
         },
         {
          "Experiment": "Trial A",
          "Measurement": -0.5015736462302139
         },
         {
          "Experiment": "Trial A",
          "Measurement": 1.449958846397543
         },
         {
          "Experiment": "Trial A",
          "Measurement": 0.5662015483643804
         },
         {
          "Experiment": "Trial A",
          "Measurement": -0.44997342071541413
         },
         {
          "Experiment": "Trial A",
          "Measurement": 0.5059261912444167
         },
         {
          "Experiment": "Trial A",
          "Measurement": 0.778043559701384
         },
         {
          "Experiment": "Trial A",
          "Measurement": 0.49744796977375716
         },
         {
          "Experiment": "Trial A",
          "Measurement": -1.2561797759123652
         },
         {
          "Experiment": "Trial A",
          "Measurement": -0.5817097406598949
         },
         {
          "Experiment": "Trial A",
          "Measurement": -0.1980149084412038
         },
         {
          "Experiment": "Trial A",
          "Measurement": -0.059546743280037034
         },
         {
          "Experiment": "Trial A",
          "Measurement": 0.4965376780405424
         },
         {
          "Experiment": "Trial A",
          "Measurement": 0.14216080074660306
         },
         {
          "Experiment": "Trial A",
          "Measurement": -1.068275486968081
         },
         {
          "Experiment": "Trial A",
          "Measurement": 0.3041582808047706
         },
         {
          "Experiment": "Trial A",
          "Measurement": 0.4884685962270585
         },
         {
          "Experiment": "Trial A",
          "Measurement": 0.44783235834483187
         },
         {
          "Experiment": "Trial A",
          "Measurement": 0.8646245804436975
         },
         {
          "Experiment": "Trial A",
          "Measurement": 0.6671377236391233
         },
         {
          "Experiment": "Trial A",
          "Measurement": 0.3673440633827494
         },
         {
          "Experiment": "Trial A",
          "Measurement": -0.056132569166917626
         },
         {
          "Experiment": "Trial A",
          "Measurement": -1.3287687468127931
         },
         {
          "Experiment": "Trial A",
          "Measurement": 0.34369457530606873
         },
         {
          "Experiment": "Trial A",
          "Measurement": 0.16615014973048892
         },
         {
          "Experiment": "Trial A",
          "Measurement": 0.21726306975629878
         },
         {
          "Experiment": "Trial A",
          "Measurement": -1.0213988606562476
         },
         {
          "Experiment": "Trial A",
          "Measurement": -0.8648452323266099
         },
         {
          "Experiment": "Trial A",
          "Measurement": 0.8425222826663229
         },
         {
          "Experiment": "Trial A",
          "Measurement": -0.031644123085324036
         },
         {
          "Experiment": "Trial A",
          "Measurement": 0.5452005578980995
         },
         {
          "Experiment": "Trial A",
          "Measurement": 0.02265470090436894
         },
         {
          "Experiment": "Trial A",
          "Measurement": 0.023804911596596152
         },
         {
          "Experiment": "Trial A",
          "Measurement": 0.7506270447807982
         },
         {
          "Experiment": "Trial A",
          "Measurement": -0.41283578257389913
         },
         {
          "Experiment": "Trial A",
          "Measurement": 0.0768966215527867
         },
         {
          "Experiment": "Trial A",
          "Measurement": -0.369820230964034
         },
         {
          "Experiment": "Trial A",
          "Measurement": -0.3475969819458525
         },
         {
          "Experiment": "Trial A",
          "Measurement": -0.24733769877491152
         },
         {
          "Experiment": "Trial A",
          "Measurement": 0.17770701730697028
         },
         {
          "Experiment": "Trial A",
          "Measurement": -0.38299889733078185
         },
         {
          "Experiment": "Trial A",
          "Measurement": 1.0046049004588167
         },
         {
          "Experiment": "Trial A",
          "Measurement": -0.7156858417756031
         },
         {
          "Experiment": "Trial A",
          "Measurement": -0.14949731532908725
         },
         {
          "Experiment": "Trial A",
          "Measurement": -0.35178484661933995
         },
         {
          "Experiment": "Trial A",
          "Measurement": 1.1575823074829863
         },
         {
          "Experiment": "Trial A",
          "Measurement": 0.15724382120925973
         },
         {
          "Experiment": "Trial A",
          "Measurement": 0.8254756315749079
         },
         {
          "Experiment": "Trial A",
          "Measurement": -1.1884482984295777
         },
         {
          "Experiment": "Trial A",
          "Measurement": 0.2136402126954071
         },
         {
          "Experiment": "Trial A",
          "Measurement": 0.7117046364987497
         },
         {
          "Experiment": "Trial A",
          "Measurement": 0.06582719142033935
         },
         {
          "Experiment": "Trial A",
          "Measurement": 0.852384300052281
         },
         {
          "Experiment": "Trial A",
          "Measurement": -0.41383076008029773
         },
         {
          "Experiment": "Trial A",
          "Measurement": 1.127477952148464
         },
         {
          "Experiment": "Trial A",
          "Measurement": 1.8391184988954004
         },
         {
          "Experiment": "Trial A",
          "Measurement": -0.2902708483517273
         },
         {
          "Experiment": "Trial A",
          "Measurement": -0.3564020171206175
         },
         {
          "Experiment": "Trial A",
          "Measurement": 1.1627075816941608
         },
         {
          "Experiment": "Trial A",
          "Measurement": 1.26365771658457
         },
         {
          "Experiment": "Trial A",
          "Measurement": -0.41828802172261464
         },
         {
          "Experiment": "Trial A",
          "Measurement": -0.3361494536766858
         },
         {
          "Experiment": "Trial A",
          "Measurement": -0.22542768708840577
         },
         {
          "Experiment": "Trial A",
          "Measurement": -1.0755604088274218
         },
         {
          "Experiment": "Trial A",
          "Measurement": -0.7349215571873586
         },
         {
          "Experiment": "Trial A",
          "Measurement": -0.8033126134016544
         },
         {
          "Experiment": "Trial A",
          "Measurement": -0.6142380520833028
         },
         {
          "Experiment": "Trial A",
          "Measurement": -0.027747909909424946
         },
         {
          "Experiment": "Trial A",
          "Measurement": 0.1873717860292166
         },
         {
          "Experiment": "Trial A",
          "Measurement": 1.2404003942512616
         },
         {
          "Experiment": "Trial A",
          "Measurement": -0.7986832325910328
         },
         {
          "Experiment": "Trial A",
          "Measurement": 0.787457918781267
         },
         {
          "Experiment": "Trial A",
          "Measurement": -0.17119107538040718
         },
         {
          "Experiment": "Trial A",
          "Measurement": -0.03957096772194636
         },
         {
          "Experiment": "Trial A",
          "Measurement": 0.5398555937332831
         },
         {
          "Experiment": "Trial A",
          "Measurement": -0.8981776172498389
         },
         {
          "Experiment": "Trial A",
          "Measurement": 0.3059277969472405
         },
         {
          "Experiment": "Trial A",
          "Measurement": 0.13316176657044487
         },
         {
          "Experiment": "Trial A",
          "Measurement": 0.3939610112065193
         },
         {
          "Experiment": "Trial A",
          "Measurement": 0.23133491512625448
         },
         {
          "Experiment": "Trial A",
          "Measurement": 1.9642401119287154
         },
         {
          "Experiment": "Trial A",
          "Measurement": -0.5101919874010528
         },
         {
          "Experiment": "Trial A",
          "Measurement": -0.42479756400145413
         },
         {
          "Experiment": "Trial A",
          "Measurement": -0.49851242113981153
         },
         {
          "Experiment": "Trial A",
          "Measurement": -0.44438169532820376
         },
         {
          "Experiment": "Trial A",
          "Measurement": -0.5099097018452142
         },
         {
          "Experiment": "Trial A",
          "Measurement": 0.9512132248860414
         },
         {
          "Experiment": "Trial A",
          "Measurement": 1.136403398391884
         },
         {
          "Experiment": "Trial A",
          "Measurement": -0.45659703499958104
         },
         {
          "Experiment": "Trial A",
          "Measurement": -0.665884458483383
         },
         {
          "Experiment": "Trial A",
          "Measurement": 0.3771324451091233
         },
         {
          "Experiment": "Trial A",
          "Measurement": -0.441778435424777
         },
         {
          "Experiment": "Trial A",
          "Measurement": 0.5063454542044087
         },
         {
          "Experiment": "Trial A",
          "Measurement": 0.16233841668103977
         },
         {
          "Experiment": "Trial A",
          "Measurement": -1.2125952919977856
         },
         {
          "Experiment": "Trial A",
          "Measurement": 1.2380041610640493
         },
         {
          "Experiment": "Trial A",
          "Measurement": 1.4367021384764174
         },
         {
          "Experiment": "Trial A",
          "Measurement": -0.490230952387509
         },
         {
          "Experiment": "Trial A",
          "Measurement": -0.31016124794878736
         },
         {
          "Experiment": "Trial A",
          "Measurement": 0.22869231257992398
         },
         {
          "Experiment": "Trial A",
          "Measurement": 0.26756543198962
         },
         {
          "Experiment": "Trial A",
          "Measurement": 0.5268354181382644
         },
         {
          "Experiment": "Trial A",
          "Measurement": 1.6081636310130798
         },
         {
          "Experiment": "Trial A",
          "Measurement": -0.14155778199523952
         },
         {
          "Experiment": "Trial A",
          "Measurement": -0.6386377956307631
         },
         {
          "Experiment": "Trial A",
          "Measurement": -1.1034553824116218
         },
         {
          "Experiment": "Trial A",
          "Measurement": -0.5847440319535353
         },
         {
          "Experiment": "Trial A",
          "Measurement": -0.026501578299037678
         },
         {
          "Experiment": "Trial A",
          "Measurement": 1.4356462908142302
         },
         {
          "Experiment": "Trial A",
          "Measurement": -0.41408903922893714
         },
         {
          "Experiment": "Trial A",
          "Measurement": 0.17903036131111882
         },
         {
          "Experiment": "Trial A",
          "Measurement": -0.01313831685820166
         },
         {
          "Experiment": "Trial A",
          "Measurement": 0.9507146187584672
         },
         {
          "Experiment": "Trial A",
          "Measurement": 2.0215459406988976
         },
         {
          "Experiment": "Trial A",
          "Measurement": -0.42469501833625656
         },
         {
          "Experiment": "Trial A",
          "Measurement": -0.39155155401457775
         },
         {
          "Experiment": "Trial A",
          "Measurement": 0.8353287016552576
         },
         {
          "Experiment": "Trial A",
          "Measurement": 0.5455131917010492
         },
         {
          "Experiment": "Trial A",
          "Measurement": 1.477365860588827
         },
         {
          "Experiment": "Trial A",
          "Measurement": 0.4671425482607712
         },
         {
          "Experiment": "Trial A",
          "Measurement": -0.28743367262964764
         },
         {
          "Experiment": "Trial A",
          "Measurement": 0.47252386455384743
         },
         {
          "Experiment": "Trial A",
          "Measurement": 0.8869628644663262
         },
         {
          "Experiment": "Trial A",
          "Measurement": 0.6563857449578913
         },
         {
          "Experiment": "Trial A",
          "Measurement": 0.4058192248858382
         },
         {
          "Experiment": "Trial A",
          "Measurement": 0.8533397516713231
         },
         {
          "Experiment": "Trial A",
          "Measurement": 0.9354364723565383
         },
         {
          "Experiment": "Trial A",
          "Measurement": 1.1057271928300219
         },
         {
          "Experiment": "Trial A",
          "Measurement": 0.5189679100717142
         },
         {
          "Experiment": "Trial A",
          "Measurement": -0.1336944642534835
         },
         {
          "Experiment": "Trial A",
          "Measurement": 0.11737094914665827
         },
         {
          "Experiment": "Trial A",
          "Measurement": 0.9652071732066855
         },
         {
          "Experiment": "Trial A",
          "Measurement": -0.6535485367897889
         },
         {
          "Experiment": "Trial A",
          "Measurement": 0.29493864709832096
         },
         {
          "Experiment": "Trial A",
          "Measurement": -0.31467104986188854
         },
         {
          "Experiment": "Trial A",
          "Measurement": 0.02299585834785399
         },
         {
          "Experiment": "Trial A",
          "Measurement": 1.022761490085839
         },
         {
          "Experiment": "Trial A",
          "Measurement": 0.15287925441592268
         },
         {
          "Experiment": "Trial A",
          "Measurement": 0.03714923852491905
         },
         {
          "Experiment": "Trial A",
          "Measurement": -1.0878849127839354
         },
         {
          "Experiment": "Trial A",
          "Measurement": 0.5970028528217766
         },
         {
          "Experiment": "Trial A",
          "Measurement": 0.5163873449128603
         },
         {
          "Experiment": "Trial A",
          "Measurement": 1.7306037786443682
         },
         {
          "Experiment": "Trial A",
          "Measurement": -0.24622258796240068
         },
         {
          "Experiment": "Trial A",
          "Measurement": 0.17532026213115118
         },
         {
          "Experiment": "Trial A",
          "Measurement": 0.19950694696860422
         },
         {
          "Experiment": "Trial A",
          "Measurement": 1.2619626238107795
         },
         {
          "Experiment": "Trial A",
          "Measurement": -0.07623642590956169
         },
         {
          "Experiment": "Trial A",
          "Measurement": 0.2232172206162714
         },
         {
          "Experiment": "Trial A",
          "Measurement": 0.4863172077732314
         },
         {
          "Experiment": "Trial A",
          "Measurement": 0.1492872985250865
         },
         {
          "Experiment": "Trial A",
          "Measurement": -0.3571468916404226
         },
         {
          "Experiment": "Trial A",
          "Measurement": 0.15527199431864608
         },
         {
          "Experiment": "Trial A",
          "Measurement": 0.8589053998878177
         },
         {
          "Experiment": "Trial A",
          "Measurement": -0.8212122395288483
         },
         {
          "Experiment": "Trial A",
          "Measurement": 0.1063757393175008
         },
         {
          "Experiment": "Trial A",
          "Measurement": -0.5600966519513386
         },
         {
          "Experiment": "Trial A",
          "Measurement": 0.956037303139874
         },
         {
          "Experiment": "Trial A",
          "Measurement": -1.2185495238270199
         },
         {
          "Experiment": "Trial A",
          "Measurement": -0.4471374778172707
         },
         {
          "Experiment": "Trial A",
          "Measurement": 0.30176950005161673
         },
         {
          "Experiment": "Trial A",
          "Measurement": 1.2524192233874725
         },
         {
          "Experiment": "Trial A",
          "Measurement": -0.05260020885839024
         },
         {
          "Experiment": "Trial A",
          "Measurement": -0.4441596213545587
         },
         {
          "Experiment": "Trial A",
          "Measurement": 1.5049256555524722
         },
         {
          "Experiment": "Trial A",
          "Measurement": -1.1584111203329952
         },
         {
          "Experiment": "Trial A",
          "Measurement": -1.7590447652960657
         },
         {
          "Experiment": "Trial A",
          "Measurement": 0.3520115600426659
         },
         {
          "Experiment": "Trial A",
          "Measurement": -0.40164337948208895
         },
         {
          "Experiment": "Trial A",
          "Measurement": -0.8169862537045707
         },
         {
          "Experiment": "Trial A",
          "Measurement": 0.5666851578394827
         },
         {
          "Experiment": "Trial A",
          "Measurement": 0.19504057101695907
         },
         {
          "Experiment": "Trial A",
          "Measurement": -0.45126290458938273
         },
         {
          "Experiment": "Trial A",
          "Measurement": -1.0242435189367156
         },
         {
          "Experiment": "Trial A",
          "Measurement": 0.6979658626241158
         },
         {
          "Experiment": "Trial A",
          "Measurement": 0.5201609423669288
         },
         {
          "Experiment": "Trial A",
          "Measurement": -0.07934069102350633
         },
         {
          "Experiment": "Trial A",
          "Measurement": 1.4773095968381327
         },
         {
          "Experiment": "Trial A",
          "Measurement": -0.8560678130609221
         },
         {
          "Experiment": "Trial A",
          "Measurement": -1.220420136739791
         },
         {
          "Experiment": "Trial A",
          "Measurement": -0.5535264559049956
         },
         {
          "Experiment": "Trial A",
          "Measurement": -0.03646881308439825
         },
         {
          "Experiment": "Trial A",
          "Measurement": 0.19467155945815348
         },
         {
          "Experiment": "Trial A",
          "Measurement": -0.1929888462850639
         },
         {
          "Experiment": "Trial A",
          "Measurement": 0.28164431721143746
         },
         {
          "Experiment": "Trial A",
          "Measurement": -1.0012315393523552
         },
         {
          "Experiment": "Trial A",
          "Measurement": 1.1550116832586077
         },
         {
          "Experiment": "Trial A",
          "Measurement": -0.06572094271405504
         },
         {
          "Experiment": "Trial A",
          "Measurement": 0.8938366652705021
         },
         {
          "Experiment": "Trial A",
          "Measurement": 0.2741802771021633
         },
         {
          "Experiment": "Trial A",
          "Measurement": 0.36540257532302717
         },
         {
          "Experiment": "Trial A",
          "Measurement": 0.45581382418576316
         },
         {
          "Experiment": "Trial A",
          "Measurement": 0.358166848013852
         },
         {
          "Experiment": "Trial A",
          "Measurement": 0.5141782078940351
         },
         {
          "Experiment": "Trial A",
          "Measurement": 1.0633220241059451
         },
         {
          "Experiment": "Trial A",
          "Measurement": 0.15721693576117612
         },
         {
          "Experiment": "Trial A",
          "Measurement": 0.5672030060708099
         },
         {
          "Experiment": "Trial A",
          "Measurement": -0.07178855542978138
         },
         {
          "Experiment": "Trial A",
          "Measurement": 1.1520937723595783
         },
         {
          "Experiment": "Trial A",
          "Measurement": -0.5411138416474158
         },
         {
          "Experiment": "Trial A",
          "Measurement": 1.4407523463286527
         },
         {
          "Experiment": "Trial A",
          "Measurement": -0.03212636051547473
         },
         {
          "Experiment": "Trial A",
          "Measurement": -1.1446200816944385
         },
         {
          "Experiment": "Trial A",
          "Measurement": 0.10248353192863142
         },
         {
          "Experiment": "Trial A",
          "Measurement": -0.5448413259799046
         },
         {
          "Experiment": "Trial A",
          "Measurement": 0.6725148391909793
         },
         {
          "Experiment": "Trial A",
          "Measurement": -0.5220991834419128
         },
         {
          "Experiment": "Trial A",
          "Measurement": -0.3569467465718238
         },
         {
          "Experiment": "Trial A",
          "Measurement": -1.511632584756425
         },
         {
          "Experiment": "Trial A",
          "Measurement": -0.3618450553992614
         },
         {
          "Experiment": "Trial A",
          "Measurement": -1.9391034613031655
         },
         {
          "Experiment": "Trial A",
          "Measurement": -1.2671222587885786
         },
         {
          "Experiment": "Trial A",
          "Measurement": 0.608331724915438
         },
         {
          "Experiment": "Trial A",
          "Measurement": 0.6286401269206658
         },
         {
          "Experiment": "Trial A",
          "Measurement": 0.34036604942797183
         },
         {
          "Experiment": "Trial A",
          "Measurement": -0.7735809145033704
         },
         {
          "Experiment": "Trial A",
          "Measurement": -0.03816908491358389
         },
         {
          "Experiment": "Trial A",
          "Measurement": -0.002882031272454724
         },
         {
          "Experiment": "Trial A",
          "Measurement": -0.9266917513540343
         },
         {
          "Experiment": "Trial A",
          "Measurement": 1.2027186414137205
         },
         {
          "Experiment": "Trial A",
          "Measurement": 0.7018898324605372
         },
         {
          "Experiment": "Trial A",
          "Measurement": -0.17677133906373116
         },
         {
          "Experiment": "Trial A",
          "Measurement": 0.021508671195624624
         },
         {
          "Experiment": "Trial A",
          "Measurement": 0.166706246358042
         },
         {
          "Experiment": "Trial A",
          "Measurement": -1.6333878947394327
         },
         {
          "Experiment": "Trial A",
          "Measurement": -0.19774190601647756
         },
         {
          "Experiment": "Trial A",
          "Measurement": -0.5455873983982389
         },
         {
          "Experiment": "Trial A",
          "Measurement": -0.8012960079159325
         },
         {
          "Experiment": "Trial A",
          "Measurement": -0.22488023430876392
         },
         {
          "Experiment": "Trial A",
          "Measurement": 1.438149221479618
         },
         {
          "Experiment": "Trial A",
          "Measurement": 0.5126742890136079
         },
         {
          "Experiment": "Trial A",
          "Measurement": -0.45694319182623744
         },
         {
          "Experiment": "Trial A",
          "Measurement": 0.4580662250849269
         },
         {
          "Experiment": "Trial B",
          "Measurement": -0.6006445634139979
         },
         {
          "Experiment": "Trial B",
          "Measurement": -1.0753663170872312
         },
         {
          "Experiment": "Trial B",
          "Measurement": -1.9403696300798259
         },
         {
          "Experiment": "Trial B",
          "Measurement": -2.646936777705574
         },
         {
          "Experiment": "Trial B",
          "Measurement": -1.3017766863864102
         },
         {
          "Experiment": "Trial B",
          "Measurement": -1.6065146145782503
         },
         {
          "Experiment": "Trial B",
          "Measurement": -1.1048067799722676
         },
         {
          "Experiment": "Trial B",
          "Measurement": -1.3648281983180306
         },
         {
          "Experiment": "Trial B",
          "Measurement": -0.9504472846806649
         },
         {
          "Experiment": "Trial B",
          "Measurement": -2.535235211560568
         },
         {
          "Experiment": "Trial B",
          "Measurement": -0.6826059343656743
         },
         {
          "Experiment": "Trial B",
          "Measurement": -1.8024003953076004
         },
         {
          "Experiment": "Trial B",
          "Measurement": 0.07526087262526548
         },
         {
          "Experiment": "Trial B",
          "Measurement": -2.689187818089568
         },
         {
          "Experiment": "Trial B",
          "Measurement": -0.26403619683475066
         },
         {
          "Experiment": "Trial B",
          "Measurement": -1.802089216537352
         },
         {
          "Experiment": "Trial B",
          "Measurement": -2.6514180036144483
         },
         {
          "Experiment": "Trial B",
          "Measurement": -2.4838858340543215
         },
         {
          "Experiment": "Trial B",
          "Measurement": -2.3203473081943202
         },
         {
          "Experiment": "Trial B",
          "Measurement": -1.5758340535980837
         },
         {
          "Experiment": "Trial B",
          "Measurement": -1.4771645119645003
         },
         {
          "Experiment": "Trial B",
          "Measurement": -2.573700003938579
         },
         {
          "Experiment": "Trial B",
          "Measurement": -2.0243545922609827
         },
         {
          "Experiment": "Trial B",
          "Measurement": 0.14227035861186366
         },
         {
          "Experiment": "Trial B",
          "Measurement": -0.27245682989928866
         },
         {
          "Experiment": "Trial B",
          "Measurement": -1.563676330325968
         },
         {
          "Experiment": "Trial B",
          "Measurement": -1.9619965218317996
         },
         {
          "Experiment": "Trial B",
          "Measurement": -1.8799686732817387
         },
         {
          "Experiment": "Trial B",
          "Measurement": -1.3864820272695835
         },
         {
          "Experiment": "Trial B",
          "Measurement": -3.0227925651984053
         },
         {
          "Experiment": "Trial B",
          "Measurement": -2.257376537423345
         },
         {
          "Experiment": "Trial B",
          "Measurement": -3.6685840738775894
         },
         {
          "Experiment": "Trial B",
          "Measurement": -1.6007768773947206
         },
         {
          "Experiment": "Trial B",
          "Measurement": -1.352804060297259
         },
         {
          "Experiment": "Trial B",
          "Measurement": -2.483186462299374
         },
         {
          "Experiment": "Trial B",
          "Measurement": -0.42601323670996716
         },
         {
          "Experiment": "Trial B",
          "Measurement": -3.225765663002341
         },
         {
          "Experiment": "Trial B",
          "Measurement": -3.46437488020982
         },
         {
          "Experiment": "Trial B",
          "Measurement": -1.775548181440028
         },
         {
          "Experiment": "Trial B",
          "Measurement": -0.9529016973878455
         },
         {
          "Experiment": "Trial B",
          "Measurement": -0.3160723085421313
         },
         {
          "Experiment": "Trial B",
          "Measurement": -2.4588842628689402
         },
         {
          "Experiment": "Trial B",
          "Measurement": -0.9213191665687044
         },
         {
          "Experiment": "Trial B",
          "Measurement": -2.0385084695007074
         },
         {
          "Experiment": "Trial B",
          "Measurement": -2.1726272999408196
         },
         {
          "Experiment": "Trial B",
          "Measurement": -1.1163400625133275
         },
         {
          "Experiment": "Trial B",
          "Measurement": -1.3476771215865804
         },
         {
          "Experiment": "Trial B",
          "Measurement": -3.5763921569842494
         },
         {
          "Experiment": "Trial B",
          "Measurement": -0.5234596502741042
         },
         {
          "Experiment": "Trial B",
          "Measurement": -0.6199086458525485
         },
         {
          "Experiment": "Trial B",
          "Measurement": -2.6255627015095295
         },
         {
          "Experiment": "Trial B",
          "Measurement": -1.604196466562591
         },
         {
          "Experiment": "Trial B",
          "Measurement": -1.5059698137172612
         },
         {
          "Experiment": "Trial B",
          "Measurement": -1.739326234176093
         },
         {
          "Experiment": "Trial B",
          "Measurement": -2.5503051538454202
         },
         {
          "Experiment": "Trial B",
          "Measurement": -2.6716233679380514
         },
         {
          "Experiment": "Trial B",
          "Measurement": -2.0255540709914452
         },
         {
          "Experiment": "Trial B",
          "Measurement": -0.8272709807406353
         },
         {
          "Experiment": "Trial B",
          "Measurement": -1.4563998454055676
         },
         {
          "Experiment": "Trial B",
          "Measurement": -2.370614332086106
         },
         {
          "Experiment": "Trial B",
          "Measurement": -1.2283012893516552
         },
         {
          "Experiment": "Trial B",
          "Measurement": -4.8485426206300755
         },
         {
          "Experiment": "Trial B",
          "Measurement": -0.8512342996278965
         },
         {
          "Experiment": "Trial B",
          "Measurement": -3.7397137787781
         },
         {
          "Experiment": "Trial B",
          "Measurement": -2.362440941403132
         },
         {
          "Experiment": "Trial B",
          "Measurement": -3.119669894626144
         },
         {
          "Experiment": "Trial B",
          "Measurement": -3.294681475720906
         },
         {
          "Experiment": "Trial B",
          "Measurement": -0.8391732126214806
         },
         {
          "Experiment": "Trial B",
          "Measurement": -2.4677012013118915
         },
         {
          "Experiment": "Trial B",
          "Measurement": -1.6534961182692842
         },
         {
          "Experiment": "Trial B",
          "Measurement": -2.046920578879184
         },
         {
          "Experiment": "Trial B",
          "Measurement": -1.5229591727768785
         },
         {
          "Experiment": "Trial B",
          "Measurement": -1.9231781089397446
         },
         {
          "Experiment": "Trial B",
          "Measurement": -3.2829922241885696
         },
         {
          "Experiment": "Trial B",
          "Measurement": -1.00373318055286
         },
         {
          "Experiment": "Trial B",
          "Measurement": -2.4937565831613124
         },
         {
          "Experiment": "Trial B",
          "Measurement": -3.556581898659751
         },
         {
          "Experiment": "Trial B",
          "Measurement": -2.4281151609659126
         },
         {
          "Experiment": "Trial B",
          "Measurement": -0.49924020936568914
         },
         {
          "Experiment": "Trial B",
          "Measurement": -1.1497782578865072
         },
         {
          "Experiment": "Trial B",
          "Measurement": -2.348652134407859
         },
         {
          "Experiment": "Trial B",
          "Measurement": -2.3492577043184286
         },
         {
          "Experiment": "Trial B",
          "Measurement": -2.3216350512173825
         },
         {
          "Experiment": "Trial B",
          "Measurement": 0.0767479835608409
         },
         {
          "Experiment": "Trial B",
          "Measurement": -1.6180645477684465
         },
         {
          "Experiment": "Trial B",
          "Measurement": -1.5699583528089303
         },
         {
          "Experiment": "Trial B",
          "Measurement": -0.9697165459681578
         },
         {
          "Experiment": "Trial B",
          "Measurement": -1.7612108409734866
         },
         {
          "Experiment": "Trial B",
          "Measurement": -2.259042145820703
         },
         {
          "Experiment": "Trial B",
          "Measurement": -2.1963498490849784
         },
         {
          "Experiment": "Trial B",
          "Measurement": -2.071601259414064
         },
         {
          "Experiment": "Trial B",
          "Measurement": -2.037222236509842
         },
         {
          "Experiment": "Trial B",
          "Measurement": -1.2723704563630203
         },
         {
          "Experiment": "Trial B",
          "Measurement": -1.9480541141927006
         },
         {
          "Experiment": "Trial B",
          "Measurement": -1.2673599227844208
         },
         {
          "Experiment": "Trial B",
          "Measurement": -2.0807165801085823
         },
         {
          "Experiment": "Trial B",
          "Measurement": -1.9213648096839093
         },
         {
          "Experiment": "Trial B",
          "Measurement": -3.9982006845321076
         },
         {
          "Experiment": "Trial B",
          "Measurement": -1.0836723252975187
         },
         {
          "Experiment": "Trial B",
          "Measurement": -1.6535115241020073
         },
         {
          "Experiment": "Trial B",
          "Measurement": -1.0019898901403477
         },
         {
          "Experiment": "Trial B",
          "Measurement": -4.89625537819369
         },
         {
          "Experiment": "Trial B",
          "Measurement": 0.08837470478072751
         },
         {
          "Experiment": "Trial B",
          "Measurement": -2.1395896281551736
         },
         {
          "Experiment": "Trial B",
          "Measurement": -0.8918171832624835
         },
         {
          "Experiment": "Trial B",
          "Measurement": -3.039905927125531
         },
         {
          "Experiment": "Trial B",
          "Measurement": -1.3872260949374304
         },
         {
          "Experiment": "Trial B",
          "Measurement": -3.0534155631736564
         },
         {
          "Experiment": "Trial B",
          "Measurement": -2.6237689606958052
         },
         {
          "Experiment": "Trial B",
          "Measurement": -0.08596864613321387
         },
         {
          "Experiment": "Trial B",
          "Measurement": -2.1906824007633467
         },
         {
          "Experiment": "Trial B",
          "Measurement": -1.7825671268202772
         },
         {
          "Experiment": "Trial B",
          "Measurement": -1.129932269311246
         },
         {
          "Experiment": "Trial B",
          "Measurement": -1.5043181120273954
         },
         {
          "Experiment": "Trial B",
          "Measurement": -1.8495810948564235
         },
         {
          "Experiment": "Trial B",
          "Measurement": -1.6350389975337745
         },
         {
          "Experiment": "Trial B",
          "Measurement": 0.40341558523827503
         },
         {
          "Experiment": "Trial B",
          "Measurement": -2.0576187970335855
         },
         {
          "Experiment": "Trial B",
          "Measurement": -1.7989009532850324
         },
         {
          "Experiment": "Trial B",
          "Measurement": -0.949345603992388
         },
         {
          "Experiment": "Trial B",
          "Measurement": -0.8944740670420162
         },
         {
          "Experiment": "Trial B",
          "Measurement": -0.8129696944396199
         },
         {
          "Experiment": "Trial B",
          "Measurement": -1.3612697779708154
         },
         {
          "Experiment": "Trial B",
          "Measurement": -3.1430049127304835
         },
         {
          "Experiment": "Trial B",
          "Measurement": -0.36656846769890405
         },
         {
          "Experiment": "Trial B",
          "Measurement": -3.146345393018688
         },
         {
          "Experiment": "Trial B",
          "Measurement": -1.6973645347609667
         },
         {
          "Experiment": "Trial B",
          "Measurement": -2.754275850019358
         },
         {
          "Experiment": "Trial B",
          "Measurement": -2.0641383465929923
         },
         {
          "Experiment": "Trial B",
          "Measurement": -1.6712375896965197
         },
         {
          "Experiment": "Trial B",
          "Measurement": -1.678642784549727
         },
         {
          "Experiment": "Trial B",
          "Measurement": -1.5780792457647153
         },
         {
          "Experiment": "Trial B",
          "Measurement": -0.38628873094135296
         },
         {
          "Experiment": "Trial B",
          "Measurement": -1.5464656984860201
         },
         {
          "Experiment": "Trial B",
          "Measurement": -2.244156635290649
         },
         {
          "Experiment": "Trial B",
          "Measurement": -1.0359128317116428
         },
         {
          "Experiment": "Trial B",
          "Measurement": -0.8105295110753594
         },
         {
          "Experiment": "Trial B",
          "Measurement": -3.2276078151369925
         },
         {
          "Experiment": "Trial B",
          "Measurement": -1.402599930150142
         },
         {
          "Experiment": "Trial B",
          "Measurement": -1.2988272576891018
         },
         {
          "Experiment": "Trial B",
          "Measurement": -2.297563503359992
         },
         {
          "Experiment": "Trial B",
          "Measurement": -0.6242931866883805
         },
         {
          "Experiment": "Trial B",
          "Measurement": -2.1500555870325266
         },
         {
          "Experiment": "Trial B",
          "Measurement": -1.8744235465284578
         },
         {
          "Experiment": "Trial B",
          "Measurement": -2.17307182428387
         },
         {
          "Experiment": "Trial B",
          "Measurement": -1.9844209524185326
         },
         {
          "Experiment": "Trial B",
          "Measurement": -3.0962750868952016
         },
         {
          "Experiment": "Trial B",
          "Measurement": -3.4400508825942944
         },
         {
          "Experiment": "Trial B",
          "Measurement": -0.4054949367750278
         },
         {
          "Experiment": "Trial B",
          "Measurement": -2.846961348318328
         },
         {
          "Experiment": "Trial B",
          "Measurement": -2.9913923494563073
         },
         {
          "Experiment": "Trial B",
          "Measurement": -4.153390113603715
         },
         {
          "Experiment": "Trial B",
          "Measurement": -2.6389617476895024
         },
         {
          "Experiment": "Trial B",
          "Measurement": -3.3230897934074983
         },
         {
          "Experiment": "Trial B",
          "Measurement": -0.35798483986363094
         },
         {
          "Experiment": "Trial B",
          "Measurement": -0.9901829106573659
         },
         {
          "Experiment": "Trial B",
          "Measurement": -2.688150345177724
         },
         {
          "Experiment": "Trial B",
          "Measurement": 0.25243580534430876
         },
         {
          "Experiment": "Trial B",
          "Measurement": -1.0182345130084056
         },
         {
          "Experiment": "Trial B",
          "Measurement": -2.3248313835086223
         },
         {
          "Experiment": "Trial B",
          "Measurement": -4.499405714873573
         },
         {
          "Experiment": "Trial B",
          "Measurement": 0.29094257259074174
         },
         {
          "Experiment": "Trial B",
          "Measurement": -3.389572466763596
         },
         {
          "Experiment": "Trial B",
          "Measurement": -3.645398746956892
         },
         {
          "Experiment": "Trial B",
          "Measurement": -0.9774295679903597
         },
         {
          "Experiment": "Trial B",
          "Measurement": 0.4397524063392728
         },
         {
          "Experiment": "Trial B",
          "Measurement": -0.6157271814894818
         },
         {
          "Experiment": "Trial B",
          "Measurement": -1.4360908799476404
         },
         {
          "Experiment": "Trial B",
          "Measurement": -1.4052456583347142
         },
         {
          "Experiment": "Trial B",
          "Measurement": -1.1465844412196922
         },
         {
          "Experiment": "Trial B",
          "Measurement": -1.2410714102132347
         },
         {
          "Experiment": "Trial B",
          "Measurement": -1.7188085760306242
         },
         {
          "Experiment": "Trial B",
          "Measurement": -1.895798896048124
         },
         {
          "Experiment": "Trial B",
          "Measurement": -2.062593127899522
         },
         {
          "Experiment": "Trial B",
          "Measurement": -2.753964588866676
         },
         {
          "Experiment": "Trial B",
          "Measurement": -2.280675076866774
         },
         {
          "Experiment": "Trial B",
          "Measurement": -3.6929568141953855
         },
         {
          "Experiment": "Trial B",
          "Measurement": -2.09833962679475
         },
         {
          "Experiment": "Trial B",
          "Measurement": -2.9885911071509175
         },
         {
          "Experiment": "Trial B",
          "Measurement": -3.103589317215771
         },
         {
          "Experiment": "Trial B",
          "Measurement": -1.8201058488465216
         },
         {
          "Experiment": "Trial B",
          "Measurement": -0.6079977136554007
         },
         {
          "Experiment": "Trial B",
          "Measurement": -1.0816833939976869
         },
         {
          "Experiment": "Trial B",
          "Measurement": -3.5705006036231772
         },
         {
          "Experiment": "Trial B",
          "Measurement": -2.9896281365703374
         },
         {
          "Experiment": "Trial B",
          "Measurement": -1.059228812011784
         },
         {
          "Experiment": "Trial B",
          "Measurement": -2.9824873935383094
         },
         {
          "Experiment": "Trial B",
          "Measurement": -2.2246331499970244
         },
         {
          "Experiment": "Trial B",
          "Measurement": -1.4499479009754481
         },
         {
          "Experiment": "Trial B",
          "Measurement": -2.9683444548636353
         },
         {
          "Experiment": "Trial B",
          "Measurement": -1.8946244938540402
         },
         {
          "Experiment": "Trial B",
          "Measurement": -3.3340254949182047
         },
         {
          "Experiment": "Trial B",
          "Measurement": -2.601367643951214
         },
         {
          "Experiment": "Trial B",
          "Measurement": -1.680218065857463
         },
         {
          "Experiment": "Trial B",
          "Measurement": -3.592993733531669
         },
         {
          "Experiment": "Trial B",
          "Measurement": -1.559525262039601
         },
         {
          "Experiment": "Trial B",
          "Measurement": -2.019637798926681
         },
         {
          "Experiment": "Trial B",
          "Measurement": -1.4475100455828522
         },
         {
          "Experiment": "Trial B",
          "Measurement": -1.7760858659353387
         },
         {
          "Experiment": "Trial B",
          "Measurement": -0.6358595700261558
         },
         {
          "Experiment": "Trial B",
          "Measurement": -1.8747754973520927
         },
         {
          "Experiment": "Trial B",
          "Measurement": -2.429405541125253
         },
         {
          "Experiment": "Trial B",
          "Measurement": -1.8777024969677163
         },
         {
          "Experiment": "Trial B",
          "Measurement": -1.456701970963612
         },
         {
          "Experiment": "Trial B",
          "Measurement": -1.9511399296742957
         },
         {
          "Experiment": "Trial B",
          "Measurement": -1.9594083087961176
         },
         {
          "Experiment": "Trial B",
          "Measurement": -2.701991687806755
         },
         {
          "Experiment": "Trial B",
          "Measurement": -2.662900917550948
         },
         {
          "Experiment": "Trial B",
          "Measurement": -3.4026052717996933
         },
         {
          "Experiment": "Trial B",
          "Measurement": -0.25042325681306066
         },
         {
          "Experiment": "Trial B",
          "Measurement": -3.2438632353912853
         },
         {
          "Experiment": "Trial B",
          "Measurement": -2.6929051977959073
         },
         {
          "Experiment": "Trial B",
          "Measurement": -2.7184072655691973
         },
         {
          "Experiment": "Trial B",
          "Measurement": -1.1050756230555587
         },
         {
          "Experiment": "Trial B",
          "Measurement": -2.294949678292028
         },
         {
          "Experiment": "Trial B",
          "Measurement": -0.7522579273262662
         },
         {
          "Experiment": "Trial B",
          "Measurement": -2.6734906242438683
         },
         {
          "Experiment": "Trial B",
          "Measurement": -1.721005837776198
         },
         {
          "Experiment": "Trial B",
          "Measurement": -2.835347053259757
         },
         {
          "Experiment": "Trial B",
          "Measurement": 0.1451491277733883
         },
         {
          "Experiment": "Trial B",
          "Measurement": -3.187598419029513
         },
         {
          "Experiment": "Trial B",
          "Measurement": -1.6901792897729724
         },
         {
          "Experiment": "Trial B",
          "Measurement": -1.3662231190679015
         },
         {
          "Experiment": "Trial B",
          "Measurement": -1.5862009025485018
         },
         {
          "Experiment": "Trial B",
          "Measurement": -2.185287658877708
         },
         {
          "Experiment": "Trial B",
          "Measurement": -2.1298206997334264
         },
         {
          "Experiment": "Trial B",
          "Measurement": -1.9561885280208904
         },
         {
          "Experiment": "Trial B",
          "Measurement": -2.1470020016284885
         },
         {
          "Experiment": "Trial B",
          "Measurement": -1.0361208832050903
         },
         {
          "Experiment": "Trial B",
          "Measurement": 0.2105230015913513
         },
         {
          "Experiment": "Trial B",
          "Measurement": -2.5574917850078336
         },
         {
          "Experiment": "Trial B",
          "Measurement": -3.369802979579078
         },
         {
          "Experiment": "Trial B",
          "Measurement": -2.088282048351255
         },
         {
          "Experiment": "Trial B",
          "Measurement": 0.5797093376543185
         },
         {
          "Experiment": "Trial B",
          "Measurement": -2.803674567969731
         },
         {
          "Experiment": "Trial B",
          "Measurement": -0.36088319455593254
         },
         {
          "Experiment": "Trial B",
          "Measurement": -0.32229918592355933
         },
         {
          "Experiment": "Trial B",
          "Measurement": -2.5535882417079945
         },
         {
          "Experiment": "Trial B",
          "Measurement": -1.4310169208147245
         },
         {
          "Experiment": "Trial B",
          "Measurement": -0.37160337687146194
         },
         {
          "Experiment": "Trial B",
          "Measurement": -2.379127740987487
         },
         {
          "Experiment": "Trial B",
          "Measurement": -2.203580360102362
         },
         {
          "Experiment": "Trial B",
          "Measurement": -2.581680913948644
         },
         {
          "Experiment": "Trial B",
          "Measurement": -3.014756730692867
         },
         {
          "Experiment": "Trial B",
          "Measurement": -2.649277545066007
         },
         {
          "Experiment": "Trial B",
          "Measurement": -3.2239402667622565
         },
         {
          "Experiment": "Trial B",
          "Measurement": -1.9659165317407739
         },
         {
          "Experiment": "Trial B",
          "Measurement": -2.769973231058642
         },
         {
          "Experiment": "Trial B",
          "Measurement": -1.7662140882092523
         },
         {
          "Experiment": "Trial B",
          "Measurement": -3.555895646203627
         },
         {
          "Experiment": "Trial B",
          "Measurement": -1.669119767785543
         },
         {
          "Experiment": "Trial B",
          "Measurement": -1.1664710383910752
         },
         {
          "Experiment": "Trial B",
          "Measurement": -3.9937356425714556
         },
         {
          "Experiment": "Trial B",
          "Measurement": -1.6259434301524278
         },
         {
          "Experiment": "Trial B",
          "Measurement": -0.7723310075267078
         },
         {
          "Experiment": "Trial B",
          "Measurement": -3.2096410186912054
         },
         {
          "Experiment": "Trial B",
          "Measurement": -0.3274276131622966
         },
         {
          "Experiment": "Trial B",
          "Measurement": -1.5809809906339547
         },
         {
          "Experiment": "Trial B",
          "Measurement": -2.705011855758409
         },
         {
          "Experiment": "Trial B",
          "Measurement": -2.0557690776577062
         },
         {
          "Experiment": "Trial B",
          "Measurement": -1.4416730874782777
         },
         {
          "Experiment": "Trial B",
          "Measurement": -1.9239946085875885
         },
         {
          "Experiment": "Trial B",
          "Measurement": -1.4612440075536308
         },
         {
          "Experiment": "Trial B",
          "Measurement": -2.9206735930793664
         },
         {
          "Experiment": "Trial B",
          "Measurement": -1.830639175963922
         },
         {
          "Experiment": "Trial B",
          "Measurement": -3.41371449690498
         },
         {
          "Experiment": "Trial B",
          "Measurement": -2.1112260613487
         },
         {
          "Experiment": "Trial B",
          "Measurement": -2.90390764146479
         },
         {
          "Experiment": "Trial B",
          "Measurement": -2.735529942589767
         },
         {
          "Experiment": "Trial B",
          "Measurement": -0.7639068247895626
         },
         {
          "Experiment": "Trial B",
          "Measurement": -0.908689879405731
         },
         {
          "Experiment": "Trial B",
          "Measurement": -1.390861879092823
         },
         {
          "Experiment": "Trial B",
          "Measurement": -3.092312764672579
         },
         {
          "Experiment": "Trial B",
          "Measurement": -2.316408449694802
         },
         {
          "Experiment": "Trial B",
          "Measurement": -0.7869023000208166
         },
         {
          "Experiment": "Trial B",
          "Measurement": -1.8582830863600952
         },
         {
          "Experiment": "Trial B",
          "Measurement": 0.3193295399816942
         },
         {
          "Experiment": "Trial B",
          "Measurement": -1.606682160605628
         },
         {
          "Experiment": "Trial B",
          "Measurement": -1.8079508835099685
         },
         {
          "Experiment": "Trial B",
          "Measurement": -2.3091164642025013
         },
         {
          "Experiment": "Trial B",
          "Measurement": -1.8664590952177176
         },
         {
          "Experiment": "Trial B",
          "Measurement": -2.152469836380544
         },
         {
          "Experiment": "Trial B",
          "Measurement": -1.2918913233114095
         },
         {
          "Experiment": "Trial B",
          "Measurement": -1.043297683205416
         },
         {
          "Experiment": "Trial B",
          "Measurement": -2.7859894605079494
         },
         {
          "Experiment": "Trial B",
          "Measurement": -3.331232953557778
         },
         {
          "Experiment": "Trial B",
          "Measurement": -3.8362053731032963
         },
         {
          "Experiment": "Trial B",
          "Measurement": -1.4920086730874562
         },
         {
          "Experiment": "Trial B",
          "Measurement": -3.1033666061738736
         },
         {
          "Experiment": "Trial B",
          "Measurement": -4.152890592952483
         },
         {
          "Experiment": "Trial B",
          "Measurement": -1.611421395469036
         },
         {
          "Experiment": "Trial B",
          "Measurement": 0.4929995174327906
         },
         {
          "Experiment": "Trial B",
          "Measurement": -2.006070911539893
         },
         {
          "Experiment": "Trial B",
          "Measurement": -1.1615092255483581
         },
         {
          "Experiment": "Trial B",
          "Measurement": -1.918170641452435
         },
         {
          "Experiment": "Trial B",
          "Measurement": -2.0988896531911427
         },
         {
          "Experiment": "Trial B",
          "Measurement": -1.0809235170122315
         },
         {
          "Experiment": "Trial B",
          "Measurement": -2.290274544188651
         },
         {
          "Experiment": "Trial B",
          "Measurement": -1.732607685928097
         },
         {
          "Experiment": "Trial B",
          "Measurement": -1.6783021938039864
         },
         {
          "Experiment": "Trial B",
          "Measurement": -2.6680904536430488
         },
         {
          "Experiment": "Trial B",
          "Measurement": -1.007957650463477
         },
         {
          "Experiment": "Trial B",
          "Measurement": -2.174959756695409
         },
         {
          "Experiment": "Trial B",
          "Measurement": -2.755745159492845
         },
         {
          "Experiment": "Trial B",
          "Measurement": -1.4634901564295966
         },
         {
          "Experiment": "Trial B",
          "Measurement": -2.898467981791037
         },
         {
          "Experiment": "Trial B",
          "Measurement": -1.9718188426308718
         },
         {
          "Experiment": "Trial B",
          "Measurement": -2.0091189966442036
         },
         {
          "Experiment": "Trial B",
          "Measurement": -0.9141044341684219
         },
         {
          "Experiment": "Trial B",
          "Measurement": -1.5253017671200473
         },
         {
          "Experiment": "Trial B",
          "Measurement": -2.0250269587451437
         },
         {
          "Experiment": "Trial B",
          "Measurement": -1.182233700799713
         },
         {
          "Experiment": "Trial B",
          "Measurement": -0.6097924509826866
         },
         {
          "Experiment": "Trial B",
          "Measurement": -1.4421896936481378
         },
         {
          "Experiment": "Trial B",
          "Measurement": -1.9896473801566195
         },
         {
          "Experiment": "Trial B",
          "Measurement": -3.3118362323501596
         },
         {
          "Experiment": "Trial B",
          "Measurement": -3.0651136630753726
         },
         {
          "Experiment": "Trial B",
          "Measurement": -2.305224704354668
         },
         {
          "Experiment": "Trial B",
          "Measurement": -2.609512202159283
         },
         {
          "Experiment": "Trial B",
          "Measurement": -2.186971302985446
         },
         {
          "Experiment": "Trial B",
          "Measurement": -1.943350075102893
         },
         {
          "Experiment": "Trial B",
          "Measurement": -1.4703072456432693
         },
         {
          "Experiment": "Trial B",
          "Measurement": -2.070498778059091
         },
         {
          "Experiment": "Trial B",
          "Measurement": -1.513498356173798
         },
         {
          "Experiment": "Trial B",
          "Measurement": -1.9355255851898798
         },
         {
          "Experiment": "Trial B",
          "Measurement": -3.9754665663538713
         },
         {
          "Experiment": "Trial B",
          "Measurement": -2.9393353938187543
         },
         {
          "Experiment": "Trial B",
          "Measurement": -2.1440875557216152
         },
         {
          "Experiment": "Trial B",
          "Measurement": -3.2096947428411076
         },
         {
          "Experiment": "Trial B",
          "Measurement": -1.4000712700037954
         },
         {
          "Experiment": "Trial B",
          "Measurement": -0.46924916765630265
         },
         {
          "Experiment": "Trial B",
          "Measurement": -0.7812381483026833
         },
         {
          "Experiment": "Trial B",
          "Measurement": -2.213442870930208
         },
         {
          "Experiment": "Trial B",
          "Measurement": -0.509273863150048
         },
         {
          "Experiment": "Trial B",
          "Measurement": -1.8513325427978884
         },
         {
          "Experiment": "Trial B",
          "Measurement": -2.3370859711180394
         },
         {
          "Experiment": "Trial B",
          "Measurement": -2.6134026635409398
         },
         {
          "Experiment": "Trial B",
          "Measurement": -2.3024696864881284
         },
         {
          "Experiment": "Trial B",
          "Measurement": -2.3881768185412287
         },
         {
          "Experiment": "Trial B",
          "Measurement": -1.8295837776245123
         },
         {
          "Experiment": "Trial B",
          "Measurement": -1.8394260189501355
         },
         {
          "Experiment": "Trial B",
          "Measurement": -1.9969539798465856
         },
         {
          "Experiment": "Trial B",
          "Measurement": -1.56306183025365
         },
         {
          "Experiment": "Trial B",
          "Measurement": -0.8093537252136587
         },
         {
          "Experiment": "Trial B",
          "Measurement": -1.0504458645586763
         },
         {
          "Experiment": "Trial B",
          "Measurement": -3.4848979684499035
         },
         {
          "Experiment": "Trial B",
          "Measurement": -4.553921134901955
         },
         {
          "Experiment": "Trial B",
          "Measurement": -1.0656800887607263
         },
         {
          "Experiment": "Trial B",
          "Measurement": -3.3668786984154213
         },
         {
          "Experiment": "Trial B",
          "Measurement": -2.2247654018926837
         },
         {
          "Experiment": "Trial B",
          "Measurement": -3.1701130260593597
         },
         {
          "Experiment": "Trial B",
          "Measurement": -3.8019804375800197
         },
         {
          "Experiment": "Trial B",
          "Measurement": -1.4585372717952119
         },
         {
          "Experiment": "Trial B",
          "Measurement": -1.240844839697353
         },
         {
          "Experiment": "Trial B",
          "Measurement": -2.576510400726719
         },
         {
          "Experiment": "Trial B",
          "Measurement": -4.59104229214491
         },
         {
          "Experiment": "Trial B",
          "Measurement": -2.546244448252483
         },
         {
          "Experiment": "Trial B",
          "Measurement": -1.6081959945974535
         },
         {
          "Experiment": "Trial B",
          "Measurement": -3.4789115687741288
         },
         {
          "Experiment": "Trial B",
          "Measurement": -1.8166400802208444
         },
         {
          "Experiment": "Trial B",
          "Measurement": -2.0153098491729957
         },
         {
          "Experiment": "Trial B",
          "Measurement": -1.4207085003989115
         },
         {
          "Experiment": "Trial B",
          "Measurement": -1.8804196315858468
         },
         {
          "Experiment": "Trial B",
          "Measurement": -2.9730689408815554
         },
         {
          "Experiment": "Trial B",
          "Measurement": -0.8034284983355087
         },
         {
          "Experiment": "Trial B",
          "Measurement": -2.15852957302697
         },
         {
          "Experiment": "Trial B",
          "Measurement": -2.027304539509932
         },
         {
          "Experiment": "Trial B",
          "Measurement": -2.933267959073196
         },
         {
          "Experiment": "Trial B",
          "Measurement": -2.44328225119151
         },
         {
          "Experiment": "Trial B",
          "Measurement": -2.884802714026901
         },
         {
          "Experiment": "Trial B",
          "Measurement": -2.172946059923423
         },
         {
          "Experiment": "Trial B",
          "Measurement": -0.28829151985765655
         },
         {
          "Experiment": "Trial B",
          "Measurement": -3.3719011429313563
         },
         {
          "Experiment": "Trial B",
          "Measurement": -3.613561397876741
         },
         {
          "Experiment": "Trial B",
          "Measurement": -0.5288296725063915
         },
         {
          "Experiment": "Trial B",
          "Measurement": -2.209323677151866
         },
         {
          "Experiment": "Trial B",
          "Measurement": -2.6690727386599167
         },
         {
          "Experiment": "Trial B",
          "Measurement": -0.9600953126039236
         },
         {
          "Experiment": "Trial B",
          "Measurement": -2.6056155397368643
         },
         {
          "Experiment": "Trial B",
          "Measurement": -0.1739902864530638
         },
         {
          "Experiment": "Trial B",
          "Measurement": -1.322074128660731
         },
         {
          "Experiment": "Trial B",
          "Measurement": -2.4879114081457026
         },
         {
          "Experiment": "Trial B",
          "Measurement": 0.15730821326550348
         },
         {
          "Experiment": "Trial B",
          "Measurement": -2.6057149230033385
         },
         {
          "Experiment": "Trial B",
          "Measurement": -1.2579046279906931
         },
         {
          "Experiment": "Trial B",
          "Measurement": -1.7007074195935081
         },
         {
          "Experiment": "Trial B",
          "Measurement": -0.6982587106012019
         },
         {
          "Experiment": "Trial B",
          "Measurement": -0.4384888032731473
         },
         {
          "Experiment": "Trial B",
          "Measurement": -1.9679958509342335
         },
         {
          "Experiment": "Trial B",
          "Measurement": -2.7534178703461833
         },
         {
          "Experiment": "Trial B",
          "Measurement": -1.5400278570608836
         },
         {
          "Experiment": "Trial B",
          "Measurement": -2.6777153697521063
         },
         {
          "Experiment": "Trial B",
          "Measurement": 0.013387247526623014
         },
         {
          "Experiment": "Trial B",
          "Measurement": -1.8634646689172625
         },
         {
          "Experiment": "Trial B",
          "Measurement": -2.3653215513121086
         },
         {
          "Experiment": "Trial B",
          "Measurement": -1.8153196941350915
         },
         {
          "Experiment": "Trial B",
          "Measurement": -3.3471262895296965
         },
         {
          "Experiment": "Trial B",
          "Measurement": -2.9716140385106513
         },
         {
          "Experiment": "Trial B",
          "Measurement": -0.7995860920555746
         },
         {
          "Experiment": "Trial B",
          "Measurement": -2.6568942789713956
         },
         {
          "Experiment": "Trial B",
          "Measurement": -3.04691098268194
         },
         {
          "Experiment": "Trial B",
          "Measurement": -1.4633472474727138
         },
         {
          "Experiment": "Trial B",
          "Measurement": -0.814295845337003
         },
         {
          "Experiment": "Trial B",
          "Measurement": -1.2810466893349333
         },
         {
          "Experiment": "Trial B",
          "Measurement": -1.0039523141941835
         },
         {
          "Experiment": "Trial B",
          "Measurement": -2.7567950885694605
         },
         {
          "Experiment": "Trial B",
          "Measurement": -3.4218106667418438
         },
         {
          "Experiment": "Trial B",
          "Measurement": -0.49866634804451326
         },
         {
          "Experiment": "Trial B",
          "Measurement": -2.3226798388421357
         },
         {
          "Experiment": "Trial B",
          "Measurement": -2.250833016455047
         },
         {
          "Experiment": "Trial B",
          "Measurement": -0.6718058581509421
         },
         {
          "Experiment": "Trial B",
          "Measurement": -1.44376999059934
         },
         {
          "Experiment": "Trial B",
          "Measurement": -1.5441122279183923
         },
         {
          "Experiment": "Trial B",
          "Measurement": 0.165002344901084
         },
         {
          "Experiment": "Trial B",
          "Measurement": -2.6435182303801428
         },
         {
          "Experiment": "Trial B",
          "Measurement": -1.0721598719187628
         },
         {
          "Experiment": "Trial B",
          "Measurement": -1.9429868751029156
         },
         {
          "Experiment": "Trial B",
          "Measurement": -1.7314077211367431
         },
         {
          "Experiment": "Trial B",
          "Measurement": -0.47153157358746833
         },
         {
          "Experiment": "Trial B",
          "Measurement": -1.4921642437103761
         },
         {
          "Experiment": "Trial B",
          "Measurement": -1.461703920950367
         },
         {
          "Experiment": "Trial B",
          "Measurement": -0.9274926626901978
         },
         {
          "Experiment": "Trial B",
          "Measurement": -2.3649527295428854
         },
         {
          "Experiment": "Trial B",
          "Measurement": -2.8392096673390066
         },
         {
          "Experiment": "Trial B",
          "Measurement": -3.044809194021034
         },
         {
          "Experiment": "Trial B",
          "Measurement": -3.9663565893760016
         },
         {
          "Experiment": "Trial B",
          "Measurement": 0.056207129940322176
         },
         {
          "Experiment": "Trial B",
          "Measurement": -3.103208365721683
         },
         {
          "Experiment": "Trial B",
          "Measurement": -2.221253623585772
         },
         {
          "Experiment": "Trial B",
          "Measurement": -2.2768132998889206
         },
         {
          "Experiment": "Trial B",
          "Measurement": -1.6925933021908992
         },
         {
          "Experiment": "Trial B",
          "Measurement": -1.1842627874607032
         },
         {
          "Experiment": "Trial B",
          "Measurement": -1.1395265116402546
         },
         {
          "Experiment": "Trial B",
          "Measurement": -2.5830774385689383
         },
         {
          "Experiment": "Trial B",
          "Measurement": -2.1671217137864116
         },
         {
          "Experiment": "Trial B",
          "Measurement": -1.7174200495117002
         },
         {
          "Experiment": "Trial B",
          "Measurement": -2.248691126183547
         },
         {
          "Experiment": "Trial B",
          "Measurement": -0.3926544239800074
         },
         {
          "Experiment": "Trial B",
          "Measurement": -1.5090250483617487
         },
         {
          "Experiment": "Trial B",
          "Measurement": -1.2651222139501825
         },
         {
          "Experiment": "Trial B",
          "Measurement": -1.3371187313325872
         },
         {
          "Experiment": "Trial B",
          "Measurement": -0.826526142514675
         },
         {
          "Experiment": "Trial B",
          "Measurement": -1.818978441296293
         },
         {
          "Experiment": "Trial B",
          "Measurement": -3.2968319479558463
         },
         {
          "Experiment": "Trial B",
          "Measurement": -1.6003120482473583
         },
         {
          "Experiment": "Trial B",
          "Measurement": -2.651356893791829
         },
         {
          "Experiment": "Trial B",
          "Measurement": -2.5286166817497566
         },
         {
          "Experiment": "Trial B",
          "Measurement": -1.4136359812449069
         },
         {
          "Experiment": "Trial B",
          "Measurement": -0.7617169285663643
         },
         {
          "Experiment": "Trial B",
          "Measurement": -1.9787284232639384
         },
         {
          "Experiment": "Trial B",
          "Measurement": -1.6911669874010362
         },
         {
          "Experiment": "Trial B",
          "Measurement": -0.2977850553647621
         },
         {
          "Experiment": "Trial B",
          "Measurement": -1.7592468205114318
         },
         {
          "Experiment": "Trial B",
          "Measurement": 0.6016831141803949
         },
         {
          "Experiment": "Trial B",
          "Measurement": -1.4344903543684557
         },
         {
          "Experiment": "Trial B",
          "Measurement": -3.760762759155818
         },
         {
          "Experiment": "Trial B",
          "Measurement": -1.2466583788954675
         },
         {
          "Experiment": "Trial B",
          "Measurement": -1.6188416151172222
         },
         {
          "Experiment": "Trial B",
          "Measurement": -0.7102472459172544
         },
         {
          "Experiment": "Trial B",
          "Measurement": -1.3268186487300415
         },
         {
          "Experiment": "Trial B",
          "Measurement": -2.138455983983774
         },
         {
          "Experiment": "Trial B",
          "Measurement": -3.224298236289366
         },
         {
          "Experiment": "Trial B",
          "Measurement": -2.209023257286025
         },
         {
          "Experiment": "Trial B",
          "Measurement": -2.8505204542093
         },
         {
          "Experiment": "Trial B",
          "Measurement": -2.5805234498047227
         },
         {
          "Experiment": "Trial B",
          "Measurement": -1.4114215955793905
         },
         {
          "Experiment": "Trial B",
          "Measurement": -0.33009549564859375
         },
         {
          "Experiment": "Trial B",
          "Measurement": -1.605328470177019
         },
         {
          "Experiment": "Trial B",
          "Measurement": -3.1958830620351844
         },
         {
          "Experiment": "Trial B",
          "Measurement": -1.5553973317798593
         },
         {
          "Experiment": "Trial B",
          "Measurement": -0.8033685133543489
         },
         {
          "Experiment": "Trial B",
          "Measurement": -2.609782904319382
         },
         {
          "Experiment": "Trial B",
          "Measurement": -2.1340171666729177
         },
         {
          "Experiment": "Trial B",
          "Measurement": -1.985311805270803
         },
         {
          "Experiment": "Trial B",
          "Measurement": -2.7848983130822402
         },
         {
          "Experiment": "Trial B",
          "Measurement": -1.351719566156141
         },
         {
          "Experiment": "Trial B",
          "Measurement": -2.1209481486077815
         },
         {
          "Experiment": "Trial B",
          "Measurement": -1.5804675560929722
         },
         {
          "Experiment": "Trial B",
          "Measurement": -2.8874921778021
         },
         {
          "Experiment": "Trial B",
          "Measurement": -2.4374583003234105
         },
         {
          "Experiment": "Trial B",
          "Measurement": -1.2776186421722286
         },
         {
          "Experiment": "Trial B",
          "Measurement": -2.372833152091767
         },
         {
          "Experiment": "Trial B",
          "Measurement": -0.2730361487665949
         },
         {
          "Experiment": "Trial B",
          "Measurement": -2.3996361856146025
         },
         {
          "Experiment": "Trial B",
          "Measurement": -1.775315274248114
         },
         {
          "Experiment": "Trial B",
          "Measurement": -1.0674091681269102
         },
         {
          "Experiment": "Trial B",
          "Measurement": -3.4183657329330317
         },
         {
          "Experiment": "Trial B",
          "Measurement": -3.760808811980776
         },
         {
          "Experiment": "Trial B",
          "Measurement": -3.525656314570095
         },
         {
          "Experiment": "Trial B",
          "Measurement": -0.7374158965728179
         },
         {
          "Experiment": "Trial B",
          "Measurement": -2.5518581458924467
         },
         {
          "Experiment": "Trial B",
          "Measurement": 0.5581992856682523
         },
         {
          "Experiment": "Trial B",
          "Measurement": -2.5642475986573885
         },
         {
          "Experiment": "Trial B",
          "Measurement": -1.815448696802963
         },
         {
          "Experiment": "Trial B",
          "Measurement": -0.45789004743212436
         },
         {
          "Experiment": "Trial B",
          "Measurement": 0.0060928881591229
         },
         {
          "Experiment": "Trial B",
          "Measurement": 0.06150357663639783
         },
         {
          "Experiment": "Trial B",
          "Measurement": -0.7916337694068576
         },
         {
          "Experiment": "Trial B",
          "Measurement": -0.9759374741885376
         },
         {
          "Experiment": "Trial B",
          "Measurement": -1.407473050798817
         },
         {
          "Experiment": "Trial B",
          "Measurement": -1.2216389238333623
         },
         {
          "Experiment": "Trial B",
          "Measurement": -2.5511857163285336
         },
         {
          "Experiment": "Trial B",
          "Measurement": -2.818198883422307
         },
         {
          "Experiment": "Trial B",
          "Measurement": -2.003374457410952
         },
         {
          "Experiment": "Trial B",
          "Measurement": -2.1701846225249284
         },
         {
          "Experiment": "Trial B",
          "Measurement": -2.4532280493272753
         },
         {
          "Experiment": "Trial B",
          "Measurement": -1.3036125525432847
         },
         {
          "Experiment": "Trial B",
          "Measurement": -1.0446947914294893
         },
         {
          "Experiment": "Trial B",
          "Measurement": -1.9115931137081525
         },
         {
          "Experiment": "Trial B",
          "Measurement": -0.5224699189447382
         },
         {
          "Experiment": "Trial B",
          "Measurement": -3.141689114133505
         },
         {
          "Experiment": "Trial B",
          "Measurement": -2.193659459279718
         },
         {
          "Experiment": "Trial B",
          "Measurement": -2.716822320602805
         },
         {
          "Experiment": "Trial B",
          "Measurement": -3.86653661707306
         },
         {
          "Experiment": "Trial B",
          "Measurement": -2.0826806858426994
         },
         {
          "Experiment": "Trial B",
          "Measurement": -2.1217475083832835
         },
         {
          "Experiment": "Trial B",
          "Measurement": -0.486550256757869
         },
         {
          "Experiment": "Trial B",
          "Measurement": -1.3691883154452225
         },
         {
          "Experiment": "Trial B",
          "Measurement": -3.024186824329205
         },
         {
          "Experiment": "Trial B",
          "Measurement": -0.14590743366581171
         },
         {
          "Experiment": "Trial B",
          "Measurement": -0.7789663044746471
         },
         {
          "Experiment": "Trial B",
          "Measurement": -1.417902296531384
         },
         {
          "Experiment": "Trial B",
          "Measurement": -2.226484098849832
         },
         {
          "Experiment": "Trial B",
          "Measurement": -2.9594392367234796
         },
         {
          "Experiment": "Trial B",
          "Measurement": -2.372206776071053
         },
         {
          "Experiment": "Trial B",
          "Measurement": -0.911251380295814
         },
         {
          "Experiment": "Trial B",
          "Measurement": -0.11541369406539093
         },
         {
          "Experiment": "Trial B",
          "Measurement": -0.456756471727811
         },
         {
          "Experiment": "Trial B",
          "Measurement": -2.488849421786274
         },
         {
          "Experiment": "Trial B",
          "Measurement": -3.119617433289011
         },
         {
          "Experiment": "Trial B",
          "Measurement": -1.859113753088796
         },
         {
          "Experiment": "Trial B",
          "Measurement": -3.768439365562852
         },
         {
          "Experiment": "Trial B",
          "Measurement": -1.6768322858152185
         },
         {
          "Experiment": "Trial B",
          "Measurement": -2.1476025862986687
         },
         {
          "Experiment": "Trial B",
          "Measurement": -2.4660365018682424
         },
         {
          "Experiment": "Trial B",
          "Measurement": -3.5947030672667957
         },
         {
          "Experiment": "Trial B",
          "Measurement": -1.4863998934302836
         },
         {
          "Experiment": "Trial B",
          "Measurement": -2.5327008396619113
         },
         {
          "Experiment": "Trial B",
          "Measurement": -3.1699168357102883
         },
         {
          "Experiment": "Trial B",
          "Measurement": -4.872262213281649
         },
         {
          "Experiment": "Trial B",
          "Measurement": -2.0275149050506363
         },
         {
          "Experiment": "Trial B",
          "Measurement": -0.22774840333025592
         },
         {
          "Experiment": "Trial B",
          "Measurement": -0.33874078545213004
         },
         {
          "Experiment": "Trial B",
          "Measurement": -2.4570962565862717
         },
         {
          "Experiment": "Trial B",
          "Measurement": -2.6022120603617807
         },
         {
          "Experiment": "Trial B",
          "Measurement": -1.5312257439249763
         },
         {
          "Experiment": "Trial B",
          "Measurement": -2.9983854391882914
         },
         {
          "Experiment": "Trial B",
          "Measurement": -1.698208100180534
         },
         {
          "Experiment": "Trial B",
          "Measurement": -1.2339197216153097
         },
         {
          "Experiment": "Trial B",
          "Measurement": -0.7730667761156924
         },
         {
          "Experiment": "Trial B",
          "Measurement": -2.100154076479953
         },
         {
          "Experiment": "Trial B",
          "Measurement": -2.203673750176966
         },
         {
          "Experiment": "Trial B",
          "Measurement": -2.877982586756561
         },
         {
          "Experiment": "Trial B",
          "Measurement": -2.82688035403986
         },
         {
          "Experiment": "Trial B",
          "Measurement": -2.2264788919015266
         },
         {
          "Experiment": "Trial B",
          "Measurement": -1.632634493183822
         },
         {
          "Experiment": "Trial B",
          "Measurement": -1.0864153737667506
         },
         {
          "Experiment": "Trial B",
          "Measurement": -2.803178950680345
         },
         {
          "Experiment": "Trial B",
          "Measurement": -0.5073114310404783
         },
         {
          "Experiment": "Trial B",
          "Measurement": -2.271123601042569
         },
         {
          "Experiment": "Trial B",
          "Measurement": -2.021367294348436
         },
         {
          "Experiment": "Trial B",
          "Measurement": -2.7472116791478234
         },
         {
          "Experiment": "Trial B",
          "Measurement": -4.424240260272942
         },
         {
          "Experiment": "Trial B",
          "Measurement": -1.1159546036389503
         },
         {
          "Experiment": "Trial B",
          "Measurement": -1.2631561029075666
         },
         {
          "Experiment": "Trial B",
          "Measurement": -2.2813275571182134
         },
         {
          "Experiment": "Trial B",
          "Measurement": -1.9330092827751282
         },
         {
          "Experiment": "Trial B",
          "Measurement": -1.4840607822959004
         },
         {
          "Experiment": "Trial B",
          "Measurement": -3.5625458568865427
         },
         {
          "Experiment": "Trial B",
          "Measurement": -2.5290526773462947
         },
         {
          "Experiment": "Trial B",
          "Measurement": -1.2057353203781729
         },
         {
          "Experiment": "Trial B",
          "Measurement": -3.2542894231692494
         },
         {
          "Experiment": "Trial B",
          "Measurement": -1.7064420678333707
         },
         {
          "Experiment": "Trial B",
          "Measurement": -3.356581804623405
         },
         {
          "Experiment": "Trial B",
          "Measurement": -1.5335700175664737
         },
         {
          "Experiment": "Trial B",
          "Measurement": -2.0356414822974838
         },
         {
          "Experiment": "Trial B",
          "Measurement": -3.6151318159055092
         },
         {
          "Experiment": "Trial B",
          "Measurement": -0.8352606455428286
         },
         {
          "Experiment": "Trial B",
          "Measurement": -2.7345915767980493
         },
         {
          "Experiment": "Trial B",
          "Measurement": -2.810252437014381
         },
         {
          "Experiment": "Trial B",
          "Measurement": -1.799430802769057
         },
         {
          "Experiment": "Trial B",
          "Measurement": -0.8513626505712848
         },
         {
          "Experiment": "Trial B",
          "Measurement": -3.015821818978397
         },
         {
          "Experiment": "Trial B",
          "Measurement": -1.9383201501520284
         },
         {
          "Experiment": "Trial B",
          "Measurement": -1.5711834996694272
         },
         {
          "Experiment": "Trial B",
          "Measurement": -1.306894392736856
         },
         {
          "Experiment": "Trial B",
          "Measurement": -1.8235584447227748
         },
         {
          "Experiment": "Trial B",
          "Measurement": -2.367027839083322
         },
         {
          "Experiment": "Trial B",
          "Measurement": -2.8275902206487196
         },
         {
          "Experiment": "Trial B",
          "Measurement": -1.9138561169536252
         },
         {
          "Experiment": "Trial B",
          "Measurement": -3.072139011985607
         },
         {
          "Experiment": "Trial B",
          "Measurement": -4.921350483494607
         },
         {
          "Experiment": "Trial B",
          "Measurement": -1.563440195842332
         },
         {
          "Experiment": "Trial B",
          "Measurement": -1.0960651589138046
         },
         {
          "Experiment": "Trial B",
          "Measurement": -4.362932435541838
         },
         {
          "Experiment": "Trial B",
          "Measurement": -3.0097307047099378
         },
         {
          "Experiment": "Trial B",
          "Measurement": -1.3808457389948021
         },
         {
          "Experiment": "Trial B",
          "Measurement": 0.05749546971169872
         },
         {
          "Experiment": "Trial B",
          "Measurement": -1.979206292324592
         },
         {
          "Experiment": "Trial B",
          "Measurement": -2.7280029412291347
         },
         {
          "Experiment": "Trial B",
          "Measurement": -2.18289644110484
         },
         {
          "Experiment": "Trial B",
          "Measurement": -0.6251235808518152
         },
         {
          "Experiment": "Trial B",
          "Measurement": -2.6459641791245354
         },
         {
          "Experiment": "Trial B",
          "Measurement": -2.7991920066502534
         },
         {
          "Experiment": "Trial B",
          "Measurement": -2.4827435221820324
         },
         {
          "Experiment": "Trial B",
          "Measurement": -2.9533286082587122
         },
         {
          "Experiment": "Trial B",
          "Measurement": -1.8773296840052045
         },
         {
          "Experiment": "Trial B",
          "Measurement": -0.3753215415304394
         },
         {
          "Experiment": "Trial B",
          "Measurement": -1.676920726883971
         },
         {
          "Experiment": "Trial B",
          "Measurement": -2.2523535021262875
         },
         {
          "Experiment": "Trial B",
          "Measurement": -2.291811268915544
         },
         {
          "Experiment": "Trial B",
          "Measurement": -3.563190808696657
         },
         {
          "Experiment": "Trial B",
          "Measurement": -1.116890222852841
         },
         {
          "Experiment": "Trial B",
          "Measurement": -2.0778371970128022
         },
         {
          "Experiment": "Trial B",
          "Measurement": -2.1804799135906254
         },
         {
          "Experiment": "Trial B",
          "Measurement": 1.1931075678448608
         },
         {
          "Experiment": "Trial B",
          "Measurement": -1.7012470916343139
         },
         {
          "Experiment": "Trial B",
          "Measurement": -2.7517910500951843
         },
         {
          "Experiment": "Trial B",
          "Measurement": -2.4263575962055435
         },
         {
          "Experiment": "Trial B",
          "Measurement": -0.8515542908032452
         },
         {
          "Experiment": "Trial B",
          "Measurement": -1.8867295894622356
         },
         {
          "Experiment": "Trial B",
          "Measurement": -3.438277978317367
         },
         {
          "Experiment": "Trial B",
          "Measurement": -1.0807710654247966
         },
         {
          "Experiment": "Trial B",
          "Measurement": -2.668144085538994
         },
         {
          "Experiment": "Trial B",
          "Measurement": -0.12670222378245444
         },
         {
          "Experiment": "Trial B",
          "Measurement": -0.9199519342853515
         },
         {
          "Experiment": "Trial B",
          "Measurement": -2.4473218956587512
         },
         {
          "Experiment": "Trial B",
          "Measurement": -0.7189836382648871
         },
         {
          "Experiment": "Trial B",
          "Measurement": -1.9321444894725968
         },
         {
          "Experiment": "Trial B",
          "Measurement": -1.1472263248777805
         },
         {
          "Experiment": "Trial B",
          "Measurement": -1.5152671827055253
         },
         {
          "Experiment": "Trial B",
          "Measurement": -2.8463566549908736
         },
         {
          "Experiment": "Trial B",
          "Measurement": -2.643549832317462
         },
         {
          "Experiment": "Trial B",
          "Measurement": -0.9700391824188388
         },
         {
          "Experiment": "Trial B",
          "Measurement": -2.334775332106541
         },
         {
          "Experiment": "Trial B",
          "Measurement": -2.4036484632419968
         },
         {
          "Experiment": "Trial B",
          "Measurement": -2.9551225793493527
         },
         {
          "Experiment": "Trial B",
          "Measurement": -1.5764009344065388
         },
         {
          "Experiment": "Trial B",
          "Measurement": 0.06252491924314496
         },
         {
          "Experiment": "Trial B",
          "Measurement": -3.067532914254273
         },
         {
          "Experiment": "Trial B",
          "Measurement": -1.975780543327242
         },
         {
          "Experiment": "Trial B",
          "Measurement": -0.5877794445845708
         },
         {
          "Experiment": "Trial B",
          "Measurement": -2.079641391245715
         },
         {
          "Experiment": "Trial B",
          "Measurement": -1.547628203750266
         },
         {
          "Experiment": "Trial B",
          "Measurement": -3.0623935281468797
         },
         {
          "Experiment": "Trial B",
          "Measurement": -1.5716929027923514
         },
         {
          "Experiment": "Trial B",
          "Measurement": -2.187144265004549
         },
         {
          "Experiment": "Trial B",
          "Measurement": -1.014270004320137
         },
         {
          "Experiment": "Trial B",
          "Measurement": -0.8126139484352488
         },
         {
          "Experiment": "Trial B",
          "Measurement": 0.5895636420186139
         },
         {
          "Experiment": "Trial B",
          "Measurement": -1.4203668267864242
         },
         {
          "Experiment": "Trial B",
          "Measurement": -1.6742036834178335
         },
         {
          "Experiment": "Trial B",
          "Measurement": -1.805615698422664
         },
         {
          "Experiment": "Trial B",
          "Measurement": -2.3531662928106885
         },
         {
          "Experiment": "Trial B",
          "Measurement": -1.6615161565383088
         },
         {
          "Experiment": "Trial B",
          "Measurement": -2.2954014101390294
         },
         {
          "Experiment": "Trial B",
          "Measurement": -1.8315390237303857
         },
         {
          "Experiment": "Trial B",
          "Measurement": -0.6824024643920403
         },
         {
          "Experiment": "Trial B",
          "Measurement": -3.0065425652796414
         },
         {
          "Experiment": "Trial B",
          "Measurement": -0.8601214388709546
         },
         {
          "Experiment": "Trial B",
          "Measurement": -0.6828849326601347
         },
         {
          "Experiment": "Trial B",
          "Measurement": -2.118068526991079
         },
         {
          "Experiment": "Trial B",
          "Measurement": -4.121854899008595
         },
         {
          "Experiment": "Trial B",
          "Measurement": -2.6078219870944324
         },
         {
          "Experiment": "Trial B",
          "Measurement": -0.7030054534388908
         },
         {
          "Experiment": "Trial B",
          "Measurement": -2.022868062298882
         },
         {
          "Experiment": "Trial B",
          "Measurement": -2.9993022322949106
         },
         {
          "Experiment": "Trial B",
          "Measurement": -2.5047749212282175
         },
         {
          "Experiment": "Trial B",
          "Measurement": -1.1593799734954469
         },
         {
          "Experiment": "Trial B",
          "Measurement": -1.4532664317986206
         },
         {
          "Experiment": "Trial B",
          "Measurement": -2.2389320991696944
         },
         {
          "Experiment": "Trial B",
          "Measurement": -2.3668244118146875
         },
         {
          "Experiment": "Trial B",
          "Measurement": -2.391758149043822
         },
         {
          "Experiment": "Trial B",
          "Measurement": -2.9224101844985024
         },
         {
          "Experiment": "Trial B",
          "Measurement": -0.38462431053055823
         },
         {
          "Experiment": "Trial B",
          "Measurement": -2.32232046921134
         },
         {
          "Experiment": "Trial B",
          "Measurement": -0.7828414791745035
         },
         {
          "Experiment": "Trial B",
          "Measurement": -0.47868394807754866
         },
         {
          "Experiment": "Trial B",
          "Measurement": -1.0016891018520395
         },
         {
          "Experiment": "Trial B",
          "Measurement": -2.4316203127180485
         },
         {
          "Experiment": "Trial B",
          "Measurement": -1.5962699096633906
         },
         {
          "Experiment": "Trial B",
          "Measurement": -2.0241956063909163
         },
         {
          "Experiment": "Trial B",
          "Measurement": -2.903701860730128
         },
         {
          "Experiment": "Trial B",
          "Measurement": -1.675640718278397
         },
         {
          "Experiment": "Trial B",
          "Measurement": -3.1790397911598025
         },
         {
          "Experiment": "Trial B",
          "Measurement": -0.8123206115384363
         },
         {
          "Experiment": "Trial B",
          "Measurement": -2.464617297298393
         },
         {
          "Experiment": "Trial B",
          "Measurement": -1.7988403441271608
         },
         {
          "Experiment": "Trial B",
          "Measurement": -1.7167121284538578
         },
         {
          "Experiment": "Trial B",
          "Measurement": -2.258904973704077
         },
         {
          "Experiment": "Trial B",
          "Measurement": -1.4133061985247253
         },
         {
          "Experiment": "Trial B",
          "Measurement": -2.4749036566225247
         },
         {
          "Experiment": "Trial B",
          "Measurement": -1.1287027025427558
         },
         {
          "Experiment": "Trial B",
          "Measurement": -3.3459796802467485
         },
         {
          "Experiment": "Trial B",
          "Measurement": -1.8736204204535882
         },
         {
          "Experiment": "Trial B",
          "Measurement": -0.06107100094171525
         },
         {
          "Experiment": "Trial B",
          "Measurement": -3.0003313246055745
         },
         {
          "Experiment": "Trial B",
          "Measurement": -2.6777449705248513
         },
         {
          "Experiment": "Trial B",
          "Measurement": -1.486092150341085
         },
         {
          "Experiment": "Trial B",
          "Measurement": -1.820418218060402
         },
         {
          "Experiment": "Trial B",
          "Measurement": -1.6493699007264409
         },
         {
          "Experiment": "Trial B",
          "Measurement": -1.5108128698523364
         },
         {
          "Experiment": "Trial B",
          "Measurement": -1.36527853143823
         },
         {
          "Experiment": "Trial B",
          "Measurement": -0.8903001580437768
         },
         {
          "Experiment": "Trial B",
          "Measurement": -1.5901813430714875
         },
         {
          "Experiment": "Trial B",
          "Measurement": -2.2412576546185425
         },
         {
          "Experiment": "Trial B",
          "Measurement": -1.3274262987972687
         },
         {
          "Experiment": "Trial B",
          "Measurement": -0.10011806510478438
         },
         {
          "Experiment": "Trial B",
          "Measurement": -2.1326337463825737
         },
         {
          "Experiment": "Trial B",
          "Measurement": -2.9745293046706416
         },
         {
          "Experiment": "Trial B",
          "Measurement": -0.8929193307130272
         },
         {
          "Experiment": "Trial B",
          "Measurement": -2.1203811639535983
         },
         {
          "Experiment": "Trial B",
          "Measurement": -4.172669546014037
         },
         {
          "Experiment": "Trial B",
          "Measurement": -1.1525783228495783
         },
         {
          "Experiment": "Trial B",
          "Measurement": -2.5353281859539227
         },
         {
          "Experiment": "Trial B",
          "Measurement": -2.0905332823041607
         },
         {
          "Experiment": "Trial B",
          "Measurement": -1.6680196694309855
         },
         {
          "Experiment": "Trial B",
          "Measurement": -1.8095003202209337
         },
         {
          "Experiment": "Trial B",
          "Measurement": -1.2905481828609604
         },
         {
          "Experiment": "Trial B",
          "Measurement": -2.4354863705698433
         },
         {
          "Experiment": "Trial B",
          "Measurement": -1.4868942018239173
         },
         {
          "Experiment": "Trial B",
          "Measurement": -2.2595466775839173
         },
         {
          "Experiment": "Trial B",
          "Measurement": -1.2611895191124969
         },
         {
          "Experiment": "Trial B",
          "Measurement": -1.3846325159869466
         },
         {
          "Experiment": "Trial B",
          "Measurement": -2.9354387020445953
         },
         {
          "Experiment": "Trial B",
          "Measurement": -0.9140178838249677
         },
         {
          "Experiment": "Trial B",
          "Measurement": -2.535963445114048
         },
         {
          "Experiment": "Trial B",
          "Measurement": -1.191942201718855
         },
         {
          "Experiment": "Trial B",
          "Measurement": -1.6327126865986594
         },
         {
          "Experiment": "Trial B",
          "Measurement": -0.1618163232048775
         },
         {
          "Experiment": "Trial B",
          "Measurement": -2.2234659823718523
         },
         {
          "Experiment": "Trial B",
          "Measurement": -2.3493167961181975
         },
         {
          "Experiment": "Trial B",
          "Measurement": -2.0194196058877325
         },
         {
          "Experiment": "Trial B",
          "Measurement": -2.3031797828342753
         },
         {
          "Experiment": "Trial B",
          "Measurement": -1.20005809805795
         },
         {
          "Experiment": "Trial B",
          "Measurement": -3.6163106084365877
         },
         {
          "Experiment": "Trial B",
          "Measurement": -3.0536824191463543
         },
         {
          "Experiment": "Trial B",
          "Measurement": -3.067802921579193
         },
         {
          "Experiment": "Trial B",
          "Measurement": -1.0496924080264243
         },
         {
          "Experiment": "Trial B",
          "Measurement": -0.28938662741807475
         },
         {
          "Experiment": "Trial B",
          "Measurement": -2.1044492185374715
         },
         {
          "Experiment": "Trial B",
          "Measurement": -2.1688217231900104
         },
         {
          "Experiment": "Trial B",
          "Measurement": -1.9299478368868186
         },
         {
          "Experiment": "Trial B",
          "Measurement": -0.8381216973918095
         },
         {
          "Experiment": "Trial B",
          "Measurement": -2.9273531341905743
         },
         {
          "Experiment": "Trial B",
          "Measurement": -1.761631017265215
         },
         {
          "Experiment": "Trial B",
          "Measurement": -1.0248023702175701
         },
         {
          "Experiment": "Trial B",
          "Measurement": -1.4989058300601548
         },
         {
          "Experiment": "Trial B",
          "Measurement": -1.8104183834012566
         },
         {
          "Experiment": "Trial B",
          "Measurement": -0.9989539074328588
         },
         {
          "Experiment": "Trial B",
          "Measurement": -4.703232292999237
         },
         {
          "Experiment": "Trial B",
          "Measurement": -1.3221246804690923
         },
         {
          "Experiment": "Trial B",
          "Measurement": -2.6540756831274237
         },
         {
          "Experiment": "Trial B",
          "Measurement": -3.830632896856457
         },
         {
          "Experiment": "Trial B",
          "Measurement": -1.4887974004750193
         },
         {
          "Experiment": "Trial B",
          "Measurement": -0.6263414548370423
         },
         {
          "Experiment": "Trial B",
          "Measurement": -2.137448514627692
         },
         {
          "Experiment": "Trial B",
          "Measurement": -1.047125452797061
         },
         {
          "Experiment": "Trial B",
          "Measurement": -0.38772174201135456
         },
         {
          "Experiment": "Trial B",
          "Measurement": -0.6850855464159527
         },
         {
          "Experiment": "Trial B",
          "Measurement": -0.3600354706286071
         },
         {
          "Experiment": "Trial B",
          "Measurement": -1.2578725089281078
         },
         {
          "Experiment": "Trial B",
          "Measurement": -1.9245663610984072
         },
         {
          "Experiment": "Trial B",
          "Measurement": -3.6019658118971685
         },
         {
          "Experiment": "Trial B",
          "Measurement": -2.2460624881299487
         },
         {
          "Experiment": "Trial B",
          "Measurement": -2.8432465953161916
         },
         {
          "Experiment": "Trial B",
          "Measurement": 0.17094271749781376
         },
         {
          "Experiment": "Trial B",
          "Measurement": -2.1758858124323366
         },
         {
          "Experiment": "Trial B",
          "Measurement": -1.8767951932155142
         },
         {
          "Experiment": "Trial B",
          "Measurement": -1.4485146239595323
         },
         {
          "Experiment": "Trial B",
          "Measurement": -1.9563975536275462
         },
         {
          "Experiment": "Trial B",
          "Measurement": -0.30494895956924695
         },
         {
          "Experiment": "Trial B",
          "Measurement": -2.622649361734452
         },
         {
          "Experiment": "Trial B",
          "Measurement": -1.8053925447627572
         },
         {
          "Experiment": "Trial B",
          "Measurement": -2.7424705856980482
         },
         {
          "Experiment": "Trial B",
          "Measurement": -3.3200225112207056
         },
         {
          "Experiment": "Trial B",
          "Measurement": -2.6117690909052853
         },
         {
          "Experiment": "Trial B",
          "Measurement": -2.0370367970484122
         },
         {
          "Experiment": "Trial B",
          "Measurement": -2.4293022245172597
         },
         {
          "Experiment": "Trial B",
          "Measurement": -2.692420979873856
         },
         {
          "Experiment": "Trial B",
          "Measurement": -3.406317463671834
         },
         {
          "Experiment": "Trial B",
          "Measurement": -2.083105572628695
         },
         {
          "Experiment": "Trial B",
          "Measurement": -3.5047203740310025
         },
         {
          "Experiment": "Trial B",
          "Measurement": -1.2399440363103973
         },
         {
          "Experiment": "Trial B",
          "Measurement": -1.9175602470654967
         },
         {
          "Experiment": "Trial B",
          "Measurement": -3.4575514994649303
         },
         {
          "Experiment": "Trial B",
          "Measurement": -2.3092090770498634
         },
         {
          "Experiment": "Trial B",
          "Measurement": -2.752156405590583
         },
         {
          "Experiment": "Trial B",
          "Measurement": -1.6808254895808195
         },
         {
          "Experiment": "Trial B",
          "Measurement": -0.6595495539768554
         },
         {
          "Experiment": "Trial B",
          "Measurement": -3.8751724696457446
         },
         {
          "Experiment": "Trial B",
          "Measurement": -1.8849739208525829
         },
         {
          "Experiment": "Trial B",
          "Measurement": -2.1601327955666405
         },
         {
          "Experiment": "Trial B",
          "Measurement": -1.3286599235495342
         },
         {
          "Experiment": "Trial B",
          "Measurement": -1.7868033717623109
         },
         {
          "Experiment": "Trial B",
          "Measurement": -2.751969331738819
         },
         {
          "Experiment": "Trial B",
          "Measurement": -2.319053935666618
         },
         {
          "Experiment": "Trial B",
          "Measurement": -2.796025856803489
         },
         {
          "Experiment": "Trial B",
          "Measurement": -0.9239928614014017
         },
         {
          "Experiment": "Trial B",
          "Measurement": -1.9786883513280578
         },
         {
          "Experiment": "Trial B",
          "Measurement": -0.09880931424699257
         },
         {
          "Experiment": "Trial B",
          "Measurement": -2.060660813814621
         },
         {
          "Experiment": "Trial B",
          "Measurement": -2.708406766910463
         },
         {
          "Experiment": "Trial B",
          "Measurement": -3.513714392612827
         },
         {
          "Experiment": "Trial B",
          "Measurement": -3.8031396762559453
         },
         {
          "Experiment": "Trial B",
          "Measurement": -3.5841359430054895
         },
         {
          "Experiment": "Trial B",
          "Measurement": -1.7328733489885166
         },
         {
          "Experiment": "Trial B",
          "Measurement": -1.4912749767700662
         },
         {
          "Experiment": "Trial B",
          "Measurement": -3.581190702032133
         },
         {
          "Experiment": "Trial B",
          "Measurement": -1.1049616859238847
         },
         {
          "Experiment": "Trial B",
          "Measurement": -2.4830610516834395
         },
         {
          "Experiment": "Trial B",
          "Measurement": -1.8532069880144506
         },
         {
          "Experiment": "Trial B",
          "Measurement": -0.38777937174457566
         },
         {
          "Experiment": "Trial B",
          "Measurement": -1.103160684134468
         },
         {
          "Experiment": "Trial B",
          "Measurement": -2.2685306479058323
         },
         {
          "Experiment": "Trial B",
          "Measurement": -2.8911922254152875
         },
         {
          "Experiment": "Trial B",
          "Measurement": -4.151815401329305
         },
         {
          "Experiment": "Trial B",
          "Measurement": -2.71915331924242
         },
         {
          "Experiment": "Trial B",
          "Measurement": -2.2111302388276943
         },
         {
          "Experiment": "Trial B",
          "Measurement": -2.987179527151184
         },
         {
          "Experiment": "Trial B",
          "Measurement": -2.1312569670923045
         },
         {
          "Experiment": "Trial B",
          "Measurement": -1.9231481170412317
         },
         {
          "Experiment": "Trial B",
          "Measurement": -2.2248559818080786
         },
         {
          "Experiment": "Trial B",
          "Measurement": -2.6500025808234597
         },
         {
          "Experiment": "Trial B",
          "Measurement": -1.8313453280332723
         },
         {
          "Experiment": "Trial B",
          "Measurement": -1.5580593504305909
         },
         {
          "Experiment": "Trial B",
          "Measurement": -3.090399077442846
         },
         {
          "Experiment": "Trial B",
          "Measurement": -0.5890676202537299
         },
         {
          "Experiment": "Trial B",
          "Measurement": -2.0985881322842617
         },
         {
          "Experiment": "Trial B",
          "Measurement": -1.9811503770551524
         },
         {
          "Experiment": "Trial B",
          "Measurement": -1.2917855767434427
         },
         {
          "Experiment": "Trial B",
          "Measurement": -1.7667838687364983
         },
         {
          "Experiment": "Trial B",
          "Measurement": -1.0468633660867548
         },
         {
          "Experiment": "Trial B",
          "Measurement": -1.7128758347981758
         },
         {
          "Experiment": "Trial B",
          "Measurement": -2.6124373746404377
         },
         {
          "Experiment": "Trial B",
          "Measurement": -1.6384964747938984
         },
         {
          "Experiment": "Trial B",
          "Measurement": -3.143726207320662
         },
         {
          "Experiment": "Trial B",
          "Measurement": -1.891440294223477
         },
         {
          "Experiment": "Trial B",
          "Measurement": -2.0332299906444606
         },
         {
          "Experiment": "Trial B",
          "Measurement": -2.2081168572725396
         },
         {
          "Experiment": "Trial B",
          "Measurement": -2.128537511438931
         },
         {
          "Experiment": "Trial B",
          "Measurement": -3.8818490454976393
         },
         {
          "Experiment": "Trial B",
          "Measurement": -2.5487249077409615
         },
         {
          "Experiment": "Trial B",
          "Measurement": -1.9071550988588852
         },
         {
          "Experiment": "Trial B",
          "Measurement": -1.8401436080025997
         },
         {
          "Experiment": "Trial B",
          "Measurement": -3.0276751409259584
         },
         {
          "Experiment": "Trial B",
          "Measurement": -0.7342921591352993
         },
         {
          "Experiment": "Trial B",
          "Measurement": -2.866174848214501
         },
         {
          "Experiment": "Trial B",
          "Measurement": -1.0305427994732632
         },
         {
          "Experiment": "Trial B",
          "Measurement": -1.572805638128315
         },
         {
          "Experiment": "Trial B",
          "Measurement": -2.646227309843803
         },
         {
          "Experiment": "Trial B",
          "Measurement": -0.22468910739048797
         },
         {
          "Experiment": "Trial B",
          "Measurement": -3.1936368317564803
         },
         {
          "Experiment": "Trial B",
          "Measurement": -1.0808458263899985
         },
         {
          "Experiment": "Trial B",
          "Measurement": -0.9994176819570217
         },
         {
          "Experiment": "Trial B",
          "Measurement": -2.670620209076645
         },
         {
          "Experiment": "Trial B",
          "Measurement": -0.6075346999356712
         },
         {
          "Experiment": "Trial B",
          "Measurement": -2.250046514598953
         },
         {
          "Experiment": "Trial B",
          "Measurement": -1.711306370720143
         },
         {
          "Experiment": "Trial B",
          "Measurement": -1.7396781612287793
         },
         {
          "Experiment": "Trial B",
          "Measurement": -2.134308741470548
         },
         {
          "Experiment": "Trial B",
          "Measurement": -1.189191726840218
         },
         {
          "Experiment": "Trial B",
          "Measurement": -1.206511279447787
         },
         {
          "Experiment": "Trial B",
          "Measurement": -3.7485319732381805
         },
         {
          "Experiment": "Trial B",
          "Measurement": -0.6956597571218475
         },
         {
          "Experiment": "Trial B",
          "Measurement": -3.6624919880356743
         },
         {
          "Experiment": "Trial B",
          "Measurement": -0.9674537956583427
         },
         {
          "Experiment": "Trial B",
          "Measurement": -0.8732948631724167
         },
         {
          "Experiment": "Trial B",
          "Measurement": -3.0909664302151985
         },
         {
          "Experiment": "Trial B",
          "Measurement": -2.410814287954585
         },
         {
          "Experiment": "Trial B",
          "Measurement": -3.1057046684859357
         },
         {
          "Experiment": "Trial B",
          "Measurement": -2.2149210302887354
         },
         {
          "Experiment": "Trial B",
          "Measurement": -2.3080342841857413
         },
         {
          "Experiment": "Trial B",
          "Measurement": -1.22033946773066
         },
         {
          "Experiment": "Trial B",
          "Measurement": -0.6896912538803917
         },
         {
          "Experiment": "Trial B",
          "Measurement": -0.6043161892100439
         },
         {
          "Experiment": "Trial B",
          "Measurement": -2.562168026578302
         },
         {
          "Experiment": "Trial B",
          "Measurement": -2.2092218737445277
         },
         {
          "Experiment": "Trial B",
          "Measurement": -3.68343819222095
         },
         {
          "Experiment": "Trial B",
          "Measurement": -2.8058700664961886
         },
         {
          "Experiment": "Trial B",
          "Measurement": -1.0351483669025425
         },
         {
          "Experiment": "Trial B",
          "Measurement": -0.3844171764517683
         },
         {
          "Experiment": "Trial B",
          "Measurement": -3.234348871879922
         },
         {
          "Experiment": "Trial B",
          "Measurement": -2.5924642591528944
         },
         {
          "Experiment": "Trial B",
          "Measurement": -2.026405756958927
         },
         {
          "Experiment": "Trial B",
          "Measurement": -1.719838841180393
         },
         {
          "Experiment": "Trial B",
          "Measurement": -2.8096035199216463
         },
         {
          "Experiment": "Trial B",
          "Measurement": -1.5759389555359102
         },
         {
          "Experiment": "Trial B",
          "Measurement": -2.473839347070916
         },
         {
          "Experiment": "Trial B",
          "Measurement": -2.0144522708782793
         },
         {
          "Experiment": "Trial B",
          "Measurement": -1.4537157519963004
         },
         {
          "Experiment": "Trial B",
          "Measurement": -1.9935777301890623
         },
         {
          "Experiment": "Trial B",
          "Measurement": -2.4363858905265685
         },
         {
          "Experiment": "Trial B",
          "Measurement": -2.1096098039258306
         },
         {
          "Experiment": "Trial B",
          "Measurement": -2.088362959205335
         },
         {
          "Experiment": "Trial B",
          "Measurement": -2.3700110298821278
         },
         {
          "Experiment": "Trial B",
          "Measurement": -2.2587960626671024
         },
         {
          "Experiment": "Trial B",
          "Measurement": -0.40135282949528306
         },
         {
          "Experiment": "Trial B",
          "Measurement": -1.4390805520587613
         },
         {
          "Experiment": "Trial B",
          "Measurement": -2.2954803180291603
         },
         {
          "Experiment": "Trial B",
          "Measurement": -1.3030455954892644
         },
         {
          "Experiment": "Trial B",
          "Measurement": -2.33381948975601
         },
         {
          "Experiment": "Trial B",
          "Measurement": -0.8268753624133587
         },
         {
          "Experiment": "Trial B",
          "Measurement": -1.630357807801906
         },
         {
          "Experiment": "Trial B",
          "Measurement": -2.1073021440042288
         },
         {
          "Experiment": "Trial B",
          "Measurement": -1.5522830741897224
         },
         {
          "Experiment": "Trial B",
          "Measurement": -3.5708761520684993
         },
         {
          "Experiment": "Trial B",
          "Measurement": -3.1267674689098053
         },
         {
          "Experiment": "Trial B",
          "Measurement": -3.1939250063990556
         },
         {
          "Experiment": "Trial B",
          "Measurement": -1.8570569052362933
         },
         {
          "Experiment": "Trial B",
          "Measurement": -0.2674850005149081
         },
         {
          "Experiment": "Trial B",
          "Measurement": 0.23130014619263228
         },
         {
          "Experiment": "Trial B",
          "Measurement": -1.361948898559243
         },
         {
          "Experiment": "Trial B",
          "Measurement": -1.499155525055543
         },
         {
          "Experiment": "Trial B",
          "Measurement": -3.8010577341527387
         },
         {
          "Experiment": "Trial B",
          "Measurement": -2.542673799734022
         },
         {
          "Experiment": "Trial B",
          "Measurement": -2.787783751908239
         },
         {
          "Experiment": "Trial B",
          "Measurement": -2.620847598251116
         },
         {
          "Experiment": "Trial B",
          "Measurement": -2.1681438185847894
         },
         {
          "Experiment": "Trial B",
          "Measurement": -2.472090577697127
         },
         {
          "Experiment": "Trial B",
          "Measurement": -3.979299810375788
         },
         {
          "Experiment": "Trial B",
          "Measurement": -1.252089743882466
         },
         {
          "Experiment": "Trial B",
          "Measurement": -3.0727430257398067
         },
         {
          "Experiment": "Trial B",
          "Measurement": -1.7607531358888504
         },
         {
          "Experiment": "Trial B",
          "Measurement": 0.07408266974997346
         },
         {
          "Experiment": "Trial B",
          "Measurement": -2.9193845915864234
         },
         {
          "Experiment": "Trial B",
          "Measurement": -4.530287522746329
         },
         {
          "Experiment": "Trial B",
          "Measurement": -2.286004221880111
         },
         {
          "Experiment": "Trial B",
          "Measurement": -0.8990403650014289
         },
         {
          "Experiment": "Trial B",
          "Measurement": -0.041652545779406136
         },
         {
          "Experiment": "Trial B",
          "Measurement": -3.2295495944524166
         },
         {
          "Experiment": "Trial B",
          "Measurement": -1.5033007767634783
         },
         {
          "Experiment": "Trial B",
          "Measurement": -2.4653104567800534
         },
         {
          "Experiment": "Trial B",
          "Measurement": -2.1059483543041355
         },
         {
          "Experiment": "Trial B",
          "Measurement": 0.6443433470170348
         },
         {
          "Experiment": "Trial B",
          "Measurement": -3.502970328395153
         },
         {
          "Experiment": "Trial B",
          "Measurement": -1.7462603385054265
         },
         {
          "Experiment": "Trial B",
          "Measurement": -1.5323068282345669
         },
         {
          "Experiment": "Trial B",
          "Measurement": -0.9142136750606529
         },
         {
          "Experiment": "Trial B",
          "Measurement": -1.9020168465291045
         },
         {
          "Experiment": "Trial B",
          "Measurement": -1.6919494604958976
         },
         {
          "Experiment": "Trial B",
          "Measurement": -2.3916485674217913
         },
         {
          "Experiment": "Trial B",
          "Measurement": -1.7308730587548926
         },
         {
          "Experiment": "Trial B",
          "Measurement": -2.3431922754974104
         },
         {
          "Experiment": "Trial B",
          "Measurement": -1.378428110143949
         },
         {
          "Experiment": "Trial B",
          "Measurement": -2.369610336043634
         },
         {
          "Experiment": "Trial B",
          "Measurement": -1.6228996060978136
         },
         {
          "Experiment": "Trial B",
          "Measurement": -2.029262813684978
         },
         {
          "Experiment": "Trial B",
          "Measurement": -0.8739497492278319
         },
         {
          "Experiment": "Trial B",
          "Measurement": -2.051393723588486
         },
         {
          "Experiment": "Trial B",
          "Measurement": -3.7730324682068814
         },
         {
          "Experiment": "Trial B",
          "Measurement": -0.7380784992860083
         },
         {
          "Experiment": "Trial B",
          "Measurement": -2.905732300862619
         },
         {
          "Experiment": "Trial B",
          "Measurement": -2.6537663386488197
         },
         {
          "Experiment": "Trial B",
          "Measurement": -2.595661294043492
         },
         {
          "Experiment": "Trial B",
          "Measurement": -0.6255619068291827
         },
         {
          "Experiment": "Trial B",
          "Measurement": -4.135674213978696
         },
         {
          "Experiment": "Trial B",
          "Measurement": 1.1377485336599937
         },
         {
          "Experiment": "Trial B",
          "Measurement": -0.9439431909339482
         },
         {
          "Experiment": "Trial B",
          "Measurement": -1.7767610858708403
         },
         {
          "Experiment": "Trial B",
          "Measurement": -2.0548940006162866
         },
         {
          "Experiment": "Trial B",
          "Measurement": -1.7144459251423432
         },
         {
          "Experiment": "Trial B",
          "Measurement": -1.4788775716206617
         },
         {
          "Experiment": "Trial B",
          "Measurement": -1.354784414049943
         },
         {
          "Experiment": "Trial B",
          "Measurement": -1.4443955339965515
         },
         {
          "Experiment": "Trial B",
          "Measurement": -1.9104193187447511
         },
         {
          "Experiment": "Trial B",
          "Measurement": -2.197338420307326
         },
         {
          "Experiment": "Trial B",
          "Measurement": -2.1512732836535116
         },
         {
          "Experiment": "Trial B",
          "Measurement": -2.194908280352681
         },
         {
          "Experiment": "Trial B",
          "Measurement": -0.8662299031329355
         },
         {
          "Experiment": "Trial B",
          "Measurement": -1.4064432777191382
         },
         {
          "Experiment": "Trial B",
          "Measurement": -4.940388634664281
         },
         {
          "Experiment": "Trial B",
          "Measurement": -1.3440992234702391
         },
         {
          "Experiment": "Trial B",
          "Measurement": -1.805263805281225
         },
         {
          "Experiment": "Trial B",
          "Measurement": -2.018708756445897
         },
         {
          "Experiment": "Trial B",
          "Measurement": -2.388518453088886
         },
         {
          "Experiment": "Trial B",
          "Measurement": -0.8758872800139865
         },
         {
          "Experiment": "Trial B",
          "Measurement": -1.0524735378771422
         },
         {
          "Experiment": "Trial B",
          "Measurement": -2.772877667823609
         },
         {
          "Experiment": "Trial B",
          "Measurement": -1.592947712875465
         },
         {
          "Experiment": "Trial B",
          "Measurement": -2.971656734541286
         },
         {
          "Experiment": "Trial B",
          "Measurement": -3.3796181647889307
         },
         {
          "Experiment": "Trial B",
          "Measurement": -2.626717224589965
         },
         {
          "Experiment": "Trial B",
          "Measurement": -1.1376065276172413
         },
         {
          "Experiment": "Trial B",
          "Measurement": -1.0468749546239133
         },
         {
          "Experiment": "Trial B",
          "Measurement": -1.486914579902707
         },
         {
          "Experiment": "Trial B",
          "Measurement": -1.274904213152003
         },
         {
          "Experiment": "Trial B",
          "Measurement": -1.4838217128850415
         },
         {
          "Experiment": "Trial B",
          "Measurement": -2.6414815952229524
         },
         {
          "Experiment": "Trial B",
          "Measurement": -1.5680774553260592
         },
         {
          "Experiment": "Trial B",
          "Measurement": -1.1995904747723176
         },
         {
          "Experiment": "Trial B",
          "Measurement": -1.2457086701864257
         },
         {
          "Experiment": "Trial B",
          "Measurement": -0.8110866285253571
         },
         {
          "Experiment": "Trial B",
          "Measurement": -1.2916961527989361
         },
         {
          "Experiment": "Trial B",
          "Measurement": -1.648551792458417
         },
         {
          "Experiment": "Trial B",
          "Measurement": -0.9298497616835726
         },
         {
          "Experiment": "Trial B",
          "Measurement": -2.0265212592490602
         },
         {
          "Experiment": "Trial B",
          "Measurement": -2.881874651227718
         },
         {
          "Experiment": "Trial B",
          "Measurement": -2.163066963943764
         },
         {
          "Experiment": "Trial B",
          "Measurement": -2.744902644806449
         },
         {
          "Experiment": "Trial C",
          "Measurement": 1.649643450051237
         },
         {
          "Experiment": "Trial C",
          "Measurement": 2.710962658568964
         },
         {
          "Experiment": "Trial C",
          "Measurement": 1.4151601580000774
         },
         {
          "Experiment": "Trial C",
          "Measurement": 2.3840769407219193
         },
         {
          "Experiment": "Trial C",
          "Measurement": -0.7872293339075713
         },
         {
          "Experiment": "Trial C",
          "Measurement": 3.4265874147458772
         },
         {
          "Experiment": "Trial C",
          "Measurement": 3.0024109507244483
         },
         {
          "Experiment": "Trial C",
          "Measurement": 1.3658227378636187
         },
         {
          "Experiment": "Trial C",
          "Measurement": 4.31849133686481
         },
         {
          "Experiment": "Trial C",
          "Measurement": 4.875140275253116
         },
         {
          "Experiment": "Trial C",
          "Measurement": -0.21511972873794827
         },
         {
          "Experiment": "Trial C",
          "Measurement": 1.4745504428675715
         },
         {
          "Experiment": "Trial C",
          "Measurement": 1.4617153004254035
         },
         {
          "Experiment": "Trial C",
          "Measurement": 1.1201937977822707
         },
         {
          "Experiment": "Trial C",
          "Measurement": 4.658949683863497
         },
         {
          "Experiment": "Trial C",
          "Measurement": 2.612347722454393
         },
         {
          "Experiment": "Trial C",
          "Measurement": 2.4709703173787787
         },
         {
          "Experiment": "Trial C",
          "Measurement": -1.007724728813507
         },
         {
          "Experiment": "Trial C",
          "Measurement": 4.2708360604184525
         },
         {
          "Experiment": "Trial C",
          "Measurement": 0.5214832102930549
         },
         {
          "Experiment": "Trial C",
          "Measurement": 3.1198652605326567
         },
         {
          "Experiment": "Trial C",
          "Measurement": 3.5547538759163833
         },
         {
          "Experiment": "Trial C",
          "Measurement": 5.7213171916773025
         },
         {
          "Experiment": "Trial C",
          "Measurement": 0.38235920176177585
         },
         {
          "Experiment": "Trial C",
          "Measurement": -3.0390243116416507
         },
         {
          "Experiment": "Trial C",
          "Measurement": 3.36769908950739
         },
         {
          "Experiment": "Trial C",
          "Measurement": 6.601022363021707
         },
         {
          "Experiment": "Trial C",
          "Measurement": 5.477892705878874
         },
         {
          "Experiment": "Trial C",
          "Measurement": 3.4193188305492517
         },
         {
          "Experiment": "Trial C",
          "Measurement": 2.0167276287359055
         },
         {
          "Experiment": "Trial C",
          "Measurement": 4.614245193274621
         },
         {
          "Experiment": "Trial C",
          "Measurement": 1.0529076005910627
         },
         {
          "Experiment": "Trial C",
          "Measurement": 3.9527155387124386
         },
         {
          "Experiment": "Trial C",
          "Measurement": 4.010940318333254
         },
         {
          "Experiment": "Trial C",
          "Measurement": 5.12041981499776
         },
         {
          "Experiment": "Trial C",
          "Measurement": 8.519320077822155
         },
         {
          "Experiment": "Trial C",
          "Measurement": 3.784831934357534
         },
         {
          "Experiment": "Trial C",
          "Measurement": 1.9820727485850025
         },
         {
          "Experiment": "Trial C",
          "Measurement": 2.948851375616011
         },
         {
          "Experiment": "Trial C",
          "Measurement": -0.5381518097782365
         },
         {
          "Experiment": "Trial C",
          "Measurement": 1.6105737378218836
         },
         {
          "Experiment": "Trial C",
          "Measurement": 2.181435123773792
         },
         {
          "Experiment": "Trial C",
          "Measurement": 1.951823204130815
         },
         {
          "Experiment": "Trial C",
          "Measurement": 3.304709744067444
         },
         {
          "Experiment": "Trial C",
          "Measurement": 1.3551601352355989
         },
         {
          "Experiment": "Trial C",
          "Measurement": 5.242061334648943
         },
         {
          "Experiment": "Trial C",
          "Measurement": 3.000414129836394
         },
         {
          "Experiment": "Trial C",
          "Measurement": 2.981399357722771
         },
         {
          "Experiment": "Trial C",
          "Measurement": 2.3442105669741644
         },
         {
          "Experiment": "Trial C",
          "Measurement": 3.3103813677179583
         },
         {
          "Experiment": "Trial C",
          "Measurement": 4.650196529335269
         },
         {
          "Experiment": "Trial C",
          "Measurement": 1.2657395685781994
         },
         {
          "Experiment": "Trial C",
          "Measurement": 1.6837670218494867
         },
         {
          "Experiment": "Trial C",
          "Measurement": 2.3925479424466705
         },
         {
          "Experiment": "Trial C",
          "Measurement": 0.3082581530535702
         },
         {
          "Experiment": "Trial C",
          "Measurement": 1.3614842805570044
         },
         {
          "Experiment": "Trial C",
          "Measurement": 2.047558252910682
         },
         {
          "Experiment": "Trial C",
          "Measurement": 4.748778361425455
         },
         {
          "Experiment": "Trial C",
          "Measurement": 3.52512265800385
         },
         {
          "Experiment": "Trial C",
          "Measurement": 3.3871798227350887
         },
         {
          "Experiment": "Trial C",
          "Measurement": 4.701795924335944
         },
         {
          "Experiment": "Trial C",
          "Measurement": 2.725256423201207
         },
         {
          "Experiment": "Trial C",
          "Measurement": 3.7809296998577793
         },
         {
          "Experiment": "Trial C",
          "Measurement": 2.7935564941350077
         },
         {
          "Experiment": "Trial C",
          "Measurement": 3.530724698799257
         },
         {
          "Experiment": "Trial C",
          "Measurement": 1.8344826847768358
         },
         {
          "Experiment": "Trial C",
          "Measurement": -1.8776343165528582
         },
         {
          "Experiment": "Trial C",
          "Measurement": 2.7314416756273916
         },
         {
          "Experiment": "Trial C",
          "Measurement": 5.84549627219988
         },
         {
          "Experiment": "Trial C",
          "Measurement": 4.852430804483185
         },
         {
          "Experiment": "Trial C",
          "Measurement": 4.930794969182341
         },
         {
          "Experiment": "Trial C",
          "Measurement": 5.472261443612435
         },
         {
          "Experiment": "Trial C",
          "Measurement": 3.177315181922875
         },
         {
          "Experiment": "Trial C",
          "Measurement": 3.394631414811191
         },
         {
          "Experiment": "Trial C",
          "Measurement": 1.7646962091312997
         },
         {
          "Experiment": "Trial C",
          "Measurement": 2.3678542879459004
         },
         {
          "Experiment": "Trial C",
          "Measurement": 4.231542299542284
         },
         {
          "Experiment": "Trial C",
          "Measurement": 5.407768874337632
         },
         {
          "Experiment": "Trial C",
          "Measurement": 2.721107448638001
         },
         {
          "Experiment": "Trial C",
          "Measurement": 2.0996214702971767
         },
         {
          "Experiment": "Trial C",
          "Measurement": 3.001055917713195
         },
         {
          "Experiment": "Trial C",
          "Measurement": 4.202413497858229
         },
         {
          "Experiment": "Trial C",
          "Measurement": 0.11229036773291634
         },
         {
          "Experiment": "Trial C",
          "Measurement": -1.5923619062744763
         },
         {
          "Experiment": "Trial C",
          "Measurement": 1.898926301016833
         },
         {
          "Experiment": "Trial C",
          "Measurement": 0.5585751481716827
         },
         {
          "Experiment": "Trial C",
          "Measurement": 1.9837196047053782
         },
         {
          "Experiment": "Trial C",
          "Measurement": 2.704439362365057
         },
         {
          "Experiment": "Trial C",
          "Measurement": 2.0935031819539733
         },
         {
          "Experiment": "Trial C",
          "Measurement": 5.904935068941491
         },
         {
          "Experiment": "Trial C",
          "Measurement": 3.65348952920464
         },
         {
          "Experiment": "Trial C",
          "Measurement": 3.6009487192216567
         },
         {
          "Experiment": "Trial C",
          "Measurement": 4.244414288086804
         },
         {
          "Experiment": "Trial C",
          "Measurement": 0.7223337644384618
         },
         {
          "Experiment": "Trial C",
          "Measurement": 5.078223574840537
         },
         {
          "Experiment": "Trial C",
          "Measurement": 2.84847142692908
         },
         {
          "Experiment": "Trial C",
          "Measurement": 4.340961234482425
         },
         {
          "Experiment": "Trial C",
          "Measurement": 0.8562855339196891
         },
         {
          "Experiment": "Trial C",
          "Measurement": -0.10751753203212866
         },
         {
          "Experiment": "Trial C",
          "Measurement": 4.6357793160500576
         },
         {
          "Experiment": "Trial C",
          "Measurement": 3.7528190521950333
         },
         {
          "Experiment": "Trial C",
          "Measurement": 1.1958968912849792
         },
         {
          "Experiment": "Trial C",
          "Measurement": 1.2606738374506112
         },
         {
          "Experiment": "Trial C",
          "Measurement": 5.250869568829539
         },
         {
          "Experiment": "Trial C",
          "Measurement": 0.6211762142653443
         },
         {
          "Experiment": "Trial C",
          "Measurement": 6.285345906511926
         },
         {
          "Experiment": "Trial C",
          "Measurement": 1.1987585307042625
         },
         {
          "Experiment": "Trial C",
          "Measurement": 4.276783851216766
         },
         {
          "Experiment": "Trial C",
          "Measurement": 2.3427630485020305
         },
         {
          "Experiment": "Trial C",
          "Measurement": 4.206374862164687
         },
         {
          "Experiment": "Trial C",
          "Measurement": 1.9117719957716148
         },
         {
          "Experiment": "Trial C",
          "Measurement": 2.6744141878554117
         },
         {
          "Experiment": "Trial C",
          "Measurement": 3.0818383507914424
         },
         {
          "Experiment": "Trial C",
          "Measurement": 0.9956250884370546
         },
         {
          "Experiment": "Trial C",
          "Measurement": 4.4816486908402515
         },
         {
          "Experiment": "Trial C",
          "Measurement": 1.9735728670568295
         },
         {
          "Experiment": "Trial C",
          "Measurement": 2.5428001693199627
         },
         {
          "Experiment": "Trial C",
          "Measurement": 1.0113012507829755
         },
         {
          "Experiment": "Trial C",
          "Measurement": -2.124667317590621
         },
         {
          "Experiment": "Trial C",
          "Measurement": 2.617944474799662
         },
         {
          "Experiment": "Trial C",
          "Measurement": 7.825230843225832
         },
         {
          "Experiment": "Trial C",
          "Measurement": 4.569208575796048
         },
         {
          "Experiment": "Trial C",
          "Measurement": 2.9614792405312107
         },
         {
          "Experiment": "Trial C",
          "Measurement": 2.4742183415834647
         },
         {
          "Experiment": "Trial C",
          "Measurement": 3.044931785624093
         },
         {
          "Experiment": "Trial C",
          "Measurement": 4.09423823035042
         },
         {
          "Experiment": "Trial C",
          "Measurement": 0.6383743693823103
         },
         {
          "Experiment": "Trial C",
          "Measurement": 5.228643389337744
         },
         {
          "Experiment": "Trial C",
          "Measurement": 4.430762630882488
         },
         {
          "Experiment": "Trial C",
          "Measurement": 4.436371451415869
         },
         {
          "Experiment": "Trial C",
          "Measurement": 3.8769514776194547
         },
         {
          "Experiment": "Trial C",
          "Measurement": 3.03923331538798
         },
         {
          "Experiment": "Trial C",
          "Measurement": 4.34572247193364
         },
         {
          "Experiment": "Trial C",
          "Measurement": 4.1836282674827565
         },
         {
          "Experiment": "Trial C",
          "Measurement": 2.2919185781179525
         },
         {
          "Experiment": "Trial C",
          "Measurement": 1.852796454206198
         },
         {
          "Experiment": "Trial C",
          "Measurement": 3.203712590523973
         },
         {
          "Experiment": "Trial C",
          "Measurement": 6.098040302990375
         },
         {
          "Experiment": "Trial C",
          "Measurement": 0.5217858486921982
         },
         {
          "Experiment": "Trial C",
          "Measurement": 0.06494946849511996
         },
         {
          "Experiment": "Trial C",
          "Measurement": 3.3295216824730334
         },
         {
          "Experiment": "Trial C",
          "Measurement": 3.101775403712036
         },
         {
          "Experiment": "Trial C",
          "Measurement": 3.3466833287408164
         },
         {
          "Experiment": "Trial C",
          "Measurement": 3.4879063958170007
         },
         {
          "Experiment": "Trial C",
          "Measurement": 2.5535954907303897
         },
         {
          "Experiment": "Trial C",
          "Measurement": 5.979726877204165
         },
         {
          "Experiment": "Trial C",
          "Measurement": -0.2018079569530311
         },
         {
          "Experiment": "Trial C",
          "Measurement": 1.343005950439508
         },
         {
          "Experiment": "Trial C",
          "Measurement": 2.793490479701905
         },
         {
          "Experiment": "Trial C",
          "Measurement": -0.2863776223083345
         },
         {
          "Experiment": "Trial C",
          "Measurement": 2.6482911911358578
         },
         {
          "Experiment": "Trial C",
          "Measurement": 6.322940331456037
         },
         {
          "Experiment": "Trial C",
          "Measurement": 3.0417729765919237
         },
         {
          "Experiment": "Trial C",
          "Measurement": 3.461401811437367
         },
         {
          "Experiment": "Trial C",
          "Measurement": 0.4796704696548395
         },
         {
          "Experiment": "Trial C",
          "Measurement": 1.767277183921045
         },
         {
          "Experiment": "Trial C",
          "Measurement": 2.249607239352126
         },
         {
          "Experiment": "Trial C",
          "Measurement": 2.364569806487532
         },
         {
          "Experiment": "Trial C",
          "Measurement": 5.563287590007537
         },
         {
          "Experiment": "Trial C",
          "Measurement": 4.115382121450249
         },
         {
          "Experiment": "Trial C",
          "Measurement": 0.777084086125936
         },
         {
          "Experiment": "Trial C",
          "Measurement": 3.49300955686401
         },
         {
          "Experiment": "Trial C",
          "Measurement": 3.99644349699357
         },
         {
          "Experiment": "Trial C",
          "Measurement": 5.2802980770425325
         },
         {
          "Experiment": "Trial C",
          "Measurement": 6.1610813731367475
         },
         {
          "Experiment": "Trial C",
          "Measurement": 0.9698116163442627
         },
         {
          "Experiment": "Trial C",
          "Measurement": 1.3782849775793236
         },
         {
          "Experiment": "Trial C",
          "Measurement": 0.48484428217076747
         },
         {
          "Experiment": "Trial C",
          "Measurement": 2.5319602817860374
         },
         {
          "Experiment": "Trial C",
          "Measurement": 3.932716748892669
         },
         {
          "Experiment": "Trial C",
          "Measurement": 4.974669033178204
         },
         {
          "Experiment": "Trial C",
          "Measurement": 2.8480979527149546
         },
         {
          "Experiment": "Trial C",
          "Measurement": 2.360304953490312
         },
         {
          "Experiment": "Trial C",
          "Measurement": 3.303515984497481
         },
         {
          "Experiment": "Trial C",
          "Measurement": 1.329714196739954
         },
         {
          "Experiment": "Trial C",
          "Measurement": 7.179077443389547
         },
         {
          "Experiment": "Trial C",
          "Measurement": -0.2153220542361174
         },
         {
          "Experiment": "Trial C",
          "Measurement": 3.3694811577914487
         },
         {
          "Experiment": "Trial C",
          "Measurement": 7.047212438459279
         },
         {
          "Experiment": "Trial C",
          "Measurement": 3.0135996891199954
         },
         {
          "Experiment": "Trial C",
          "Measurement": 2.619921929997011
         },
         {
          "Experiment": "Trial C",
          "Measurement": 2.2851091543791457
         },
         {
          "Experiment": "Trial C",
          "Measurement": 2.6392166364751843
         },
         {
          "Experiment": "Trial C",
          "Measurement": 5.745696949353061
         },
         {
          "Experiment": "Trial C",
          "Measurement": -1.4237238226590136
         },
         {
          "Experiment": "Trial C",
          "Measurement": 6.066867402592651
         },
         {
          "Experiment": "Trial C",
          "Measurement": 0.15208569509970982
         },
         {
          "Experiment": "Trial C",
          "Measurement": 2.4666953415311705
         },
         {
          "Experiment": "Trial C",
          "Measurement": 2.1415111594026763
         },
         {
          "Experiment": "Trial C",
          "Measurement": 4.177106539541439
         },
         {
          "Experiment": "Trial C",
          "Measurement": -0.19624870376749515
         },
         {
          "Experiment": "Trial C",
          "Measurement": 3.9243453321638855
         },
         {
          "Experiment": "Trial C",
          "Measurement": 7.048619246573705
         },
         {
          "Experiment": "Trial C",
          "Measurement": 0.2736519908143791
         },
         {
          "Experiment": "Trial C",
          "Measurement": 3.3794123352207914
         },
         {
          "Experiment": "Trial C",
          "Measurement": 1.6760356444067819
         },
         {
          "Experiment": "Trial C",
          "Measurement": 3.8517744123860718
         },
         {
          "Experiment": "Trial C",
          "Measurement": 3.038295554831504
         },
         {
          "Experiment": "Trial C",
          "Measurement": 1.7170261819113808
         },
         {
          "Experiment": "Trial C",
          "Measurement": 3.975744569742148
         },
         {
          "Experiment": "Trial C",
          "Measurement": 6.608696219573487
         },
         {
          "Experiment": "Trial C",
          "Measurement": 2.6181924165454027
         },
         {
          "Experiment": "Trial C",
          "Measurement": 4.439515884296364
         },
         {
          "Experiment": "Trial C",
          "Measurement": 0.4134540842576726
         },
         {
          "Experiment": "Trial C",
          "Measurement": 1.0871272463639825
         },
         {
          "Experiment": "Trial C",
          "Measurement": 3.9448125557607545
         },
         {
          "Experiment": "Trial C",
          "Measurement": 5.96823205707193
         },
         {
          "Experiment": "Trial C",
          "Measurement": 3.7112266975713197
         },
         {
          "Experiment": "Trial C",
          "Measurement": 2.3738839389536914
         },
         {
          "Experiment": "Trial C",
          "Measurement": 2.9985828108467083
         },
         {
          "Experiment": "Trial C",
          "Measurement": 0.499184532060565
         },
         {
          "Experiment": "Trial C",
          "Measurement": 4.209030652710734
         },
         {
          "Experiment": "Trial C",
          "Measurement": 4.764666124646818
         },
         {
          "Experiment": "Trial C",
          "Measurement": 2.0958193343338394
         },
         {
          "Experiment": "Trial C",
          "Measurement": 2.0599157044809973
         },
         {
          "Experiment": "Trial C",
          "Measurement": 3.531756459304097
         },
         {
          "Experiment": "Trial C",
          "Measurement": 2.126560527918809
         },
         {
          "Experiment": "Trial C",
          "Measurement": 2.867734770748355
         },
         {
          "Experiment": "Trial C",
          "Measurement": 7.199443578333031
         },
         {
          "Experiment": "Trial C",
          "Measurement": 2.5059485985080068
         },
         {
          "Experiment": "Trial C",
          "Measurement": 2.2833196959575557
         },
         {
          "Experiment": "Trial C",
          "Measurement": 1.7049163887296817
         },
         {
          "Experiment": "Trial C",
          "Measurement": 4.4883839429998735
         },
         {
          "Experiment": "Trial C",
          "Measurement": 2.637551653563794
         },
         {
          "Experiment": "Trial C",
          "Measurement": 1.701253923357148
         },
         {
          "Experiment": "Trial C",
          "Measurement": 5.642608064546025
         },
         {
          "Experiment": "Trial C",
          "Measurement": 5.839206009027274
         },
         {
          "Experiment": "Trial C",
          "Measurement": 1.7991528685225897
         },
         {
          "Experiment": "Trial C",
          "Measurement": -0.7330799027212325
         },
         {
          "Experiment": "Trial C",
          "Measurement": 5.015027379673844
         },
         {
          "Experiment": "Trial C",
          "Measurement": 1.630740348479992
         },
         {
          "Experiment": "Trial C",
          "Measurement": 4.581251198325537
         },
         {
          "Experiment": "Trial C",
          "Measurement": -0.940207635423671
         },
         {
          "Experiment": "Trial C",
          "Measurement": 4.785194676598619
         },
         {
          "Experiment": "Trial C",
          "Measurement": 0.5776561414384376
         },
         {
          "Experiment": "Trial C",
          "Measurement": 4.461528238133049
         },
         {
          "Experiment": "Trial C",
          "Measurement": 3.028546135672868
         },
         {
          "Experiment": "Trial C",
          "Measurement": 1.0921211612067103
         },
         {
          "Experiment": "Trial C",
          "Measurement": 2.185927374146439
         },
         {
          "Experiment": "Trial C",
          "Measurement": 4.372636913913402
         },
         {
          "Experiment": "Trial C",
          "Measurement": 3.2117889062304683
         },
         {
          "Experiment": "Trial C",
          "Measurement": 4.168825960944968
         },
         {
          "Experiment": "Trial C",
          "Measurement": 6.952881169030971
         },
         {
          "Experiment": "Trial C",
          "Measurement": -0.12848322342210272
         },
         {
          "Experiment": "Trial C",
          "Measurement": 6.234425149937248
         },
         {
          "Experiment": "Trial C",
          "Measurement": 3.2087118750464256
         },
         {
          "Experiment": "Trial C",
          "Measurement": 1.2024319033537436
         },
         {
          "Experiment": "Trial C",
          "Measurement": 0.3393727485220204
         },
         {
          "Experiment": "Trial C",
          "Measurement": 2.621759218445933
         },
         {
          "Experiment": "Trial C",
          "Measurement": 4.843300223848919
         },
         {
          "Experiment": "Trial C",
          "Measurement": 2.7449017592449314
         },
         {
          "Experiment": "Trial C",
          "Measurement": 6.022309860494695
         },
         {
          "Experiment": "Trial C",
          "Measurement": 0.09764861989688223
         },
         {
          "Experiment": "Trial C",
          "Measurement": 2.9758221043078907
         },
         {
          "Experiment": "Trial C",
          "Measurement": 0.4952131111737619
         },
         {
          "Experiment": "Trial C",
          "Measurement": 3.7272637652499356
         },
         {
          "Experiment": "Trial C",
          "Measurement": 4.773774780194601
         },
         {
          "Experiment": "Trial C",
          "Measurement": 2.1584764126378935
         },
         {
          "Experiment": "Trial C",
          "Measurement": -2.2084277132542685
         },
         {
          "Experiment": "Trial C",
          "Measurement": 3.3978962935929893
         },
         {
          "Experiment": "Trial C",
          "Measurement": 3.8734771034670192
         },
         {
          "Experiment": "Trial C",
          "Measurement": 3.8085895099233955
         },
         {
          "Experiment": "Trial C",
          "Measurement": 5.471564383644308
         },
         {
          "Experiment": "Trial C",
          "Measurement": 0.8578926407019023
         },
         {
          "Experiment": "Trial C",
          "Measurement": 4.360432210900899
         },
         {
          "Experiment": "Trial C",
          "Measurement": 5.385015024955949
         },
         {
          "Experiment": "Trial C",
          "Measurement": -0.5571751680130337
         },
         {
          "Experiment": "Trial C",
          "Measurement": 3.6393036518379542
         },
         {
          "Experiment": "Trial C",
          "Measurement": 1.991640337984657
         },
         {
          "Experiment": "Trial C",
          "Measurement": 2.8369546537967083
         },
         {
          "Experiment": "Trial C",
          "Measurement": 3.6953529670766727
         },
         {
          "Experiment": "Trial C",
          "Measurement": 2.0255428717728954
         },
         {
          "Experiment": "Trial C",
          "Measurement": 1.6485838416767764
         },
         {
          "Experiment": "Trial C",
          "Measurement": 3.068304834976049
         },
         {
          "Experiment": "Trial C",
          "Measurement": 0.8255081222743947
         },
         {
          "Experiment": "Trial C",
          "Measurement": 0.8283497422296291
         },
         {
          "Experiment": "Trial C",
          "Measurement": 4.358746565913007
         },
         {
          "Experiment": "Trial C",
          "Measurement": 0.7024119296826878
         },
         {
          "Experiment": "Trial C",
          "Measurement": 4.332625001818424
         },
         {
          "Experiment": "Trial C",
          "Measurement": 3.925182585707902
         },
         {
          "Experiment": "Trial C",
          "Measurement": -0.4516134575811934
         },
         {
          "Experiment": "Trial C",
          "Measurement": 1.6448706953286898
         },
         {
          "Experiment": "Trial C",
          "Measurement": 5.388218806094745
         },
         {
          "Experiment": "Trial C",
          "Measurement": 1.0376689377206367
         },
         {
          "Experiment": "Trial C",
          "Measurement": 2.071191475381225
         },
         {
          "Experiment": "Trial C",
          "Measurement": 3.924121786503793
         },
         {
          "Experiment": "Trial C",
          "Measurement": 4.566781018565191
         },
         {
          "Experiment": "Trial C",
          "Measurement": 2.496922227911009
         },
         {
          "Experiment": "Trial C",
          "Measurement": 1.8049796106167169
         },
         {
          "Experiment": "Trial C",
          "Measurement": 5.844739723397016
         },
         {
          "Experiment": "Trial C",
          "Measurement": 6.477799327595157
         },
         {
          "Experiment": "Trial C",
          "Measurement": 4.957716101563591
         },
         {
          "Experiment": "Trial C",
          "Measurement": 3.170636285130048
         },
         {
          "Experiment": "Trial C",
          "Measurement": 1.3834685567181473
         },
         {
          "Experiment": "Trial C",
          "Measurement": 1.3391111868868695
         },
         {
          "Experiment": "Trial C",
          "Measurement": 4.045028210531515
         },
         {
          "Experiment": "Trial C",
          "Measurement": 3.8367964417773672
         },
         {
          "Experiment": "Trial C",
          "Measurement": 5.803197185892859
         },
         {
          "Experiment": "Trial C",
          "Measurement": 4.300900185072278
         },
         {
          "Experiment": "Trial C",
          "Measurement": -0.006160603519635988
         },
         {
          "Experiment": "Trial C",
          "Measurement": 5.103895235445837
         },
         {
          "Experiment": "Trial C",
          "Measurement": 1.0038787453711742
         },
         {
          "Experiment": "Trial C",
          "Measurement": 2.232057456095297
         },
         {
          "Experiment": "Trial C",
          "Measurement": 3.5004004125033887
         },
         {
          "Experiment": "Trial C",
          "Measurement": 6.991334979567929
         },
         {
          "Experiment": "Trial C",
          "Measurement": 9.219837112010723
         },
         {
          "Experiment": "Trial C",
          "Measurement": 4.2134461182723655
         },
         {
          "Experiment": "Trial C",
          "Measurement": 2.633606762559224
         },
         {
          "Experiment": "Trial C",
          "Measurement": 4.069011296961101
         },
         {
          "Experiment": "Trial C",
          "Measurement": 4.775310851747673
         },
         {
          "Experiment": "Trial C",
          "Measurement": 2.3586647488856167
         },
         {
          "Experiment": "Trial C",
          "Measurement": 6.590422711824644
         },
         {
          "Experiment": "Trial C",
          "Measurement": 3.4601415183828044
         },
         {
          "Experiment": "Trial C",
          "Measurement": 3.9954861781827886
         },
         {
          "Experiment": "Trial C",
          "Measurement": 4.3318485041089225
         },
         {
          "Experiment": "Trial C",
          "Measurement": 3.8431732212289114
         },
         {
          "Experiment": "Trial C",
          "Measurement": 4.677881000939225
         },
         {
          "Experiment": "Trial C",
          "Measurement": 1.7654936269061536
         },
         {
          "Experiment": "Trial C",
          "Measurement": 1.883396492107939
         },
         {
          "Experiment": "Trial C",
          "Measurement": 0.7996915340566102
         },
         {
          "Experiment": "Trial C",
          "Measurement": 3.879002461240453
         },
         {
          "Experiment": "Trial C",
          "Measurement": 4.557873007024228
         },
         {
          "Experiment": "Trial C",
          "Measurement": 3.9155457323037717
         },
         {
          "Experiment": "Trial C",
          "Measurement": 6.348984866695075
         },
         {
          "Experiment": "Trial C",
          "Measurement": 2.988807962341907
         },
         {
          "Experiment": "Trial C",
          "Measurement": 4.337483311185025
         },
         {
          "Experiment": "Trial C",
          "Measurement": 0.8165982477213714
         },
         {
          "Experiment": "Trial C",
          "Measurement": 2.225800595051198
         },
         {
          "Experiment": "Trial C",
          "Measurement": 4.391075515131555
         },
         {
          "Experiment": "Trial C",
          "Measurement": 4.698204221486288
         },
         {
          "Experiment": "Trial C",
          "Measurement": 2.4120661046716356
         },
         {
          "Experiment": "Trial C",
          "Measurement": 2.8568014962838664
         },
         {
          "Experiment": "Trial C",
          "Measurement": -0.035747493361618865
         },
         {
          "Experiment": "Trial C",
          "Measurement": 2.2859415983867812
         },
         {
          "Experiment": "Trial C",
          "Measurement": 4.780766327039572
         },
         {
          "Experiment": "Trial C",
          "Measurement": 4.1504100322131325
         },
         {
          "Experiment": "Trial C",
          "Measurement": 4.001331442762419
         },
         {
          "Experiment": "Trial C",
          "Measurement": 3.09954737436192
         },
         {
          "Experiment": "Trial C",
          "Measurement": 3.014126317256353
         },
         {
          "Experiment": "Trial C",
          "Measurement": 1.6793577210531059
         },
         {
          "Experiment": "Trial C",
          "Measurement": 4.3976568404050695
         },
         {
          "Experiment": "Trial C",
          "Measurement": 3.8419458887787794
         },
         {
          "Experiment": "Trial C",
          "Measurement": 3.9840376959855988
         },
         {
          "Experiment": "Trial C",
          "Measurement": 1.9479303146648392
         },
         {
          "Experiment": "Trial C",
          "Measurement": -1.3066858397424888
         },
         {
          "Experiment": "Trial C",
          "Measurement": 5.194305423507391
         },
         {
          "Experiment": "Trial C",
          "Measurement": 2.042325087983192
         },
         {
          "Experiment": "Trial C",
          "Measurement": 1.2744484719137588
         },
         {
          "Experiment": "Trial C",
          "Measurement": 4.386957823827988
         },
         {
          "Experiment": "Trial C",
          "Measurement": 2.215974720161741
         },
         {
          "Experiment": "Trial C",
          "Measurement": 5.119872768093243
         },
         {
          "Experiment": "Trial C",
          "Measurement": 4.234011899153395
         },
         {
          "Experiment": "Trial C",
          "Measurement": 4.367138646400955
         },
         {
          "Experiment": "Trial C",
          "Measurement": 0.26808857759893145
         },
         {
          "Experiment": "Trial C",
          "Measurement": 5.423887970772801
         },
         {
          "Experiment": "Trial C",
          "Measurement": 3.522501062467712
         },
         {
          "Experiment": "Trial C",
          "Measurement": 2.261445721507594
         },
         {
          "Experiment": "Trial C",
          "Measurement": 3.286776934684502
         },
         {
          "Experiment": "Trial C",
          "Measurement": -0.5524704657966399
         },
         {
          "Experiment": "Trial C",
          "Measurement": 3.817305622961342
         },
         {
          "Experiment": "Trial C",
          "Measurement": 0.9412569836358569
         },
         {
          "Experiment": "Trial C",
          "Measurement": 0.2946594283129311
         },
         {
          "Experiment": "Trial C",
          "Measurement": -0.04471837243578225
         },
         {
          "Experiment": "Trial C",
          "Measurement": 5.2253767499798505
         },
         {
          "Experiment": "Trial C",
          "Measurement": 1.7414732126144226
         },
         {
          "Experiment": "Trial C",
          "Measurement": 6.067455419832998
         },
         {
          "Experiment": "Trial C",
          "Measurement": 1.9283970738954044
         },
         {
          "Experiment": "Trial C",
          "Measurement": -0.41471591518589346
         },
         {
          "Experiment": "Trial C",
          "Measurement": 0.7669511201026817
         },
         {
          "Experiment": "Trial C",
          "Measurement": 5.471623240013877
         },
         {
          "Experiment": "Trial C",
          "Measurement": 2.688203644126665
         },
         {
          "Experiment": "Trial C",
          "Measurement": 1.9034254070187981
         },
         {
          "Experiment": "Trial C",
          "Measurement": 3.320036451705575
         },
         {
          "Experiment": "Trial C",
          "Measurement": 4.00356547233509
         },
         {
          "Experiment": "Trial C",
          "Measurement": 5.234797631804922
         },
         {
          "Experiment": "Trial C",
          "Measurement": 5.896998459785852
         },
         {
          "Experiment": "Trial C",
          "Measurement": 2.2804627084218287
         },
         {
          "Experiment": "Trial C",
          "Measurement": 0.34790462783592346
         },
         {
          "Experiment": "Trial C",
          "Measurement": 2.173069677753448
         },
         {
          "Experiment": "Trial C",
          "Measurement": 3.5205610131657723
         },
         {
          "Experiment": "Trial C",
          "Measurement": 1.0724821475787782
         },
         {
          "Experiment": "Trial C",
          "Measurement": 1.0856981702099142
         },
         {
          "Experiment": "Trial C",
          "Measurement": 3.6875757630997708
         },
         {
          "Experiment": "Trial C",
          "Measurement": 2.9026952968590978
         },
         {
          "Experiment": "Trial C",
          "Measurement": 3.065593990823173
         },
         {
          "Experiment": "Trial C",
          "Measurement": 1.483009330599861
         },
         {
          "Experiment": "Trial C",
          "Measurement": 2.5391985715884653
         },
         {
          "Experiment": "Trial C",
          "Measurement": 1.1515337114633912
         },
         {
          "Experiment": "Trial C",
          "Measurement": 4.780396822249574
         },
         {
          "Experiment": "Trial C",
          "Measurement": 5.070498669447505
         },
         {
          "Experiment": "Trial C",
          "Measurement": -0.6923757244761877
         },
         {
          "Experiment": "Trial C",
          "Measurement": 1.14097827961518
         },
         {
          "Experiment": "Trial C",
          "Measurement": 0.006941489819841884
         },
         {
          "Experiment": "Trial C",
          "Measurement": 1.6999521311862036
         },
         {
          "Experiment": "Trial C",
          "Measurement": 2.8331240604192782
         },
         {
          "Experiment": "Trial C",
          "Measurement": 0.10070956060293978
         },
         {
          "Experiment": "Trial C",
          "Measurement": 1.1562803737493736
         },
         {
          "Experiment": "Trial C",
          "Measurement": 0.992085255837003
         },
         {
          "Experiment": "Trial C",
          "Measurement": 3.414534658797888
         },
         {
          "Experiment": "Trial C",
          "Measurement": 3.138688674072501
         },
         {
          "Experiment": "Trial C",
          "Measurement": 1.5565248933254934
         },
         {
          "Experiment": "Trial C",
          "Measurement": 3.353641744278796
         },
         {
          "Experiment": "Trial C",
          "Measurement": 1.9066398308254693
         },
         {
          "Experiment": "Trial C",
          "Measurement": 2.4566897793478937
         },
         {
          "Experiment": "Trial C",
          "Measurement": 6.346904180597074
         },
         {
          "Experiment": "Trial C",
          "Measurement": 5.680922103580696
         },
         {
          "Experiment": "Trial C",
          "Measurement": 0.4008375261448047
         },
         {
          "Experiment": "Trial C",
          "Measurement": 4.6594648357583495
         },
         {
          "Experiment": "Trial C",
          "Measurement": 4.622793108983184
         },
         {
          "Experiment": "Trial C",
          "Measurement": 0.7034734224947634
         },
         {
          "Experiment": "Trial C",
          "Measurement": 4.637555287509722
         },
         {
          "Experiment": "Trial C",
          "Measurement": 6.075863836825105
         },
         {
          "Experiment": "Trial C",
          "Measurement": 0.7549103875111722
         },
         {
          "Experiment": "Trial C",
          "Measurement": 1.1649943579714728
         },
         {
          "Experiment": "Trial C",
          "Measurement": 5.035322933687005
         },
         {
          "Experiment": "Trial C",
          "Measurement": 3.542990621651296
         },
         {
          "Experiment": "Trial C",
          "Measurement": 4.1029525504790465
         },
         {
          "Experiment": "Trial C",
          "Measurement": 3.6811784328009933
         },
         {
          "Experiment": "Trial C",
          "Measurement": 3.7813918418562884
         },
         {
          "Experiment": "Trial C",
          "Measurement": 0.34705574337783407
         },
         {
          "Experiment": "Trial C",
          "Measurement": 5.094635413242896
         },
         {
          "Experiment": "Trial C",
          "Measurement": 5.339179984855547
         },
         {
          "Experiment": "Trial C",
          "Measurement": 2.5412185118639443
         },
         {
          "Experiment": "Trial C",
          "Measurement": 2.913046100372275
         },
         {
          "Experiment": "Trial C",
          "Measurement": -0.06221500511144429
         },
         {
          "Experiment": "Trial C",
          "Measurement": 4.0285095120356695
         },
         {
          "Experiment": "Trial C",
          "Measurement": 4.144114883428288
         },
         {
          "Experiment": "Trial C",
          "Measurement": 2.875617966001378
         },
         {
          "Experiment": "Trial C",
          "Measurement": 5.248706719741005
         },
         {
          "Experiment": "Trial C",
          "Measurement": 2.331845538040119
         },
         {
          "Experiment": "Trial C",
          "Measurement": 4.1292118517872005
         },
         {
          "Experiment": "Trial C",
          "Measurement": 0.9606713226157688
         },
         {
          "Experiment": "Trial C",
          "Measurement": 2.952895698251524
         },
         {
          "Experiment": "Trial C",
          "Measurement": 2.6512914841943283
         },
         {
          "Experiment": "Trial C",
          "Measurement": 3.450615844081883
         },
         {
          "Experiment": "Trial C",
          "Measurement": 2.2609461423332826
         },
         {
          "Experiment": "Trial C",
          "Measurement": 2.7370548086566644
         },
         {
          "Experiment": "Trial C",
          "Measurement": 4.652094342883013
         },
         {
          "Experiment": "Trial C",
          "Measurement": 2.126471525523565
         },
         {
          "Experiment": "Trial C",
          "Measurement": -0.21315420147735864
         },
         {
          "Experiment": "Trial C",
          "Measurement": 6.499167808410841
         },
         {
          "Experiment": "Trial C",
          "Measurement": 5.7629081573809735
         },
         {
          "Experiment": "Trial C",
          "Measurement": 0.4154746097887627
         },
         {
          "Experiment": "Trial C",
          "Measurement": 4.379415610490389
         },
         {
          "Experiment": "Trial C",
          "Measurement": 1.9940504588973138
         },
         {
          "Experiment": "Trial C",
          "Measurement": 3.5269744306621194
         },
         {
          "Experiment": "Trial C",
          "Measurement": 3.5884482580269874
         },
         {
          "Experiment": "Trial C",
          "Measurement": 2.531184399367356
         },
         {
          "Experiment": "Trial C",
          "Measurement": 1.432468668827207
         },
         {
          "Experiment": "Trial C",
          "Measurement": 1.6189178953674812
         },
         {
          "Experiment": "Trial C",
          "Measurement": 1.167616169037515
         },
         {
          "Experiment": "Trial C",
          "Measurement": 1.3363555835391105
         },
         {
          "Experiment": "Trial C",
          "Measurement": 2.8656434199012897
         },
         {
          "Experiment": "Trial C",
          "Measurement": 1.5684800217784964
         },
         {
          "Experiment": "Trial C",
          "Measurement": 4.36410413142524
         },
         {
          "Experiment": "Trial C",
          "Measurement": 5.974492310671854
         },
         {
          "Experiment": "Trial C",
          "Measurement": 1.839893517259914
         },
         {
          "Experiment": "Trial C",
          "Measurement": 3.478809001070754
         },
         {
          "Experiment": "Trial C",
          "Measurement": 3.9993702206058677
         },
         {
          "Experiment": "Trial C",
          "Measurement": 3.9440045418385488
         },
         {
          "Experiment": "Trial C",
          "Measurement": 3.1519105358321746
         },
         {
          "Experiment": "Trial C",
          "Measurement": 4.4853648367194445
         },
         {
          "Experiment": "Trial C",
          "Measurement": 3.9644979053613145
         },
         {
          "Experiment": "Trial C",
          "Measurement": 0.5246751553454043
         },
         {
          "Experiment": "Trial C",
          "Measurement": 4.738312128778547
         },
         {
          "Experiment": "Trial C",
          "Measurement": 4.774581674533485
         },
         {
          "Experiment": "Trial C",
          "Measurement": 1.4734277916428369
         },
         {
          "Experiment": "Trial C",
          "Measurement": 3.075875670895204
         },
         {
          "Experiment": "Trial C",
          "Measurement": 4.366657985622139
         },
         {
          "Experiment": "Trial C",
          "Measurement": 2.581372360841277
         },
         {
          "Experiment": "Trial C",
          "Measurement": 5.145956095532023
         },
         {
          "Experiment": "Trial C",
          "Measurement": 7.7277449892387216
         },
         {
          "Experiment": "Trial C",
          "Measurement": 1.4280279347300353
         },
         {
          "Experiment": "Trial C",
          "Measurement": 0.23791079369245027
         },
         {
          "Experiment": "Trial C",
          "Measurement": 3.6076371912097516
         },
         {
          "Experiment": "Trial C",
          "Measurement": 4.443125010252287
         },
         {
          "Experiment": "Trial C",
          "Measurement": 2.538267252310462
         },
         {
          "Experiment": "Trial C",
          "Measurement": 5.906521326642069
         },
         {
          "Experiment": "Trial C",
          "Measurement": 0.32278840055350244
         },
         {
          "Experiment": "Trial C",
          "Measurement": 4.385837246063222
         },
         {
          "Experiment": "Trial C",
          "Measurement": 1.7882783584822133
         },
         {
          "Experiment": "Trial C",
          "Measurement": 6.438755812414593
         },
         {
          "Experiment": "Trial C",
          "Measurement": 6.985030706336237
         },
         {
          "Experiment": "Trial C",
          "Measurement": 1.4666868244333042
         },
         {
          "Experiment": "Trial C",
          "Measurement": 1.9008857281828397
         },
         {
          "Experiment": "Trial C",
          "Measurement": 4.719175773959604
         },
         {
          "Experiment": "Trial C",
          "Measurement": 2.2257387004209708
         },
         {
          "Experiment": "Trial C",
          "Measurement": 2.9091775641355238
         },
         {
          "Experiment": "Trial C",
          "Measurement": 3.0507768410848204
         },
         {
          "Experiment": "Trial C",
          "Measurement": -0.8393463123953127
         },
         {
          "Experiment": "Trial C",
          "Measurement": 2.9723245078115257
         },
         {
          "Experiment": "Trial C",
          "Measurement": 1.6205444518716523
         },
         {
          "Experiment": "Trial C",
          "Measurement": 2.013754355200456
         },
         {
          "Experiment": "Trial C",
          "Measurement": 5.887264006937628
         },
         {
          "Experiment": "Trial C",
          "Measurement": 0.48698621144148735
         },
         {
          "Experiment": "Trial C",
          "Measurement": 4.626410373495954
         },
         {
          "Experiment": "Trial C",
          "Measurement": 2.442074139336383
         },
         {
          "Experiment": "Trial C",
          "Measurement": 2.440479663008331
         },
         {
          "Experiment": "Trial C",
          "Measurement": 4.580743792103423
         },
         {
          "Experiment": "Trial C",
          "Measurement": 3.680102589137781
         },
         {
          "Experiment": "Trial C",
          "Measurement": 4.141225994439062
         },
         {
          "Experiment": "Trial C",
          "Measurement": 4.9363693210657225
         },
         {
          "Experiment": "Trial C",
          "Measurement": 2.3373832336333544
         },
         {
          "Experiment": "Trial C",
          "Measurement": 1.7755265309844994
         },
         {
          "Experiment": "Trial C",
          "Measurement": 0.8296989468844038
         },
         {
          "Experiment": "Trial C",
          "Measurement": 1.3491789400420897
         },
         {
          "Experiment": "Trial C",
          "Measurement": 8.898188850617451
         },
         {
          "Experiment": "Trial C",
          "Measurement": 5.4893591614735735
         },
         {
          "Experiment": "Trial C",
          "Measurement": 0.2978512675839573
         },
         {
          "Experiment": "Trial C",
          "Measurement": 0.3550840865128597
         },
         {
          "Experiment": "Trial C",
          "Measurement": 3.963732123436983
         },
         {
          "Experiment": "Trial C",
          "Measurement": 4.094529594755934
         },
         {
          "Experiment": "Trial C",
          "Measurement": 4.097767670634729
         },
         {
          "Experiment": "Trial C",
          "Measurement": 2.490088412892604
         },
         {
          "Experiment": "Trial C",
          "Measurement": 2.7490914799941994
         },
         {
          "Experiment": "Trial C",
          "Measurement": 3.655759048318715
         },
         {
          "Experiment": "Trial C",
          "Measurement": 3.1717860125866606
         },
         {
          "Experiment": "Trial C",
          "Measurement": -1.4386007454950702
         },
         {
          "Experiment": "Trial C",
          "Measurement": 2.5404007388496126
         },
         {
          "Experiment": "Trial C",
          "Measurement": 1.2971871314793728
         },
         {
          "Experiment": "Trial C",
          "Measurement": 3.350422837817024
         },
         {
          "Experiment": "Trial C",
          "Measurement": 8.97051800520682
         },
         {
          "Experiment": "Trial C",
          "Measurement": 3.7349633309486086
         },
         {
          "Experiment": "Trial C",
          "Measurement": 2.372940627655204
         },
         {
          "Experiment": "Trial C",
          "Measurement": 4.843603003954504
         },
         {
          "Experiment": "Trial C",
          "Measurement": 3.9653757744184253
         },
         {
          "Experiment": "Trial C",
          "Measurement": 3.8401889809036827
         },
         {
          "Experiment": "Trial C",
          "Measurement": 4.213701186431342
         },
         {
          "Experiment": "Trial C",
          "Measurement": 7.113087129659083
         },
         {
          "Experiment": "Trial C",
          "Measurement": 0.7382231293481687
         },
         {
          "Experiment": "Trial C",
          "Measurement": 3.9472641536229087
         },
         {
          "Experiment": "Trial C",
          "Measurement": 1.1472377400369231
         },
         {
          "Experiment": "Trial C",
          "Measurement": 4.111025292684497
         },
         {
          "Experiment": "Trial C",
          "Measurement": 1.1626269770278113
         },
         {
          "Experiment": "Trial C",
          "Measurement": 2.1652663727898314
         },
         {
          "Experiment": "Trial C",
          "Measurement": 2.4098201715241876
         },
         {
          "Experiment": "Trial C",
          "Measurement": 4.951633438689418
         },
         {
          "Experiment": "Trial C",
          "Measurement": 4.836908887884828
         },
         {
          "Experiment": "Trial C",
          "Measurement": 0.508565247107231
         },
         {
          "Experiment": "Trial C",
          "Measurement": 3.1098682219996974
         },
         {
          "Experiment": "Trial C",
          "Measurement": 1.5808402905016548
         },
         {
          "Experiment": "Trial C",
          "Measurement": 0.4829901786493309
         },
         {
          "Experiment": "Trial C",
          "Measurement": 2.565965899151259
         },
         {
          "Experiment": "Trial C",
          "Measurement": 2.3830344230883607
         },
         {
          "Experiment": "Trial C",
          "Measurement": 7.853432972691045
         },
         {
          "Experiment": "Trial C",
          "Measurement": 3.865919650721392
         },
         {
          "Experiment": "Trial C",
          "Measurement": 0.24476499849152544
         },
         {
          "Experiment": "Trial C",
          "Measurement": 1.8704519916581155
         },
         {
          "Experiment": "Trial C",
          "Measurement": 5.042766590858797
         },
         {
          "Experiment": "Trial C",
          "Measurement": 7.17688554573985
         },
         {
          "Experiment": "Trial C",
          "Measurement": -0.1719666244759166
         },
         {
          "Experiment": "Trial C",
          "Measurement": -0.7598487702780901
         },
         {
          "Experiment": "Trial C",
          "Measurement": 6.741930350743564
         },
         {
          "Experiment": "Trial C",
          "Measurement": 3.7792283547418077
         },
         {
          "Experiment": "Trial C",
          "Measurement": 1.263414536247267
         },
         {
          "Experiment": "Trial C",
          "Measurement": 4.06925817224487
         },
         {
          "Experiment": "Trial C",
          "Measurement": -2.2714954780337555
         },
         {
          "Experiment": "Trial C",
          "Measurement": 3.006751013194322
         },
         {
          "Experiment": "Trial C",
          "Measurement": 3.6556423456861706
         },
         {
          "Experiment": "Trial C",
          "Measurement": 4.848540279075659
         },
         {
          "Experiment": "Trial C",
          "Measurement": 0.9722080954149246
         },
         {
          "Experiment": "Trial C",
          "Measurement": 3.171374322806718
         },
         {
          "Experiment": "Trial C",
          "Measurement": 1.1491507478808254
         },
         {
          "Experiment": "Trial C",
          "Measurement": 3.510767511348634
         },
         {
          "Experiment": "Trial C",
          "Measurement": 1.2093073552739517
         },
         {
          "Experiment": "Trial C",
          "Measurement": 2.183798321679559
         },
         {
          "Experiment": "Trial C",
          "Measurement": 1.0083692104195419
         },
         {
          "Experiment": "Trial C",
          "Measurement": 4.3022724836473145
         },
         {
          "Experiment": "Trial C",
          "Measurement": 4.716902233313331
         },
         {
          "Experiment": "Trial C",
          "Measurement": 2.5307588600851725
         },
         {
          "Experiment": "Trial C",
          "Measurement": 3.076475989920057
         },
         {
          "Experiment": "Trial C",
          "Measurement": 0.10281717073291174
         },
         {
          "Experiment": "Trial C",
          "Measurement": 2.4006467039864257
         },
         {
          "Experiment": "Trial C",
          "Measurement": 2.8995907659165105
         },
         {
          "Experiment": "Trial C",
          "Measurement": 8.241586182059951
         },
         {
          "Experiment": "Trial C",
          "Measurement": 0.7760659484516728
         },
         {
          "Experiment": "Trial C",
          "Measurement": 5.928354477504875
         },
         {
          "Experiment": "Trial C",
          "Measurement": 4.993717546931616
         },
         {
          "Experiment": "Trial C",
          "Measurement": 3.5612728089802728
         },
         {
          "Experiment": "Trial C",
          "Measurement": 6.517240968390267
         },
         {
          "Experiment": "Trial C",
          "Measurement": 3.7442109452137258
         },
         {
          "Experiment": "Trial C",
          "Measurement": 3.7783183913358576
         },
         {
          "Experiment": "Trial C",
          "Measurement": 2.893758693964909
         },
         {
          "Experiment": "Trial C",
          "Measurement": 5.4471377648372545
         },
         {
          "Experiment": "Trial C",
          "Measurement": 5.192938467621767
         },
         {
          "Experiment": "Trial C",
          "Measurement": 1.7486454250075751
         },
         {
          "Experiment": "Trial C",
          "Measurement": 0.36150561080246524
         },
         {
          "Experiment": "Trial C",
          "Measurement": 2.594038725208686
         },
         {
          "Experiment": "Trial C",
          "Measurement": 1.3999228712047072
         },
         {
          "Experiment": "Trial C",
          "Measurement": 2.87295085076929
         },
         {
          "Experiment": "Trial C",
          "Measurement": 5.474876269368279
         },
         {
          "Experiment": "Trial C",
          "Measurement": 2.0853966898264202
         },
         {
          "Experiment": "Trial C",
          "Measurement": 2.9143532373768504
         },
         {
          "Experiment": "Trial C",
          "Measurement": 3.1160454696167905
         },
         {
          "Experiment": "Trial C",
          "Measurement": 4.696861764410569
         },
         {
          "Experiment": "Trial C",
          "Measurement": -1.4937786679692104
         },
         {
          "Experiment": "Trial C",
          "Measurement": 1.7865994104694065
         },
         {
          "Experiment": "Trial C",
          "Measurement": 3.4225673845589455
         },
         {
          "Experiment": "Trial C",
          "Measurement": 5.4001579128537225
         },
         {
          "Experiment": "Trial C",
          "Measurement": 2.01619510498759
         },
         {
          "Experiment": "Trial C",
          "Measurement": -0.7531054120837481
         },
         {
          "Experiment": "Trial C",
          "Measurement": 4.239422891932272
         },
         {
          "Experiment": "Trial C",
          "Measurement": 1.7292752223487413
         },
         {
          "Experiment": "Trial C",
          "Measurement": 0.6206666818192774
         },
         {
          "Experiment": "Trial C",
          "Measurement": 1.7513092205735519
         },
         {
          "Experiment": "Trial C",
          "Measurement": 2.6309492846883007
         },
         {
          "Experiment": "Trial C",
          "Measurement": 1.7905106709235745
         },
         {
          "Experiment": "Trial C",
          "Measurement": -1.4111321141981383
         },
         {
          "Experiment": "Trial C",
          "Measurement": 4.794132393774264
         },
         {
          "Experiment": "Trial C",
          "Measurement": 5.549750082557445
         },
         {
          "Experiment": "Trial C",
          "Measurement": 4.303043982679012
         },
         {
          "Experiment": "Trial C",
          "Measurement": 0.7246286591503668
         },
         {
          "Experiment": "Trial C",
          "Measurement": 2.597016932104964
         },
         {
          "Experiment": "Trial C",
          "Measurement": 2.986957369541084
         },
         {
          "Experiment": "Trial C",
          "Measurement": 4.19758877912382
         },
         {
          "Experiment": "Trial C",
          "Measurement": 4.336680977436162
         },
         {
          "Experiment": "Trial C",
          "Measurement": 1.5316524024430085
         },
         {
          "Experiment": "Trial C",
          "Measurement": 3.1639911128271208
         },
         {
          "Experiment": "Trial C",
          "Measurement": 3.9145608092304824
         },
         {
          "Experiment": "Trial C",
          "Measurement": 5.911644644293533
         },
         {
          "Experiment": "Trial C",
          "Measurement": 4.409013079649446
         },
         {
          "Experiment": "Trial C",
          "Measurement": 4.578113374751037
         },
         {
          "Experiment": "Trial C",
          "Measurement": 3.167653255858722
         },
         {
          "Experiment": "Trial C",
          "Measurement": 5.820918290407008
         },
         {
          "Experiment": "Trial C",
          "Measurement": 3.8195255919189948
         },
         {
          "Experiment": "Trial C",
          "Measurement": 1.277824179652859
         },
         {
          "Experiment": "Trial C",
          "Measurement": 5.806739940250381
         },
         {
          "Experiment": "Trial C",
          "Measurement": 4.395806545078055
         },
         {
          "Experiment": "Trial C",
          "Measurement": 2.1139119577430354
         },
         {
          "Experiment": "Trial C",
          "Measurement": 2.041014065201513
         },
         {
          "Experiment": "Trial C",
          "Measurement": 3.5931510902815234
         },
         {
          "Experiment": "Trial C",
          "Measurement": 3.9263695905351694
         },
         {
          "Experiment": "Trial C",
          "Measurement": 3.3945845312624128
         },
         {
          "Experiment": "Trial C",
          "Measurement": 3.62261734688577
         },
         {
          "Experiment": "Trial C",
          "Measurement": 6.399914749152761
         },
         {
          "Experiment": "Trial C",
          "Measurement": 5.143086304469771
         },
         {
          "Experiment": "Trial C",
          "Measurement": 3.3812711825300488
         },
         {
          "Experiment": "Trial C",
          "Measurement": 4.882621161534967
         },
         {
          "Experiment": "Trial C",
          "Measurement": 0.9349521929449209
         },
         {
          "Experiment": "Trial C",
          "Measurement": 3.795854099893618
         },
         {
          "Experiment": "Trial C",
          "Measurement": 6.618612699466221
         },
         {
          "Experiment": "Trial C",
          "Measurement": 2.5639082092152523
         },
         {
          "Experiment": "Trial C",
          "Measurement": 1.3047321427618304
         },
         {
          "Experiment": "Trial C",
          "Measurement": 1.6958222228138786
         },
         {
          "Experiment": "Trial C",
          "Measurement": 0.8207339253152233
         },
         {
          "Experiment": "Trial C",
          "Measurement": 1.4304761837445932
         },
         {
          "Experiment": "Trial C",
          "Measurement": 2.258983802819942
         },
         {
          "Experiment": "Trial C",
          "Measurement": 0.18886596164271596
         },
         {
          "Experiment": "Trial C",
          "Measurement": 3.031236667899206
         },
         {
          "Experiment": "Trial C",
          "Measurement": 4.804554347573294
         },
         {
          "Experiment": "Trial C",
          "Measurement": 1.1844876397061592
         },
         {
          "Experiment": "Trial C",
          "Measurement": 6.038567847283538
         },
         {
          "Experiment": "Trial C",
          "Measurement": 4.021584177055189
         },
         {
          "Experiment": "Trial C",
          "Measurement": 5.061161171248115
         },
         {
          "Experiment": "Trial C",
          "Measurement": 1.6843308922957259
         },
         {
          "Experiment": "Trial C",
          "Measurement": 4.709050454133232
         },
         {
          "Experiment": "Trial C",
          "Measurement": 0.816132199209374
         },
         {
          "Experiment": "Trial C",
          "Measurement": 4.780495001673017
         },
         {
          "Experiment": "Trial C",
          "Measurement": 3.3436786795870623
         },
         {
          "Experiment": "Trial C",
          "Measurement": 4.106502439969567
         },
         {
          "Experiment": "Trial C",
          "Measurement": 0.6488107887502967
         },
         {
          "Experiment": "Trial C",
          "Measurement": 1.2098603154467906
         },
         {
          "Experiment": "Trial C",
          "Measurement": 4.194456436506769
         },
         {
          "Experiment": "Trial C",
          "Measurement": 1.1033039915515985
         },
         {
          "Experiment": "Trial C",
          "Measurement": 3.9264125841982462
         },
         {
          "Experiment": "Trial C",
          "Measurement": 0.2657243870795085
         },
         {
          "Experiment": "Trial C",
          "Measurement": 4.696348425333336
         },
         {
          "Experiment": "Trial C",
          "Measurement": 0.5349533704629819
         },
         {
          "Experiment": "Trial C",
          "Measurement": 4.104599875359046
         },
         {
          "Experiment": "Trial C",
          "Measurement": 4.251261867292001
         },
         {
          "Experiment": "Trial C",
          "Measurement": 1.6064563631408502
         },
         {
          "Experiment": "Trial C",
          "Measurement": 4.164053134169453
         },
         {
          "Experiment": "Trial C",
          "Measurement": 3.520884526667112
         },
         {
          "Experiment": "Trial C",
          "Measurement": 1.9223162876145234
         },
         {
          "Experiment": "Trial C",
          "Measurement": 0.9828906318475839
         },
         {
          "Experiment": "Trial C",
          "Measurement": -0.9252513833451581
         },
         {
          "Experiment": "Trial C",
          "Measurement": 3.6993000945993875
         },
         {
          "Experiment": "Trial C",
          "Measurement": -0.1296055427241103
         },
         {
          "Experiment": "Trial C",
          "Measurement": 3.1906883988826165
         },
         {
          "Experiment": "Trial C",
          "Measurement": 2.473103567835502
         },
         {
          "Experiment": "Trial C",
          "Measurement": 4.358285550876391
         },
         {
          "Experiment": "Trial C",
          "Measurement": 2.3959090010202715
         },
         {
          "Experiment": "Trial C",
          "Measurement": 2.341104427305817
         },
         {
          "Experiment": "Trial C",
          "Measurement": 4.463741408576591
         },
         {
          "Experiment": "Trial C",
          "Measurement": 3.670116058168235
         },
         {
          "Experiment": "Trial C",
          "Measurement": 3.6323119143655567
         },
         {
          "Experiment": "Trial C",
          "Measurement": 3.9385351796170527
         },
         {
          "Experiment": "Trial C",
          "Measurement": -0.07114424641421158
         },
         {
          "Experiment": "Trial C",
          "Measurement": 4.513577359973964
         },
         {
          "Experiment": "Trial C",
          "Measurement": 4.224937588027204
         },
         {
          "Experiment": "Trial C",
          "Measurement": 0.9666337428470055
         },
         {
          "Experiment": "Trial C",
          "Measurement": 2.5118390526515975
         },
         {
          "Experiment": "Trial C",
          "Measurement": 2.9213854247447375
         },
         {
          "Experiment": "Trial C",
          "Measurement": 2.7310064311965347
         },
         {
          "Experiment": "Trial C",
          "Measurement": 3.6677199331370693
         },
         {
          "Experiment": "Trial C",
          "Measurement": 5.862733563662367
         },
         {
          "Experiment": "Trial C",
          "Measurement": 5.163533455345657
         },
         {
          "Experiment": "Trial C",
          "Measurement": 0.3755616131371875
         },
         {
          "Experiment": "Trial C",
          "Measurement": 4.244139980612097
         },
         {
          "Experiment": "Trial C",
          "Measurement": 5.65786663907082
         },
         {
          "Experiment": "Trial C",
          "Measurement": 3.7736170413784054
         },
         {
          "Experiment": "Trial C",
          "Measurement": 5.181960850371934
         },
         {
          "Experiment": "Trial C",
          "Measurement": 7.02454089140153
         },
         {
          "Experiment": "Trial C",
          "Measurement": 5.047419092213962
         },
         {
          "Experiment": "Trial C",
          "Measurement": 3.498617191283458
         },
         {
          "Experiment": "Trial C",
          "Measurement": 5.090176948169507
         },
         {
          "Experiment": "Trial C",
          "Measurement": 3.2897756661937825
         },
         {
          "Experiment": "Trial C",
          "Measurement": 3.047806086569911
         },
         {
          "Experiment": "Trial C",
          "Measurement": 2.2971715285725347
         },
         {
          "Experiment": "Trial C",
          "Measurement": 6.126826717664216
         },
         {
          "Experiment": "Trial C",
          "Measurement": 1.3631426681159973
         },
         {
          "Experiment": "Trial C",
          "Measurement": 6.064735449356232
         },
         {
          "Experiment": "Trial C",
          "Measurement": 3.9997282474807427
         },
         {
          "Experiment": "Trial C",
          "Measurement": 0.20138765039611695
         },
         {
          "Experiment": "Trial C",
          "Measurement": 3.735298585982843
         },
         {
          "Experiment": "Trial C",
          "Measurement": -1.200053015303248
         },
         {
          "Experiment": "Trial C",
          "Measurement": 4.251016033662071
         },
         {
          "Experiment": "Trial C",
          "Measurement": 4.770462965977982
         },
         {
          "Experiment": "Trial C",
          "Measurement": 1.8152880886958929
         },
         {
          "Experiment": "Trial C",
          "Measurement": 3.2470953919111647
         },
         {
          "Experiment": "Trial C",
          "Measurement": 6.9083148675005726
         },
         {
          "Experiment": "Trial C",
          "Measurement": 1.9885065914761266
         },
         {
          "Experiment": "Trial C",
          "Measurement": 0.882184825886799
         },
         {
          "Experiment": "Trial C",
          "Measurement": 5.963326804925197
         },
         {
          "Experiment": "Trial C",
          "Measurement": 6.92517438106159
         },
         {
          "Experiment": "Trial C",
          "Measurement": 3.0073913436956947
         },
         {
          "Experiment": "Trial C",
          "Measurement": 5.0229260708167125
         },
         {
          "Experiment": "Trial C",
          "Measurement": 5.682951831061763
         },
         {
          "Experiment": "Trial C",
          "Measurement": 1.515031534923232
         },
         {
          "Experiment": "Trial C",
          "Measurement": 2.0293883292642634
         },
         {
          "Experiment": "Trial C",
          "Measurement": 5.4617490263094695
         },
         {
          "Experiment": "Trial C",
          "Measurement": 6.370028557417019
         },
         {
          "Experiment": "Trial C",
          "Measurement": 4.125761720348709
         },
         {
          "Experiment": "Trial C",
          "Measurement": 1.2403712929958914
         },
         {
          "Experiment": "Trial C",
          "Measurement": 6.974122223398883
         },
         {
          "Experiment": "Trial C",
          "Measurement": 1.938058204376071
         },
         {
          "Experiment": "Trial C",
          "Measurement": 2.3297244376570965
         },
         {
          "Experiment": "Trial C",
          "Measurement": 3.684675668979243
         },
         {
          "Experiment": "Trial C",
          "Measurement": 6.108320841429548
         },
         {
          "Experiment": "Trial C",
          "Measurement": 4.707951953104447
         },
         {
          "Experiment": "Trial C",
          "Measurement": 3.8297310007238208
         },
         {
          "Experiment": "Trial C",
          "Measurement": 3.9265770602362124
         },
         {
          "Experiment": "Trial C",
          "Measurement": 3.087029337286932
         },
         {
          "Experiment": "Trial C",
          "Measurement": 4.116279029037012
         },
         {
          "Experiment": "Trial C",
          "Measurement": -2.059120155388606
         },
         {
          "Experiment": "Trial C",
          "Measurement": 2.406785081860403
         },
         {
          "Experiment": "Trial C",
          "Measurement": 3.482643869833562
         },
         {
          "Experiment": "Trial C",
          "Measurement": 0.6979718327609858
         },
         {
          "Experiment": "Trial C",
          "Measurement": 3.77264663562312
         },
         {
          "Experiment": "Trial C",
          "Measurement": 2.591057558027757
         },
         {
          "Experiment": "Trial C",
          "Measurement": 6.51095139663098
         },
         {
          "Experiment": "Trial C",
          "Measurement": 6.146039450429713
         },
         {
          "Experiment": "Trial C",
          "Measurement": 2.0683888617636743
         },
         {
          "Experiment": "Trial C",
          "Measurement": 2.6983245768666095
         },
         {
          "Experiment": "Trial C",
          "Measurement": 2.852104868783215
         },
         {
          "Experiment": "Trial C",
          "Measurement": 2.0966810476807547
         },
         {
          "Experiment": "Trial C",
          "Measurement": 3.3900499680562532
         },
         {
          "Experiment": "Trial C",
          "Measurement": 1.4834358622248196
         },
         {
          "Experiment": "Trial C",
          "Measurement": 0.7387693301249474
         },
         {
          "Experiment": "Trial C",
          "Measurement": 4.245422447800538
         },
         {
          "Experiment": "Trial C",
          "Measurement": 4.259059168443621
         },
         {
          "Experiment": "Trial C",
          "Measurement": 1.3913684806800153
         },
         {
          "Experiment": "Trial C",
          "Measurement": 4.790710861525199
         },
         {
          "Experiment": "Trial C",
          "Measurement": 1.7368445416693372
         },
         {
          "Experiment": "Trial C",
          "Measurement": 3.5063304760759624
         },
         {
          "Experiment": "Trial C",
          "Measurement": 4.640688025224912
         },
         {
          "Experiment": "Trial C",
          "Measurement": 2.932774870592574
         },
         {
          "Experiment": "Trial C",
          "Measurement": 3.9094818242822686
         },
         {
          "Experiment": "Trial C",
          "Measurement": 1.9671407122248565
         },
         {
          "Experiment": "Trial C",
          "Measurement": 2.6070668331438056
         },
         {
          "Experiment": "Trial C",
          "Measurement": 2.5882811382393194
         },
         {
          "Experiment": "Trial C",
          "Measurement": 1.5068433069195222
         },
         {
          "Experiment": "Trial C",
          "Measurement": 2.6464516737684356
         },
         {
          "Experiment": "Trial C",
          "Measurement": -0.09723659772749338
         },
         {
          "Experiment": "Trial C",
          "Measurement": 2.0176925057157904
         },
         {
          "Experiment": "Trial C",
          "Measurement": 2.4302490132606582
         },
         {
          "Experiment": "Trial C",
          "Measurement": 2.4876404950092397
         },
         {
          "Experiment": "Trial C",
          "Measurement": 2.5170051082584424
         },
         {
          "Experiment": "Trial C",
          "Measurement": 2.8764716002797424
         },
         {
          "Experiment": "Trial C",
          "Measurement": 3.9588830361721277
         },
         {
          "Experiment": "Trial C",
          "Measurement": 4.749034148265045
         },
         {
          "Experiment": "Trial C",
          "Measurement": 1.7004695463034658
         },
         {
          "Experiment": "Trial C",
          "Measurement": 0.5935982892217111
         },
         {
          "Experiment": "Trial C",
          "Measurement": 0.9159111755137941
         },
         {
          "Experiment": "Trial C",
          "Measurement": 2.0255941576101457
         },
         {
          "Experiment": "Trial C",
          "Measurement": 2.296157364366982
         },
         {
          "Experiment": "Trial C",
          "Measurement": 1.4600078676050854
         },
         {
          "Experiment": "Trial C",
          "Measurement": 0.40776667150021106
         },
         {
          "Experiment": "Trial C",
          "Measurement": 2.0877583450516237
         },
         {
          "Experiment": "Trial C",
          "Measurement": 3.3628532402279427
         },
         {
          "Experiment": "Trial C",
          "Measurement": 4.190058931671129
         },
         {
          "Experiment": "Trial C",
          "Measurement": 1.8851538937833576
         },
         {
          "Experiment": "Trial C",
          "Measurement": 2.174004355713132
         },
         {
          "Experiment": "Trial C",
          "Measurement": 1.1466033823053785
         },
         {
          "Experiment": "Trial C",
          "Measurement": 2.937121659250447
         },
         {
          "Experiment": "Trial C",
          "Measurement": 1.3031427316183708
         },
         {
          "Experiment": "Trial C",
          "Measurement": 4.1462556264824
         },
         {
          "Experiment": "Trial C",
          "Measurement": -0.5717329838682224
         },
         {
          "Experiment": "Trial C",
          "Measurement": 2.2807406550950753
         },
         {
          "Experiment": "Trial C",
          "Measurement": 3.602214678383484
         },
         {
          "Experiment": "Trial C",
          "Measurement": 3.3676690326450087
         },
         {
          "Experiment": "Trial C",
          "Measurement": 8.386067327960994
         },
         {
          "Experiment": "Trial C",
          "Measurement": 3.699600049135815
         },
         {
          "Experiment": "Trial C",
          "Measurement": 0.9918908063159795
         },
         {
          "Experiment": "Trial C",
          "Measurement": 2.809071505821854
         },
         {
          "Experiment": "Trial C",
          "Measurement": -0.5524926669329036
         },
         {
          "Experiment": "Trial C",
          "Measurement": 2.838800501406478
         },
         {
          "Experiment": "Trial C",
          "Measurement": 1.3338878859984826
         },
         {
          "Experiment": "Trial C",
          "Measurement": 4.8307805511203235
         },
         {
          "Experiment": "Trial C",
          "Measurement": 1.9009194508089302
         },
         {
          "Experiment": "Trial C",
          "Measurement": 2.766468168409507
         },
         {
          "Experiment": "Trial C",
          "Measurement": 1.7288843171911932
         },
         {
          "Experiment": "Trial C",
          "Measurement": 6.477702703706663
         },
         {
          "Experiment": "Trial C",
          "Measurement": 2.357514467764177
         },
         {
          "Experiment": "Trial C",
          "Measurement": 6.665114086958404
         },
         {
          "Experiment": "Trial C",
          "Measurement": 4.628303524236533
         },
         {
          "Experiment": "Trial C",
          "Measurement": 3.9641334546707725
         },
         {
          "Experiment": "Trial C",
          "Measurement": 3.7374662946350394
         },
         {
          "Experiment": "Trial C",
          "Measurement": 3.787594596432503
         },
         {
          "Experiment": "Trial C",
          "Measurement": -0.85534515869122
         },
         {
          "Experiment": "Trial C",
          "Measurement": 2.442233211698487
         },
         {
          "Experiment": "Trial C",
          "Measurement": 4.690315942368644
         },
         {
          "Experiment": "Trial C",
          "Measurement": 2.902205633051789
         },
         {
          "Experiment": "Trial C",
          "Measurement": 0.18962030639284988
         },
         {
          "Experiment": "Trial C",
          "Measurement": 2.895191098845061
         },
         {
          "Experiment": "Trial C",
          "Measurement": 6.408211032510982
         },
         {
          "Experiment": "Trial C",
          "Measurement": 5.4937834310694384
         },
         {
          "Experiment": "Trial C",
          "Measurement": 2.8759919812679366
         },
         {
          "Experiment": "Trial C",
          "Measurement": 4.902898554116173
         },
         {
          "Experiment": "Trial C",
          "Measurement": 2.2669859592638963
         },
         {
          "Experiment": "Trial C",
          "Measurement": -0.4077431736534378
         },
         {
          "Experiment": "Trial C",
          "Measurement": 1.1510680237408912
         },
         {
          "Experiment": "Trial C",
          "Measurement": 6.125777537016395
         },
         {
          "Experiment": "Trial C",
          "Measurement": 2.4520138363413917
         },
         {
          "Experiment": "Trial C",
          "Measurement": 2.513232041249964
         },
         {
          "Experiment": "Trial C",
          "Measurement": 2.4003236074502388
         },
         {
          "Experiment": "Trial C",
          "Measurement": 6.808273179146013
         },
         {
          "Experiment": "Trial C",
          "Measurement": 6.2519178307241265
         },
         {
          "Experiment": "Trial C",
          "Measurement": 7.437560466896268
         },
         {
          "Experiment": "Trial C",
          "Measurement": 2.6819095791998975
         },
         {
          "Experiment": "Trial C",
          "Measurement": 3.5912489774941903
         },
         {
          "Experiment": "Trial C",
          "Measurement": -0.03328509884158226
         },
         {
          "Experiment": "Trial C",
          "Measurement": 5.953868852236549
         },
         {
          "Experiment": "Trial C",
          "Measurement": 0.66444089746413
         },
         {
          "Experiment": "Trial C",
          "Measurement": 3.4335511275252584
         },
         {
          "Experiment": "Trial C",
          "Measurement": 0.8053949447343118
         },
         {
          "Experiment": "Trial C",
          "Measurement": 1.8222663465226079
         },
         {
          "Experiment": "Trial C",
          "Measurement": 1.3254751379005993
         },
         {
          "Experiment": "Trial C",
          "Measurement": 1.7842494786483643
         },
         {
          "Experiment": "Trial C",
          "Measurement": 1.9217545937020428
         },
         {
          "Experiment": "Trial C",
          "Measurement": 1.9034624101498459
         },
         {
          "Experiment": "Trial C",
          "Measurement": 4.666667823560614
         },
         {
          "Experiment": "Trial C",
          "Measurement": 0.7902744138749598
         },
         {
          "Experiment": "Trial C",
          "Measurement": 3.4410828540277336
         },
         {
          "Experiment": "Trial C",
          "Measurement": 5.435918304611117
         },
         {
          "Experiment": "Trial C",
          "Measurement": 1.973607270973208
         },
         {
          "Experiment": "Trial C",
          "Measurement": 1.5641622185047963
         },
         {
          "Experiment": "Trial C",
          "Measurement": 2.5389507496394983
         },
         {
          "Experiment": "Trial C",
          "Measurement": 5.359450416721421
         },
         {
          "Experiment": "Trial C",
          "Measurement": 3.3882152619067156
         },
         {
          "Experiment": "Trial C",
          "Measurement": 1.937571410784803
         },
         {
          "Experiment": "Trial C",
          "Measurement": 3.9677533023760794
         },
         {
          "Experiment": "Trial C",
          "Measurement": 0.7954157003271534
         },
         {
          "Experiment": "Trial C",
          "Measurement": 4.362719020885896
         },
         {
          "Experiment": "Trial C",
          "Measurement": 3.817214615403535
         },
         {
          "Experiment": "Trial C",
          "Measurement": 2.384383057722232
         },
         {
          "Experiment": "Trial C",
          "Measurement": 1.322828403105538
         },
         {
          "Experiment": "Trial C",
          "Measurement": 1.2266381554330854
         },
         {
          "Experiment": "Trial C",
          "Measurement": 4.06963467269182
         },
         {
          "Experiment": "Trial C",
          "Measurement": 5.457961004978124
         },
         {
          "Experiment": "Trial C",
          "Measurement": 1.7253845059424104
         },
         {
          "Experiment": "Trial C",
          "Measurement": 3.9167734071029683
         },
         {
          "Experiment": "Trial C",
          "Measurement": -1.1740540372041375
         },
         {
          "Experiment": "Trial C",
          "Measurement": 1.8307645386856009
         },
         {
          "Experiment": "Trial C",
          "Measurement": 2.937882134258196
         },
         {
          "Experiment": "Trial C",
          "Measurement": 1.1806331660363327
         },
         {
          "Experiment": "Trial C",
          "Measurement": 1.126987250420808
         },
         {
          "Experiment": "Trial C",
          "Measurement": 1.6644408870622276
         },
         {
          "Experiment": "Trial C",
          "Measurement": 3.5843854566527464
         },
         {
          "Experiment": "Trial C",
          "Measurement": 2.6253419631872505
         },
         {
          "Experiment": "Trial C",
          "Measurement": -1.4764624666499442
         },
         {
          "Experiment": "Trial C",
          "Measurement": -1.2414003052701323
         },
         {
          "Experiment": "Trial C",
          "Measurement": 1.7862696442856492
         },
         {
          "Experiment": "Trial C",
          "Measurement": 3.9153731721071043
         },
         {
          "Experiment": "Trial C",
          "Measurement": -2.4950096854504693
         },
         {
          "Experiment": "Trial C",
          "Measurement": 2.0005396476967388
         },
         {
          "Experiment": "Trial C",
          "Measurement": 1.9475042869651578
         },
         {
          "Experiment": "Trial C",
          "Measurement": 5.776675556416896
         },
         {
          "Experiment": "Trial C",
          "Measurement": 2.2299563765742727
         },
         {
          "Experiment": "Trial C",
          "Measurement": 3.765977969481857
         },
         {
          "Experiment": "Trial C",
          "Measurement": 3.2825142801749263
         },
         {
          "Experiment": "Trial C",
          "Measurement": -1.2611329596144012
         },
         {
          "Experiment": "Trial C",
          "Measurement": 4.536414433263475
         },
         {
          "Experiment": "Trial C",
          "Measurement": 3.4307930109125757
         },
         {
          "Experiment": "Trial C",
          "Measurement": 4.016537279349179
         },
         {
          "Experiment": "Trial C",
          "Measurement": 10.852475412872653
         },
         {
          "Experiment": "Trial C",
          "Measurement": -1.168225878997177
         },
         {
          "Experiment": "Trial C",
          "Measurement": 6.449393299522217
         },
         {
          "Experiment": "Trial C",
          "Measurement": 2.4251049611992888
         },
         {
          "Experiment": "Trial C",
          "Measurement": 3.574657808806019
         },
         {
          "Experiment": "Trial C",
          "Measurement": 2.9089755093975156
         },
         {
          "Experiment": "Trial C",
          "Measurement": 2.151527333203913
         },
         {
          "Experiment": "Trial C",
          "Measurement": 1.8603341435224825
         },
         {
          "Experiment": "Trial C",
          "Measurement": 3.659017471146018
         },
         {
          "Experiment": "Trial C",
          "Measurement": -0.034347393343358235
         },
         {
          "Experiment": "Trial C",
          "Measurement": 4.501158335043531
         },
         {
          "Experiment": "Trial C",
          "Measurement": 2.167611190229492
         },
         {
          "Experiment": "Trial C",
          "Measurement": 0.7398613219192844
         },
         {
          "Experiment": "Trial C",
          "Measurement": 2.099974284008373
         },
         {
          "Experiment": "Trial C",
          "Measurement": 5.514298433725146
         },
         {
          "Experiment": "Trial C",
          "Measurement": 1.9293298259675538
         },
         {
          "Experiment": "Trial C",
          "Measurement": 3.7169072364192406
         },
         {
          "Experiment": "Trial C",
          "Measurement": 1.5380874485690534
         },
         {
          "Experiment": "Trial C",
          "Measurement": 4.515843699847239
         },
         {
          "Experiment": "Trial C",
          "Measurement": 4.371015477580408
         },
         {
          "Experiment": "Trial C",
          "Measurement": 6.697217666592823
         },
         {
          "Experiment": "Trial C",
          "Measurement": 2.648872109001569
         },
         {
          "Experiment": "Trial C",
          "Measurement": 4.337309609515813
         },
         {
          "Experiment": "Trial C",
          "Measurement": 3.196135079077889
         },
         {
          "Experiment": "Trial C",
          "Measurement": 5.591743563726029
         },
         {
          "Experiment": "Trial C",
          "Measurement": 1.5623352247825393
         },
         {
          "Experiment": "Trial C",
          "Measurement": 4.490010625754563
         },
         {
          "Experiment": "Trial C",
          "Measurement": 2.6106054077666365
         },
         {
          "Experiment": "Trial C",
          "Measurement": 2.8716236457830044
         },
         {
          "Experiment": "Trial C",
          "Measurement": 3.1835049688967456
         },
         {
          "Experiment": "Trial C",
          "Measurement": 3.5044807928533546
         },
         {
          "Experiment": "Trial C",
          "Measurement": 2.7675419137560837
         },
         {
          "Experiment": "Trial C",
          "Measurement": 3.429426366341053
         },
         {
          "Experiment": "Trial C",
          "Measurement": 6.1562361151243685
         },
         {
          "Experiment": "Trial C",
          "Measurement": 4.970899371230437
         },
         {
          "Experiment": "Trial C",
          "Measurement": 4.738309184993793
         },
         {
          "Experiment": "Trial C",
          "Measurement": 2.088920947952259
         },
         {
          "Experiment": "Trial C",
          "Measurement": 1.2215183435433514
         },
         {
          "Experiment": "Trial C",
          "Measurement": 4.9106011164755055
         },
         {
          "Experiment": "Trial C",
          "Measurement": 4.752093585059589
         },
         {
          "Experiment": "Trial C",
          "Measurement": 5.945341351501964
         },
         {
          "Experiment": "Trial C",
          "Measurement": 1.792038748061541
         },
         {
          "Experiment": "Trial C",
          "Measurement": 2.5409026892793056
         },
         {
          "Experiment": "Trial C",
          "Measurement": -0.2789683250508683
         },
         {
          "Experiment": "Trial C",
          "Measurement": 2.215057787878254
         },
         {
          "Experiment": "Trial C",
          "Measurement": 4.993141021158895
         },
         {
          "Experiment": "Trial C",
          "Measurement": 2.0670092415436043
         },
         {
          "Experiment": "Trial C",
          "Measurement": 4.280959590401648
         },
         {
          "Experiment": "Trial C",
          "Measurement": 2.6189937880043774
         },
         {
          "Experiment": "Trial C",
          "Measurement": 3.6481140564431214
         },
         {
          "Experiment": "Trial C",
          "Measurement": 0.7046172203686654
         },
         {
          "Experiment": "Trial C",
          "Measurement": 3.170418899267802
         },
         {
          "Experiment": "Trial C",
          "Measurement": -2.9822719418014465
         },
         {
          "Experiment": "Trial C",
          "Measurement": 2.6262076836760304
         },
         {
          "Experiment": "Trial C",
          "Measurement": -0.26094648743028026
         },
         {
          "Experiment": "Trial C",
          "Measurement": 5.411989033093632
         },
         {
          "Experiment": "Trial C",
          "Measurement": 4.554814705529022
         },
         {
          "Experiment": "Trial C",
          "Measurement": 3.933341963932162
         },
         {
          "Experiment": "Trial C",
          "Measurement": 6.04201245431876
         },
         {
          "Experiment": "Trial C",
          "Measurement": 1.1021669583503255
         },
         {
          "Experiment": "Trial C",
          "Measurement": 6.494726395831116
         },
         {
          "Experiment": "Trial C",
          "Measurement": 4.864383128520769
         },
         {
          "Experiment": "Trial C",
          "Measurement": 2.526889425562108
         },
         {
          "Experiment": "Trial C",
          "Measurement": 5.271240294365889
         },
         {
          "Experiment": "Trial C",
          "Measurement": 0.7874129751767316
         },
         {
          "Experiment": "Trial C",
          "Measurement": 1.350971676944653
         },
         {
          "Experiment": "Trial C",
          "Measurement": 1.7828205535205992
         },
         {
          "Experiment": "Trial C",
          "Measurement": 1.9420445838719695
         },
         {
          "Experiment": "Trial C",
          "Measurement": 0.8868847144794945
         },
         {
          "Experiment": "Trial C",
          "Measurement": 5.4461661341906495
         },
         {
          "Experiment": "Trial C",
          "Measurement": 2.4822911992603367
         },
         {
          "Experiment": "Trial C",
          "Measurement": 3.705009936713759
         },
         {
          "Experiment": "Trial C",
          "Measurement": 1.8592972671726389
         },
         {
          "Experiment": "Trial C",
          "Measurement": -0.6412066010970343
         },
         {
          "Experiment": "Trial C",
          "Measurement": 3.540114716782844
         },
         {
          "Experiment": "Trial C",
          "Measurement": -0.8245099508395537
         },
         {
          "Experiment": "Trial C",
          "Measurement": 2.8627319078290627
         },
         {
          "Experiment": "Trial C",
          "Measurement": 0.26336992233437906
         },
         {
          "Experiment": "Trial C",
          "Measurement": 6.9745519984616156
         },
         {
          "Experiment": "Trial C",
          "Measurement": 4.822725444349444
         },
         {
          "Experiment": "Trial C",
          "Measurement": 3.2115075825429606
         },
         {
          "Experiment": "Trial C",
          "Measurement": 5.527413355309337
         },
         {
          "Experiment": "Trial C",
          "Measurement": 1.3073680450685283
         },
         {
          "Experiment": "Trial C",
          "Measurement": 4.086958757340186
         },
         {
          "Experiment": "Trial C",
          "Measurement": 3.399620867437427
         },
         {
          "Experiment": "Trial C",
          "Measurement": 3.52804016266734
         },
         {
          "Experiment": "Trial C",
          "Measurement": 5.544707000213536
         },
         {
          "Experiment": "Trial C",
          "Measurement": 4.464984205559604
         },
         {
          "Experiment": "Trial C",
          "Measurement": 3.5774473256500467
         },
         {
          "Experiment": "Trial C",
          "Measurement": -0.3097748724565923
         },
         {
          "Experiment": "Trial C",
          "Measurement": 1.0799074094410726
         },
         {
          "Experiment": "Trial C",
          "Measurement": 2.754582132808552
         },
         {
          "Experiment": "Trial C",
          "Measurement": 3.1867447485533025
         },
         {
          "Experiment": "Trial C",
          "Measurement": 0.7395925506521523
         },
         {
          "Experiment": "Trial C",
          "Measurement": 7.823353351156842
         },
         {
          "Experiment": "Trial C",
          "Measurement": 6.032788110507146
         },
         {
          "Experiment": "Trial C",
          "Measurement": 4.204236640784967
         },
         {
          "Experiment": "Trial C",
          "Measurement": 3.1440737225674895
         },
         {
          "Experiment": "Trial C",
          "Measurement": 2.5755820601976964
         },
         {
          "Experiment": "Trial C",
          "Measurement": 1.0961630799555289
         },
         {
          "Experiment": "Trial C",
          "Measurement": 3.154961037037725
         },
         {
          "Experiment": "Trial C",
          "Measurement": 3.5155050802855015
         },
         {
          "Experiment": "Trial C",
          "Measurement": 0.5164788490367513
         },
         {
          "Experiment": "Trial C",
          "Measurement": 3.668352834489795
         },
         {
          "Experiment": "Trial C",
          "Measurement": 2.6894819023505026
         }
        ]
       },
       "encoding": {
        "color": {
         "field": "Experiment",
         "scale": {
          "range": [
           "#0000ff",
           "#008000",
           "#ff0000"
          ]
         },
         "type": "nominal"
        },
        "x": {
         "bin": {
          "maxbins": 100
         },
         "field": "Measurement",
         "type": "quantitative"
        },
        "y": {
         "aggregate": "count",
         "stack": null,
         "type": "quantitative"
        }
       },
       "mark": {
        "interpolate": "step",
        "opacity": 0.3,
        "type": "area"
       }
      },
      "image/png": "[encoded data removed]",
      "text/plain": [
       "<VegaLite 3 object>\n",
       "\n",
       "If you see this message, it means the renderer has not been properly enabled\n",
       "for the frontend that you are using. For more information, see\n",
       "https://altair-viz.github.io/user_guide/troubleshooting.html\n"
      ]
     },
     "execution_count": 21,
     "metadata": {},
     "output_type": "execute_result"
    }
   ],
   "source": [
    "alt.Chart(df).mark_area(\n",
    "    opacity=0.3,\n",
    "    interpolate='step'\n",
    ").encode(\n",
    "    alt.X('Measurement', bin=alt.Bin(maxbins=100)),\n",
    "    alt.Y('count()', stack=None),\n",
    "    alt.Color(\n",
    "        'Experiment',\n",
    "        scale=alt.Scale(range=['#0000ff', '#008000', '#ff0000'])\n",
    "    )\n",
    ")"
   ]
  },
  {
   "cell_type": "markdown",
   "metadata": {},
   "source": [
    "### Gráfico de Líneas\n",
    "<a id='lineplot'></a>"
   ]
  },
  {
   "cell_type": "markdown",
   "metadata": {},
   "source": [
    "### Scatter Plot\n",
    "<a id='scatter-plot'></a>"
   ]
  },
  {
   "cell_type": "markdown",
   "metadata": {},
   "source": [
    "### Gráfico de Barras de Error\n",
    "<a id='error-bar-plot'></a>"
   ]
  },
  {
   "cell_type": "markdown",
   "metadata": {},
   "source": [
    "### Gráficos de Area\n",
    "<a id='area-charts'></a>"
   ]
  },
  {
   "cell_type": "markdown",
   "metadata": {},
   "source": [
    "### Mapas de Calor\n",
    "<a id='heatmap'></a>"
   ]
  },
  {
   "cell_type": "markdown",
   "metadata": {},
   "source": [
    "### Mapas\n",
    "<a id='maps'></a>"
   ]
  },
  {
   "cell_type": "markdown",
   "metadata": {},
   "source": [
    "<a id='plot-plot'></a>"
   ]
  }
 ],
 "metadata": {
  "celltoolbar": "Slideshow",
  "kernelspec": {
   "display_name": "Python [conda env:ds]",
   "language": "python",
   "name": "conda-env-ds-py"
  },
  "language_info": {
   "codemirror_mode": {
    "name": "ipython",
    "version": 3
   },
   "file_extension": ".py",
   "mimetype": "text/x-python",
   "name": "python",
   "nbconvert_exporter": "python",
   "pygments_lexer": "ipython3",
   "version": "3.7.3"
  },
  "toc-autonumbering": false,
  "toc-showcode": false,
  "toc-showmarkdowntxt": false,
  "toc-showtags": true
 },
 "nbformat": 4,
 "nbformat_minor": 4
}
