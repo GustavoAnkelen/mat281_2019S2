{
 "cells": [
  {
   "cell_type": "markdown",
   "metadata": {
    "slideshow": {
     "slide_type": "slide"
    }
   },
   "source": [
    "<img src=\"https://upload.wikimedia.org/wikipedia/commons/4/47/Logo_UTFSM.png\" width=\"200\" alt=\"utfsm-logo\" align=\"left\"/>\n",
    "\n",
    "# MAT281\n",
    "### Aplicaciones de la Matemática en la Ingeniería"
   ]
  },
  {
   "cell_type": "markdown",
   "metadata": {
    "slideshow": {
     "slide_type": "slide"
    }
   },
   "source": [
    "## Módulo 01\n",
    "## Clase 01: Acerca de MAT281"
   ]
  },
  {
   "cell_type": "markdown",
   "metadata": {
    "slideshow": {
     "slide_type": "slide"
    }
   },
   "source": [
    "## Objetivos\n",
    "\n",
    "* Presentarnos\n",
    "* Motivar el curso\n",
    "* Servicios de utilidad pública"
   ]
  },
  {
   "cell_type": "markdown",
   "metadata": {
    "slideshow": {
     "slide_type": "subslide"
    }
   },
   "source": [
    "## Contenidos\n",
    "* [Presentación](#presentacion)\n",
    "* [Contenidos](#contents)\n",
    "* [¿Por qué apreder esto?](#why)\n",
    "* [Evaluación](#grading)\n",
    "* [Misceláneo](#misc)"
   ]
  },
  {
   "cell_type": "markdown",
   "metadata": {
    "slideshow": {
     "slide_type": "slide"
    }
   },
   "source": [
    "<a id='presentacion'></a>\n",
    "## Presentación"
   ]
  },
  {
   "cell_type": "markdown",
   "metadata": {
    "slideshow": {
     "slide_type": "slide"
    }
   },
   "source": [
    "**Alonso Ogueda Oliva** \n",
    "* Ingeniero Civil Matemático - UTFSM, Chile (2011-2018)\n",
    "    - Mención Estadística Aplicada\n",
    "* Intereses: Ciencia, educación, estadística aplicada, naturaleza, memes e innovación.\n",
    "* Actualmente:\n",
    "    - Estudiante de Magíster en Ciencias mención Matemática - UTFSM, Chile (2019-2020?)\n",
    "    - Data Scientist @ u-planner (2017-??)\n",
    "* Contacto:\n",
    "    - Correo Electrónico: alonso.ogueda@gmail.com\n",
    "    - _\"Oficina\"_: Sala 3, Tercer Piso, DMAT (Edificio F).\n",
    "    - Horario de Consultas: Por definir"
   ]
  },
  {
   "cell_type": "markdown",
   "metadata": {},
   "source": [
    "**Ayudante** \n",
    "\n",
    "No está claro su destino"
   ]
  },
  {
   "cell_type": "markdown",
   "metadata": {
    "slideshow": {
     "slide_type": "slide"
    }
   },
   "source": [
    "<a id='contents'></a>\n",
    "## Contenidos\n",
    "\n",
    "Según el programa de asignatura, la **descripción** del curso es:\n",
    "\n",
    "*El estudiante adquiere competencias específicas relevantes para la modelación matemática de problemas de ingeniería, que incluyen elementos básicos del análisis de datos, y uso de programas computacionales especializados. Se analizan problemas provenientes de la ingeniería.*\n"
   ]
  },
  {
   "cell_type": "markdown",
   "metadata": {
    "slideshow": {
     "slide_type": "slide"
    }
   },
   "source": [
    "Según el programa de asignatura, la contribución al **perfil de egreso** es:\n",
    "\n",
    "1. *Comprende los principales conceptos y fenómenos de la física, la química y las ciencias de la ingeniería.*\n",
    "1. *Aplica los conceptos y técnicas de la programación.*\n",
    "1. *Resuelve ecuaciones algebraicas y diferenciales mediante técnicas de aproximación, interpolación, integración y cálculo numérico.*\n",
    "1. *Expone hechos, ideas y argumentos de manera clara, ante grupos pequeños y medianos.*\n",
    "1. *Extrae y procesa datos para obtener información cualitativa de procesos y sistemas.*"
   ]
  },
  {
   "cell_type": "markdown",
   "metadata": {
    "slideshow": {
     "slide_type": "slide"
    }
   },
   "source": [
    "Según el programa de asignatura, los **resultados de aprendizaje** son:\n",
    "\n",
    "1. *Analiza el concepto de adimensionalización, determinando variables adimensionales en ecuaciones diferenciales.*\n",
    "2. *Evalúa el grado de una aproximación en un modelo matemático, utilizando métodos de cálculo del error.*\n",
    "3. *Determina la complejidad del análisis de grandes volúmenes de datos, aplicando técnicas matemáticas para su estudio.*\n",
    "4. *Diseña el esquema básico de un proyecto para resolver un problema dado, distinguiendo los principales elementos de un proyecto de ingeniería.*"
   ]
  }
 ],
 "metadata": {
  "celltoolbar": "Slideshow",
  "kernelspec": {
   "display_name": "Python 3",
   "language": "python",
   "name": "python3"
  },
  "language_info": {
   "codemirror_mode": {
    "name": "ipython",
    "version": 3
   },
   "file_extension": ".py",
   "mimetype": "text/x-python",
   "name": "python",
   "nbconvert_exporter": "python",
   "pygments_lexer": "ipython3",
   "version": "3.7.3"
  }
 },
 "nbformat": 4,
 "nbformat_minor": 4
}
